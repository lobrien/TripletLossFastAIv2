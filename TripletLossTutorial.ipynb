{
 "cells": [
  {
   "cell_type": "markdown",
   "id": "41645725",
   "metadata": {},
   "source": [
    "# Tutorial: TripletLoss for re-identification using FastAI v2\n",
    "\n",
    "This tutorial demonstrates the use of the `TripleLoss` loss function in FastAI v2 (running over Pytorch). TripletLoss is one of the leading ways to match an image (or sound or other signal) with a large database of images, even if there are very few matches for that particular input. Joint-embedding networks (aka Twin or Siamese networks) are a common alternative for this \"low k-shot\" challenge. According to [that article I read](tk), triplet loss outperformed twin networks in all of the tk studies where both approaches were tried. Another option for re-identification is Scale Invariant Feature Transform (SIFT) which is implemented in OpenCV. I haven't seen any papers comparing SIFT and statistical ML techniques in real-world tasks. \n",
    "\n",
    "The tutorial walks you through:\n",
    "\n",
    "- Creating the necessary conda environment\n",
    "- Downloading and expanding the MNIST dataset of handwritten digits\n",
    "- Creating and training a model using triplet loss\n",
    "- Applying this model to a few images of a new glyph (a hand-drawn star)\n",
    "- Finding the closest neighbors to the new images\n",
    "- Visualizing that the model tightly clusters the new glyph\n",
    "- Demonstrating that the model can be used for re-identification of the new glyph\n",
    "\n",
    "MNIST is an easy problem for modern statistical ML, with relatively small data and a small input size. This makes it a good candidate for a tutorial. I will try to highlight the places where you'll need to alter parameters when faced with a more realistic task, like animal re-identification. \n",
    "\n",
    "The code assumes that you have a CUDA-accelerated GPU for training and inferencing. The tutorial runs quickly on a 2080 (about 30 seconds per epoch during training, about 20ms to inference) but runs _much_ slower on a mobile GPU like a GeForce GTX 1650 (30 minutes per epoch on my Surface Book 3). I assume that porting it to CPU wouldn't be difficult, but I think it would be quite slow. If you don't have a local GPU, I'd suggest using a GPU-powered cloud compute resource, such as Azure ML. (Let me know if you'd like to see a tutorial on running this in Azure ML.) \n",
    "\n",
    "## The problem of re-identification\n",
    "\n",
    "Our photo libraries are filled with images of our friends and family. A machine learning model that focuses on \"classification\" can successfully tell us that we have lots of photos of \"smiling man\" or \"smiling woman.\" Such models will not, generally, tell us which photos are of Uncle Al and Aunt Betty. _That_ task -- re-identifying individuals -- is a different problem and requires different approaches.\n",
    "\n",
    "Beyond identifying Uncle Al and Aunt Betty in a photo library, re-identification is a common problem for wildlife biologists. Many species have photographic catalogs taken over years and decades, and many species have some distinctive features that can be used to identify individuals. \n",
    "\n",
    "## Create the Python environment \n",
    "\n",
    "I developed this tutorial on Ubuntu 20.04, Cuda 10.2, PyTorch 1.7, FastAI 2.3. I have to admit that the rigmarole of exactly recreating a GPU-enabled virtual environment is a little beyond me, but I _think_ you have to install CUDA manually and then when you run the `conda create` command below, I _think_ it will download properly-configured versions of the various libraries. \n",
    "\n",
    "Prequisites: \n",
    "1. [Install conda](tk) \n",
    "1. [Install CUDA](tk)\n",
    "\n",
    "1. Clone this repo and change into the directory.\n",
    "1. Create the environment:\n",
    "    ```bash\n",
    "    conda create -f 'conda_environment.yml'\n",
    "    ```\n",
    "1. Activate the environment for use with:\n",
    "   ```bash\n",
    "   conda activate fastai\n",
    "   ```\n",
    "1. Confirm the environment by running:\n",
    "   ```bash\n",
    "   python .\\versions.py\n",
    "   ```\n",
    "Which should result in something similar to:\n",
    "```bash\n",
    "Pytorch : 1.7.0, FastAI : 2.3.1, CUDA? : True\n",
    "```\n",
    "\n",
    "The environment also installs Jupyter. You may need to restart your terminal session to have the `jupyter` in your path. Run:\n",
    "\n",
    "```bash\n",
    "jupyter notebook TripletLossTutorial.ipynb\n",
    "```\n",
    "\n",
    "and continue from there."
   ]
  },
  {
   "cell_type": "markdown",
   "id": "587d736f",
   "metadata": {},
   "source": [
    "# Tutorial: TripletLoss for re-identification using FastAI v2\n",
    "\n",
    "**If you have not done so, please see [README.md](readme.md) for instructions on creating the Python environment for this tutorial.**\n",
    "\n",
    "## Import packages\n",
    "\n",
    "Nothing surprising here, I think. To visualize the output, we're going to use scikit-learn's TSNE implementation. I've heard this isn't the fastest TSNE, but for 10K datapoints and a limited number of dimensions, it's fine. "
   ]
  },
  {
   "cell_type": "code",
   "execution_count": 1,
   "id": "70695725",
   "metadata": {
    "execution": {
     "iopub.execute_input": "2022-08-16T14:41:46.460512Z",
     "iopub.status.busy": "2022-08-16T14:41:46.460222Z",
     "iopub.status.idle": "2022-08-16T14:41:48.380698Z",
     "shell.execute_reply": "2022-08-16T14:41:48.379912Z",
     "shell.execute_reply.started": "2022-08-16T14:41:46.460440Z"
    },
    "tags": []
   },
   "outputs": [],
   "source": [
    "from fastai.vision.all import *\n",
    "\n",
    "import torch\n",
    "import torch.nn as nn\n",
    "from loss_functions.triplet_loss import TripletLoss\n",
    "from scipy import spatial"
   ]
  },
  {
   "cell_type": "code",
   "execution_count": 2,
   "id": "5eee8960",
   "metadata": {
    "execution": {
     "iopub.execute_input": "2022-08-16T14:41:48.382302Z",
     "iopub.status.busy": "2022-08-16T14:41:48.381680Z",
     "iopub.status.idle": "2022-08-16T14:41:48.524368Z",
     "shell.execute_reply": "2022-08-16T14:41:48.523616Z",
     "shell.execute_reply.started": "2022-08-16T14:41:48.382282Z"
    },
    "tags": []
   },
   "outputs": [],
   "source": [
    "%matplotlib inline \n",
    "\n",
    "import matplotlib.pyplot as plt\n",
    "import matplotlib.patches as patches\n",
    "from sklearn.manifold import TSNE\n",
    "from matplotlib import cm\n",
    "from mpl_toolkits.axes_grid1 import ImageGrid"
   ]
  },
  {
   "cell_type": "markdown",
   "id": "eaf5612f",
   "metadata": {},
   "source": [
    "## Confirm versions and CUDA\n",
    "\n",
    "This is just to confirm you're running GPU-accelerated. If you don't have a GPU, I think training will be very slow. (Let me know if I'm wrong!)"
   ]
  },
  {
   "cell_type": "code",
   "execution_count": 3,
   "id": "6db7e95b",
   "metadata": {
    "execution": {
     "iopub.execute_input": "2022-08-16T14:41:48.527268Z",
     "iopub.status.busy": "2022-08-16T14:41:48.526898Z",
     "iopub.status.idle": "2022-08-16T14:41:48.534295Z",
     "shell.execute_reply": "2022-08-16T14:41:48.533289Z",
     "shell.execute_reply.started": "2022-08-16T14:41:48.527224Z"
    },
    "tags": []
   },
   "outputs": [
    {
     "data": {
      "text/plain": [
       "'2.7.9'"
      ]
     },
     "execution_count": 3,
     "metadata": {},
     "output_type": "execute_result"
    }
   ],
   "source": [
    "import fastai\n",
    "fastai.__version__"
   ]
  },
  {
   "cell_type": "code",
   "execution_count": 4,
   "id": "2f72706c",
   "metadata": {
    "execution": {
     "iopub.execute_input": "2022-08-16T14:41:48.535813Z",
     "iopub.status.busy": "2022-08-16T14:41:48.535647Z",
     "iopub.status.idle": "2022-08-16T14:41:48.542632Z",
     "shell.execute_reply": "2022-08-16T14:41:48.541746Z",
     "shell.execute_reply.started": "2022-08-16T14:41:48.535794Z"
    },
    "tags": []
   },
   "outputs": [
    {
     "data": {
      "text/plain": [
       "True"
      ]
     },
     "execution_count": 4,
     "metadata": {},
     "output_type": "execute_result"
    }
   ],
   "source": [
    "torch.cuda.is_available()"
   ]
  },
  {
   "cell_type": "code",
   "execution_count": 5,
   "id": "a6a0b375",
   "metadata": {
    "execution": {
     "iopub.execute_input": "2022-08-16T14:41:48.543545Z",
     "iopub.status.busy": "2022-08-16T14:41:48.543392Z",
     "iopub.status.idle": "2022-08-16T14:41:48.551252Z",
     "shell.execute_reply": "2022-08-16T14:41:48.550088Z",
     "shell.execute_reply.started": "2022-08-16T14:41:48.543525Z"
    },
    "tags": []
   },
   "outputs": [],
   "source": [
    "device = 0\n",
    "torch.cuda.set_device(device)"
   ]
  },
  {
   "cell_type": "markdown",
   "id": "c4ee3875",
   "metadata": {},
   "source": [
    "## Setup the training data\n",
    "\n",
    "The training data for this tutorial is the MNIST dataset of hand-written digits 0-9. The dataset contains 10K PNG images of size 28x28. The PNGs are 3-channel, but all the pixels are grayscale. Dear ol' MNIST.\n",
    "\n",
    "IMAGE TK \n",
    "\n",
    "Now, you're probably used to MNIST as a dataset for _image classification_: \"To which of the trained-on categories ('0'...'9') does this query image most likely belong?\" But for this tutorial, we're using it to learn \"glyph re-identification.\" Our acid test will be seeing if images of a glyph not seen during training (a star) can be re-identified with very few samples (aka \"low shot\").\n",
    "\n",
    "`URLs.MNIST`, `untar_data()`, and `get_image_files()` are from the `fastai.basics` module. The following cell will download, if necessary, the MNIST dataset and unpack it. By default, the data will be stored in `~/.fastai/data`. (It's a good idea to keep track of the size of that directory when fooling around with FastAI! Some of the datasets are _big_!)."
   ]
  },
  {
   "cell_type": "code",
   "execution_count": 6,
   "id": "0963c65b",
   "metadata": {
    "execution": {
     "iopub.execute_input": "2022-08-16T14:41:48.552891Z",
     "iopub.status.busy": "2022-08-16T14:41:48.552479Z",
     "iopub.status.idle": "2022-08-16T14:41:48.883831Z",
     "shell.execute_reply": "2022-08-16T14:41:48.882796Z",
     "shell.execute_reply.started": "2022-08-16T14:41:48.552842Z"
    },
    "tags": []
   },
   "outputs": [],
   "source": [
    "mnist = untar_data(URLs.MNIST)\n",
    "fnames = get_image_files(mnist)"
   ]
  },
  {
   "cell_type": "markdown",
   "id": "e112b04d",
   "metadata": {},
   "source": [
    "Now, `~/.fastai/data/mnist_ping/` contains `testing/` and `training/` directories, which in turn have `0/`, `1/`, `2/`, etc. subdirectories. FastAI v2's `ImageDataLoaders` class can process this typical directory structure and take care of the boilerplate of testing vs. training sets, loading and transforming the images appropriately for processing, etc."
   ]
  },
  {
   "cell_type": "code",
   "execution_count": 7,
   "id": "1dc11dfc",
   "metadata": {
    "execution": {
     "iopub.execute_input": "2022-08-16T14:41:48.884648Z",
     "iopub.status.busy": "2022-08-16T14:41:48.884506Z",
     "iopub.status.idle": "2022-08-16T14:41:52.562095Z",
     "shell.execute_reply": "2022-08-16T14:41:52.561389Z",
     "shell.execute_reply.started": "2022-08-16T14:41:48.884629Z"
    },
    "tags": []
   },
   "outputs": [],
   "source": [
    "# The proper label for an image is the name of the directory it's in. e.g., \"1\" is the proper label for `1/1.png`\n",
    "def label_func(x): return x.parent.name\n",
    "\n",
    "dls = ImageDataLoaders.from_path_func(mnist, fnames, label_func)"
   ]
  },
  {
   "cell_type": "markdown",
   "id": "b3474134",
   "metadata": {},
   "source": [
    "The output of a TripletLoss-based model is an embedding (a vector representing a point in a high-dimensional space). The goal is that each of the dimensions in this embedding space represents a feature in the \"how to tell individuals of this class apart\" solution space. The distance between any two embeddings \n",
    "\n",
    "After training, the model generates embedding values for a query image. \n",
    "\n",
    "In a real-world animal re-identification model, this might be on the order of 128. In the case of MNIST, we can get fine results with just a few output features."
   ]
  },
  {
   "cell_type": "code",
   "execution_count": 8,
   "id": "0653e678",
   "metadata": {
    "execution": {
     "iopub.execute_input": "2022-08-16T14:41:52.563406Z",
     "iopub.status.busy": "2022-08-16T14:41:52.563166Z",
     "iopub.status.idle": "2022-08-16T14:41:52.568242Z",
     "shell.execute_reply": "2022-08-16T14:41:52.567215Z",
     "shell.execute_reply.started": "2022-08-16T14:41:52.563390Z"
    },
    "tags": []
   },
   "outputs": [],
   "source": [
    "# output_embedding_length = 128\n",
    "output_embedding_length = 32"
   ]
  },
  {
   "cell_type": "markdown",
   "id": "33c2448f",
   "metadata": {},
   "source": [
    "To create a TripletLoss-based embedding, we'll start with a standard Convolutional Neural Network using our recently created `dls` `ImageDataLoaders` object, the ResNet34 architecture, and FastAI's (PyTorch's?) TripletLoss function. "
   ]
  },
  {
   "cell_type": "code",
   "execution_count": 9,
   "id": "c7b0afd0",
   "metadata": {
    "execution": {
     "iopub.execute_input": "2022-08-16T14:41:52.569629Z",
     "iopub.status.busy": "2022-08-16T14:41:52.569192Z",
     "iopub.status.idle": "2022-08-16T14:41:52.899501Z",
     "shell.execute_reply": "2022-08-16T14:41:52.898579Z",
     "shell.execute_reply.started": "2022-08-16T14:41:52.569598Z"
    },
    "tags": []
   },
   "outputs": [
    {
     "name": "stderr",
     "output_type": "stream",
     "text": [
      "/home/jav/miniconda3/envs/fastai.v5/lib/python3.10/site-packages/torchvision/models/_utils.py:208: UserWarning: The parameter 'pretrained' is deprecated since 0.13 and will be removed in 0.15, please use 'weights' instead.\n",
      "  warnings.warn(\n",
      "/home/jav/miniconda3/envs/fastai.v5/lib/python3.10/site-packages/torchvision/models/_utils.py:223: UserWarning: Arguments other than a weight enum or `None` for 'weights' are deprecated since 0.13 and will be removed in 0.15. The current behavior is equivalent to passing `weights=ResNet34_Weights.IMAGENET1K_V1`. You can also use `weights=ResNet34_Weights.DEFAULT` to get the most up-to-date weights.\n",
      "  warnings.warn(msg)\n"
     ]
    }
   ],
   "source": [
    "learn = vision_learner(dls, resnet34, metrics=[], loss_func=TripletLoss(device))"
   ]
  },
  {
   "cell_type": "code",
   "execution_count": 10,
   "id": "b53ba4fd",
   "metadata": {
    "execution": {
     "iopub.execute_input": "2022-08-16T14:41:52.900878Z",
     "iopub.status.busy": "2022-08-16T14:41:52.900577Z",
     "iopub.status.idle": "2022-08-16T14:41:52.908761Z",
     "shell.execute_reply": "2022-08-16T14:41:52.907350Z",
     "shell.execute_reply.started": "2022-08-16T14:41:52.900847Z"
    },
    "tags": []
   },
   "outputs": [
    {
     "data": {
      "text/plain": [
       "Sequential(\n",
       "  (0): AdaptiveConcatPool2d(\n",
       "    (ap): AdaptiveAvgPool2d(output_size=1)\n",
       "    (mp): AdaptiveMaxPool2d(output_size=1)\n",
       "  )\n",
       "  (1): Flatten(full=False)\n",
       "  (2): BatchNorm1d(1024, eps=1e-05, momentum=0.1, affine=True, track_running_stats=True)\n",
       "  (3): Dropout(p=0.25, inplace=False)\n",
       "  (4): Linear(in_features=1024, out_features=512, bias=False)\n",
       "  (5): ReLU(inplace=True)\n",
       "  (6): BatchNorm1d(512, eps=1e-05, momentum=0.1, affine=True, track_running_stats=True)\n",
       "  (7): Dropout(p=0.5, inplace=False)\n",
       "  (8): Linear(in_features=512, out_features=10, bias=False)\n",
       ")"
      ]
     },
     "execution_count": 10,
     "metadata": {},
     "output_type": "execute_result"
    }
   ],
   "source": [
    "# learn.model[0] contains the network's \"body\", and model[1] just the head:\n",
    "learn.model[1]"
   ]
  },
  {
   "cell_type": "markdown",
   "id": "8f6a1209",
   "metadata": {},
   "source": [
    "We want to replace the classification head of the ResNet34 architecture with an embedding output.  The `L2_norm` class normalizes the values to the range $ (0.0,1.0) $. "
   ]
  },
  {
   "cell_type": "code",
   "execution_count": 11,
   "id": "aab61b3e",
   "metadata": {
    "execution": {
     "iopub.execute_input": "2022-08-16T14:41:52.910987Z",
     "iopub.status.busy": "2022-08-16T14:41:52.910086Z",
     "iopub.status.idle": "2022-08-16T14:41:52.918685Z",
     "shell.execute_reply": "2022-08-16T14:41:52.917211Z",
     "shell.execute_reply.started": "2022-08-16T14:41:52.910957Z"
    },
    "tags": []
   },
   "outputs": [],
   "source": [
    "class L2_norm(nn.Module):\n",
    "    def __init__(self):\n",
    "        super(L2_norm, self).__init__()\n",
    "\n",
    "    def forward(self, x):\n",
    "        return F.normalize(x, p=2, dim=-1)"
   ]
  },
  {
   "cell_type": "code",
   "execution_count": 12,
   "id": "2428d5fe",
   "metadata": {
    "execution": {
     "iopub.execute_input": "2022-08-16T14:41:52.922975Z",
     "iopub.status.busy": "2022-08-16T14:41:52.922062Z",
     "iopub.status.idle": "2022-08-16T14:41:52.936124Z",
     "shell.execute_reply": "2022-08-16T14:41:52.935125Z",
     "shell.execute_reply.started": "2022-08-16T14:41:52.922946Z"
    },
    "tags": []
   },
   "outputs": [],
   "source": [
    "layers = learn.model[1]\n",
    "learn.model[1] = nn.Sequential(\n",
    "    layers[0], layers[1], layers[2], layers[3], layers[4], layers[5], layers[6], layers[7], \n",
    "    nn.Linear(in_features=512, out_features=output_embedding_length, bias=False), L2_norm()\n",
    ").to(device)\n",
    "    "
   ]
  },
  {
   "cell_type": "code",
   "execution_count": 13,
   "id": "5a6c7671",
   "metadata": {
    "execution": {
     "iopub.execute_input": "2022-08-16T14:41:52.938439Z",
     "iopub.status.busy": "2022-08-16T14:41:52.937975Z",
     "iopub.status.idle": "2022-08-16T14:41:52.951000Z",
     "shell.execute_reply": "2022-08-16T14:41:52.949617Z",
     "shell.execute_reply.started": "2022-08-16T14:41:52.938383Z"
    },
    "tags": []
   },
   "outputs": [
    {
     "data": {
      "text/plain": [
       "Sequential(\n",
       "  (0): AdaptiveConcatPool2d(\n",
       "    (ap): AdaptiveAvgPool2d(output_size=1)\n",
       "    (mp): AdaptiveMaxPool2d(output_size=1)\n",
       "  )\n",
       "  (1): Flatten(full=False)\n",
       "  (2): BatchNorm1d(1024, eps=1e-05, momentum=0.1, affine=True, track_running_stats=True)\n",
       "  (3): Dropout(p=0.25, inplace=False)\n",
       "  (4): Linear(in_features=1024, out_features=512, bias=False)\n",
       "  (5): ReLU(inplace=True)\n",
       "  (6): BatchNorm1d(512, eps=1e-05, momentum=0.1, affine=True, track_running_stats=True)\n",
       "  (7): Dropout(p=0.5, inplace=False)\n",
       "  (8): Linear(in_features=512, out_features=32, bias=False)\n",
       "  (9): L2_norm()\n",
       ")"
      ]
     },
     "execution_count": 13,
     "metadata": {},
     "output_type": "execute_result"
    }
   ],
   "source": [
    "learn.model[1]"
   ]
  },
  {
   "cell_type": "markdown",
   "id": "740c99bc",
   "metadata": {},
   "source": [
    "We now have a model configured for TripletLoss. What happens behind the scene when this model is trained? \n",
    "\n",
    "Basically, the training loop will grab 3 images: a `target` image, a `positive` image, and a `negative` image. The `target` and `positive` are in the same class ('1', '2', '3', etc.) while the `negative` image is in a different class. The basic goal of training is to find weights such that `target` and `positive` have embedding values that are near other while `target` and `negative` have embedding values that are far from each other. \n",
    "\n",
    "If you think about that, _most_ triplets are going to end up being 'easy'; any two random '9's are likely to share several features, while a randomly selected not-9 is unlikely to be \"oh, yeah, that could be a 9.\" So training with just-random triplets is less efficient than training with 'hard' triplets. In a hard triplet, the `positive` and `negative` are as close as possible to the dividing line in \"tell glyphs apart\" embedding space. In an ideal 'hard' triplet with a `target` in class '9', the 'positive' is a '9' image that's close in appearance to a '7' image that could be mistaken for a '9'. Finding hard triplets and using them for training is somewhere between \"valuable\" and \"essential\" in real-world re-identification tasks. \"Triplet mining\" is outside the scope of this tutorial, but you can read more about it [here](tk). "
   ]
  },
  {
   "cell_type": "markdown",
   "id": "a3b71d59",
   "metadata": {},
   "source": [
    "## Training\n",
    "\n",
    "FastAI's `lr_find()` function does a quick sweep of learning rates. Typically, a good learning rate is one where the slope of the `lr_find()` graph is steepest."
   ]
  },
  {
   "cell_type": "code",
   "execution_count": 14,
   "id": "df59ac88",
   "metadata": {
    "execution": {
     "iopub.execute_input": "2022-08-16T14:41:52.952649Z",
     "iopub.status.busy": "2022-08-16T14:41:52.952360Z",
     "iopub.status.idle": "2022-08-16T14:42:00.482668Z",
     "shell.execute_reply": "2022-08-16T14:42:00.481022Z",
     "shell.execute_reply.started": "2022-08-16T14:41:52.952627Z"
    },
    "tags": []
   },
   "outputs": [
    {
     "data": {
      "text/html": [
       "\n",
       "<style>\n",
       "    /* Turns off some styling */\n",
       "    progress {\n",
       "        /* gets rid of default border in Firefox and Opera. */\n",
       "        border: none;\n",
       "        /* Needs to be in here for Safari polyfill so background images work as expected. */\n",
       "        background-size: auto;\n",
       "    }\n",
       "    progress:not([value]), progress:not([value])::-webkit-progress-bar {\n",
       "        background: repeating-linear-gradient(45deg, #7e7e7e, #7e7e7e 10px, #5c5c5c 10px, #5c5c5c 20px);\n",
       "    }\n",
       "    .progress-bar-interrupted, .progress-bar-interrupted::-webkit-progress-bar {\n",
       "        background: #F44336;\n",
       "    }\n",
       "</style>\n"
      ],
      "text/plain": [
       "<IPython.core.display.HTML object>"
      ]
     },
     "metadata": {},
     "output_type": "display_data"
    },
    {
     "data": {
      "text/html": [],
      "text/plain": [
       "<IPython.core.display.HTML object>"
      ]
     },
     "metadata": {},
     "output_type": "display_data"
    },
    {
     "data": {
      "text/plain": [
       "SuggestedLRs(valley=0.009120108559727669)"
      ]
     },
     "execution_count": 14,
     "metadata": {},
     "output_type": "execute_result"
    },
    {
     "data": {
      "image/png": "[encoded data removed]",
      "text/plain": [
       "<Figure size 432x288 with 1 Axes>"
      ]
     },
     "metadata": {
      "needs_background": "light"
     },
     "output_type": "display_data"
    }
   ],
   "source": [
    "learn.lr_find()"
   ]
  },
  {
   "cell_type": "markdown",
   "id": "389dfac7",
   "metadata": {},
   "source": [
    "For tutorial purposes and because MNIST is pretty easy, we're going to use a fast learning rate and few epochs. Real-world data sets won't be so kind!"
   ]
  },
  {
   "cell_type": "code",
   "execution_count": 15,
   "id": "c60ffae1",
   "metadata": {
    "execution": {
     "iopub.execute_input": "2022-08-16T14:42:00.484636Z",
     "iopub.status.busy": "2022-08-16T14:42:00.484365Z",
     "iopub.status.idle": "2022-08-16T14:53:20.088500Z",
     "shell.execute_reply": "2022-08-16T14:53:20.087911Z",
     "shell.execute_reply.started": "2022-08-16T14:42:00.484604Z"
    },
    "tags": []
   },
   "outputs": [
    {
     "data": {
      "text/html": [
       "\n",
       "<style>\n",
       "    /* Turns off some styling */\n",
       "    progress {\n",
       "        /* gets rid of default border in Firefox and Opera. */\n",
       "        border: none;\n",
       "        /* Needs to be in here for Safari polyfill so background images work as expected. */\n",
       "        background-size: auto;\n",
       "    }\n",
       "    progress:not([value]), progress:not([value])::-webkit-progress-bar {\n",
       "        background: repeating-linear-gradient(45deg, #7e7e7e, #7e7e7e 10px, #5c5c5c 10px, #5c5c5c 20px);\n",
       "    }\n",
       "    .progress-bar-interrupted, .progress-bar-interrupted::-webkit-progress-bar {\n",
       "        background: #F44336;\n",
       "    }\n",
       "</style>\n"
      ],
      "text/plain": [
       "<IPython.core.display.HTML object>"
      ]
     },
     "metadata": {},
     "output_type": "display_data"
    },
    {
     "data": {
      "text/html": [
       "<table border=\"1\" class=\"dataframe\">\n",
       "  <thead>\n",
       "    <tr style=\"text-align: left;\">\n",
       "      <th>epoch</th>\n",
       "      <th>train_loss</th>\n",
       "      <th>valid_loss</th>\n",
       "      <th>time</th>\n",
       "    </tr>\n",
       "  </thead>\n",
       "  <tbody>\n",
       "    <tr>\n",
       "      <td>0</td>\n",
       "      <td>0.230185</td>\n",
       "      <td>0.153539</td>\n",
       "      <td>00:33</td>\n",
       "    </tr>\n",
       "    <tr>\n",
       "      <td>1</td>\n",
       "      <td>0.133782</td>\n",
       "      <td>0.131332</td>\n",
       "      <td>00:32</td>\n",
       "    </tr>\n",
       "    <tr>\n",
       "      <td>2</td>\n",
       "      <td>0.117544</td>\n",
       "      <td>0.173046</td>\n",
       "      <td>00:34</td>\n",
       "    </tr>\n",
       "    <tr>\n",
       "      <td>3</td>\n",
       "      <td>0.107722</td>\n",
       "      <td>0.086296</td>\n",
       "      <td>00:34</td>\n",
       "    </tr>\n",
       "    <tr>\n",
       "      <td>4</td>\n",
       "      <td>0.099810</td>\n",
       "      <td>0.091931</td>\n",
       "      <td>00:33</td>\n",
       "    </tr>\n",
       "    <tr>\n",
       "      <td>5</td>\n",
       "      <td>0.085169</td>\n",
       "      <td>0.077105</td>\n",
       "      <td>00:33</td>\n",
       "    </tr>\n",
       "    <tr>\n",
       "      <td>6</td>\n",
       "      <td>0.078655</td>\n",
       "      <td>0.081761</td>\n",
       "      <td>00:33</td>\n",
       "    </tr>\n",
       "    <tr>\n",
       "      <td>7</td>\n",
       "      <td>0.082691</td>\n",
       "      <td>0.098803</td>\n",
       "      <td>00:33</td>\n",
       "    </tr>\n",
       "    <tr>\n",
       "      <td>8</td>\n",
       "      <td>0.047856</td>\n",
       "      <td>0.061368</td>\n",
       "      <td>00:33</td>\n",
       "    </tr>\n",
       "    <tr>\n",
       "      <td>9</td>\n",
       "      <td>0.051574</td>\n",
       "      <td>0.055845</td>\n",
       "      <td>00:34</td>\n",
       "    </tr>\n",
       "    <tr>\n",
       "      <td>10</td>\n",
       "      <td>0.047941</td>\n",
       "      <td>0.052415</td>\n",
       "      <td>00:33</td>\n",
       "    </tr>\n",
       "    <tr>\n",
       "      <td>11</td>\n",
       "      <td>0.044053</td>\n",
       "      <td>0.041516</td>\n",
       "      <td>00:34</td>\n",
       "    </tr>\n",
       "    <tr>\n",
       "      <td>12</td>\n",
       "      <td>0.039671</td>\n",
       "      <td>0.040142</td>\n",
       "      <td>00:33</td>\n",
       "    </tr>\n",
       "    <tr>\n",
       "      <td>13</td>\n",
       "      <td>0.032941</td>\n",
       "      <td>0.034584</td>\n",
       "      <td>00:33</td>\n",
       "    </tr>\n",
       "    <tr>\n",
       "      <td>14</td>\n",
       "      <td>0.030123</td>\n",
       "      <td>0.037169</td>\n",
       "      <td>00:34</td>\n",
       "    </tr>\n",
       "    <tr>\n",
       "      <td>15</td>\n",
       "      <td>0.026035</td>\n",
       "      <td>0.031958</td>\n",
       "      <td>00:34</td>\n",
       "    </tr>\n",
       "    <tr>\n",
       "      <td>16</td>\n",
       "      <td>0.020250</td>\n",
       "      <td>0.030487</td>\n",
       "      <td>00:34</td>\n",
       "    </tr>\n",
       "    <tr>\n",
       "      <td>17</td>\n",
       "      <td>0.013217</td>\n",
       "      <td>0.031991</td>\n",
       "      <td>00:34</td>\n",
       "    </tr>\n",
       "    <tr>\n",
       "      <td>18</td>\n",
       "      <td>0.017142</td>\n",
       "      <td>0.030333</td>\n",
       "      <td>00:34</td>\n",
       "    </tr>\n",
       "    <tr>\n",
       "      <td>19</td>\n",
       "      <td>0.015309</td>\n",
       "      <td>0.027875</td>\n",
       "      <td>00:34</td>\n",
       "    </tr>\n",
       "  </tbody>\n",
       "</table>"
      ],
      "text/plain": [
       "<IPython.core.display.HTML object>"
      ]
     },
     "metadata": {},
     "output_type": "display_data"
    }
   ],
   "source": [
    "epochs = 20\n",
    "model_name = f'{epochs}_epochs_{output_embedding_length}_features'\n",
    "\n",
    "try:\n",
    "    learn = learn.load(model_name)\n",
    "except:\n",
    "    lr = 0.1\n",
    "    epochs = 20\n",
    "    learn.fit_one_cycle(epochs, slice(lr))\n",
    "    learn.save(model_name)"
   ]
  },
  {
   "cell_type": "markdown",
   "id": "0a547b24",
   "metadata": {},
   "source": [
    "## Inferencing\n",
    "\n",
    "To get the output embedding of a `query` image, we just use `learn.predict()` on our trained `Learner: "
   ]
  },
  {
   "cell_type": "code",
   "execution_count": 16,
   "id": "fe76a6b6",
   "metadata": {
    "execution": {
     "iopub.execute_input": "2022-08-16T14:53:20.089983Z",
     "iopub.status.busy": "2022-08-16T14:53:20.089724Z",
     "iopub.status.idle": "2022-08-16T14:53:20.153135Z",
     "shell.execute_reply": "2022-08-16T14:53:20.151996Z",
     "shell.execute_reply.started": "2022-08-16T14:53:20.089931Z"
    },
    "tags": []
   },
   "outputs": [
    {
     "data": {
      "text/html": [
       "\n",
       "<style>\n",
       "    /* Turns off some styling */\n",
       "    progress {\n",
       "        /* gets rid of default border in Firefox and Opera. */\n",
       "        border: none;\n",
       "        /* Needs to be in here for Safari polyfill so background images work as expected. */\n",
       "        background-size: auto;\n",
       "    }\n",
       "    progress:not([value]), progress:not([value])::-webkit-progress-bar {\n",
       "        background: repeating-linear-gradient(45deg, #7e7e7e, #7e7e7e 10px, #5c5c5c 10px, #5c5c5c 20px);\n",
       "    }\n",
       "    .progress-bar-interrupted, .progress-bar-interrupted::-webkit-progress-bar {\n",
       "        background: #F44336;\n",
       "    }\n",
       "</style>\n"
      ],
      "text/plain": [
       "<IPython.core.display.HTML object>"
      ]
     },
     "metadata": {},
     "output_type": "display_data"
    },
    {
     "data": {
      "text/html": [],
      "text/plain": [
       "<IPython.core.display.HTML object>"
      ]
     },
     "metadata": {},
     "output_type": "display_data"
    },
    {
     "name": "stdout",
     "output_type": "stream",
     "text": [
      "[-0.4385764   0.07380641  0.23816751  0.29184356 -0.14723992  0.34137195\n",
      "  0.06991758  0.33740816  0.09130197 -0.22511393  0.21159591  0.10746336\n",
      "  0.16765437  0.21437302  0.12018973 -0.16545856 -0.18934958 -0.07480964\n",
      " -0.08150642 -0.17008734 -0.12432582 -0.08482609 -0.01266793 -0.02727649\n",
      "  0.11497439  0.17786284 -0.03590712  0.02044249  0.03340663  0.02261158\n",
      "  0.08458877 -0.12734443]\n"
     ]
    }
   ],
   "source": [
    "query_img = PILImage.create('stars/Star1.png')\n",
    "result = learn.predict(query_img)\n",
    "query_fingerprint = result[1].numpy()\n",
    "print(query_fingerprint)"
   ]
  },
  {
   "cell_type": "markdown",
   "id": "ee3680b4",
   "metadata": {},
   "source": [
    "### Fingerprinting the exemplars\n",
    "\n",
    "Create the database to which we will compare `query_fingerprint`:    "
   ]
  },
  {
   "cell_type": "code",
   "execution_count": 17,
   "id": "4117ef00",
   "metadata": {
    "execution": {
     "iopub.execute_input": "2022-08-16T14:53:20.155352Z",
     "iopub.status.busy": "2022-08-16T14:53:20.154422Z",
     "iopub.status.idle": "2022-08-16T14:53:20.296253Z",
     "shell.execute_reply": "2022-08-16T14:53:20.295284Z",
     "shell.execute_reply.started": "2022-08-16T14:53:20.155324Z"
    },
    "tags": []
   },
   "outputs": [
    {
     "data": {
      "text/plain": [
       "10000"
      ]
     },
     "execution_count": 17,
     "metadata": {},
     "output_type": "execute_result"
    }
   ],
   "source": [
    "fnames = list(Path(mnist/'testing').rglob('*.png'))\n",
    "len(fnames)"
   ]
  },
  {
   "cell_type": "code",
   "execution_count": 18,
   "id": "afdbf8b5",
   "metadata": {
    "execution": {
     "iopub.execute_input": "2022-08-16T14:53:20.297508Z",
     "iopub.status.busy": "2022-08-16T14:53:20.297357Z",
     "iopub.status.idle": "2022-08-16T14:53:20.304989Z",
     "shell.execute_reply": "2022-08-16T14:53:20.303860Z",
     "shell.execute_reply.started": "2022-08-16T14:53:20.297490Z"
    },
    "tags": []
   },
   "outputs": [
    {
     "data": {
      "text/plain": [
       "Path('/home/jav/.fastai/data/mnist_png/testing/4/7818.png')"
      ]
     },
     "execution_count": 18,
     "metadata": {},
     "output_type": "execute_result"
    }
   ],
   "source": [
    "fnames[0]"
   ]
  },
  {
   "cell_type": "code",
   "execution_count": 19,
   "id": "d83ab8c7-b1fb-49c7-b4b0-f0a84c9d1afd",
   "metadata": {
    "execution": {
     "iopub.execute_input": "2022-08-16T14:53:20.306646Z",
     "iopub.status.busy": "2022-08-16T14:53:20.306168Z",
     "iopub.status.idle": "2022-08-16T14:56:21.595099Z",
     "shell.execute_reply": "2022-08-16T14:56:21.593759Z",
     "shell.execute_reply.started": "2022-08-16T14:53:20.306621Z"
    },
    "tags": [
     "hide-output"
    ]
   },
   "outputs": [
    {
     "data": {
      "text/html": [
       "\n",
       "<style>\n",
       "    /* Turns off some styling */\n",
       "    progress {\n",
       "        /* gets rid of default border in Firefox and Opera. */\n",
       "        border: none;\n",
       "        /* Needs to be in here for Safari polyfill so background images work as expected. */\n",
       "        background-size: auto;\n",
       "    }\n",
       "    progress:not([value]), progress:not([value])::-webkit-progress-bar {\n",
       "        background: repeating-linear-gradient(45deg, #7e7e7e, #7e7e7e 10px, #5c5c5c 10px, #5c5c5c 20px);\n",
       "    }\n",
       "    .progress-bar-interrupted, .progress-bar-interrupted::-webkit-progress-bar {\n",
       "        background: #F44336;\n",
       "    }\n",
       "</style>\n"
      ],
      "text/plain": [
       "<IPython.core.display.HTML object>"
      ]
     },
     "metadata": {},
     "output_type": "display_data"
    },
    {
     "data": {
      "text/html": [
       "\n",
       "    <div>\n",
       "      <progress value='10000' class='' max='10000' style='width:300px; height:20px; vertical-align: middle;'></progress>\n",
       "      100.00% [10000/10000 03:01&lt;00:00]\n",
       "    </div>\n",
       "    "
      ],
      "text/plain": [
       "<IPython.core.display.HTML object>"
      ]
     },
     "metadata": {},
     "output_type": "display_data"
    }
   ],
   "source": [
    "def fingerprint_all(fnames):\n",
    "    fingerprints = {}\n",
    "    for f in progress_bar(fnames):\n",
    "        category = label_func(f)\n",
    "        img = PILImage.create(f)\n",
    "        with learn.no_bar():\n",
    "            result = learn.predict(img)\n",
    "        fingerprint = result[1].numpy()\n",
    "        fingerprints[(category,f)] = fingerprint\n",
    "    return fingerprints\n",
    "\n",
    "fingerprint_db = fingerprint_all(fnames)"
   ]
  },
  {
   "cell_type": "markdown",
   "id": "d7f9cdbf",
   "metadata": {},
   "source": [
    "## Nearest k-neighbors\n",
    "\n",
    "Because our embedding values are normalized, finding the nearest k-neighbors is trivial:"
   ]
  },
  {
   "cell_type": "code",
   "execution_count": 20,
   "id": "2390d32b",
   "metadata": {
    "execution": {
     "iopub.execute_input": "2022-08-16T14:56:21.597114Z",
     "iopub.status.busy": "2022-08-16T14:56:21.596598Z",
     "iopub.status.idle": "2022-08-16T14:56:21.601895Z",
     "shell.execute_reply": "2022-08-16T14:56:21.600955Z",
     "shell.execute_reply.started": "2022-08-16T14:56:21.597067Z"
    },
    "tags": []
   },
   "outputs": [],
   "source": [
    "# Find k nearest neighbour using cosine similarity. Normalized vectors, so easy...\n",
    "def find_k_nearest_neighbors(vectors,vec,k):\n",
    "    dist_arr = np.matmul(vectors, vec.T)\n",
    "    return np.argsort(-dist_arr.flatten())[:k]\n"
   ]
  },
  {
   "cell_type": "code",
   "execution_count": 21,
   "id": "09966276",
   "metadata": {
    "execution": {
     "iopub.execute_input": "2022-08-16T14:56:21.603602Z",
     "iopub.status.busy": "2022-08-16T14:56:21.603011Z",
     "iopub.status.idle": "2022-08-16T14:56:21.689074Z",
     "shell.execute_reply": "2022-08-16T14:56:21.688191Z",
     "shell.execute_reply.started": "2022-08-16T14:56:21.603583Z"
    },
    "scrolled": true,
    "tags": []
   },
   "outputs": [
    {
     "data": {
      "image/png": "[encoded data removed]",
      "text/plain": [
       "<PIL.PngImagePlugin.PngImageFile image mode=L size=28x28>"
      ]
     },
     "metadata": {},
     "output_type": "display_data"
    },
    {
     "data": {
      "text/plain": [
       "['8',\n",
       " Path('/home/jav/.fastai/data/mnist_png/testing/8/5876.png'),\n",
       " 0.03822958469390869,\n",
       " array([-3.68332297e-01,  1.58202797e-01,  2.95534283e-01,  2.31184542e-01,\n",
       "        -1.78733289e-01,  3.77019674e-01,  1.26442909e-01,  3.05077612e-01,\n",
       "         7.04605654e-02, -2.33200312e-01,  2.21860155e-01,  1.09218769e-01,\n",
       "         1.93249613e-01,  2.20926225e-01,  1.08081222e-01, -2.30418533e-01,\n",
       "        -2.20318958e-01, -8.47602636e-02, -5.90615310e-02, -1.71346053e-01,\n",
       "        -7.63074979e-02,  3.74966156e-04,  6.62550181e-02, -1.17210075e-01,\n",
       "         1.17863484e-01,  1.04648709e-01,  3.06050368e-02,  2.86547444e-03,\n",
       "        -1.30512118e-02,  3.01726423e-02,  4.46750410e-02, -5.05277514e-02],\n",
       "       dtype=float32)]"
      ]
     },
     "metadata": {},
     "output_type": "display_data"
    },
    {
     "data": {
      "image/png": "[encoded data removed]",
      "text/plain": [
       "<PIL.PngImagePlugin.PngImageFile image mode=L size=28x28>"
      ]
     },
     "metadata": {},
     "output_type": "display_data"
    },
    {
     "data": {
      "text/plain": [
       "['8',\n",
       " Path('/home/jav/.fastai/data/mnist_png/testing/8/2111.png'),\n",
       " 0.04001057147979736,\n",
       " array([-0.36306724,  0.13900602,  0.2915186 ,  0.22999087, -0.16271171,\n",
       "         0.37451634,  0.12117532,  0.30122486,  0.05905059, -0.24575944,\n",
       "         0.2301542 ,  0.12598327,  0.18955672,  0.2393089 ,  0.11471233,\n",
       "        -0.25408018, -0.21603131, -0.07120273, -0.05722496, -0.16591428,\n",
       "        -0.06492431, -0.00286971,  0.04813105, -0.1218137 ,  0.11783452,\n",
       "         0.09741097,  0.03107424,  0.02289542, -0.02657417,  0.03526381,\n",
       "         0.04927958, -0.04491814], dtype=float32)]"
      ]
     },
     "metadata": {},
     "output_type": "display_data"
    },
    {
     "data": {
      "image/png": "[encoded data removed]",
      "text/plain": [
       "<PIL.PngImagePlugin.PngImageFile image mode=L size=28x28>"
      ]
     },
     "metadata": {},
     "output_type": "display_data"
    },
    {
     "data": {
      "text/plain": [
       "['8',\n",
       " Path('/home/jav/.fastai/data/mnist_png/testing/8/6629.png'),\n",
       " 0.04018741846084595,\n",
       " array([-0.37598267,  0.14729178,  0.29981396,  0.23184597, -0.17113245,\n",
       "         0.3693326 ,  0.12197712,  0.29893762,  0.0649836 , -0.23279262,\n",
       "         0.22444412,  0.11953775,  0.19433382,  0.23397318,  0.10269549,\n",
       "        -0.23896007, -0.21337178, -0.08672515, -0.05094349, -0.16870372,\n",
       "        -0.06659477,  0.00362819,  0.0638281 , -0.12545557,  0.12865227,\n",
       "         0.0933653 ,  0.0260153 ,  0.00819198, -0.01368039,  0.03658072,\n",
       "         0.04711308, -0.04478485], dtype=float32)]"
      ]
     },
     "metadata": {},
     "output_type": "display_data"
    },
    {
     "data": {
      "image/png": "[encoded data removed]",
      "text/plain": [
       "<PIL.PngImagePlugin.PngImageFile image mode=L size=28x28>"
      ]
     },
     "metadata": {},
     "output_type": "display_data"
    },
    {
     "data": {
      "text/plain": [
       "['8',\n",
       " Path('/home/jav/.fastai/data/mnist_png/testing/8/401.png'),\n",
       " 0.04267317056655884,\n",
       " array([-0.3635762 ,  0.15103394,  0.30694067,  0.23331632, -0.16829519,\n",
       "         0.36755362,  0.11850319,  0.29123622,  0.06036897, -0.2427889 ,\n",
       "         0.22272967,  0.117998  ,  0.19722615,  0.23765899,  0.10490257,\n",
       "        -0.24492508, -0.21673615, -0.06731602, -0.05699643, -0.1654917 ,\n",
       "        -0.05789862, -0.00133317,  0.04790812, -0.13276196,  0.14030954,\n",
       "         0.09052319,  0.03237328,  0.0209347 , -0.01486127,  0.03653141,\n",
       "         0.05588738, -0.0459619 ], dtype=float32)]"
      ]
     },
     "metadata": {},
     "output_type": "display_data"
    },
    {
     "data": {
      "image/png": "[encoded data removed]",
      "text/plain": [
       "<PIL.PngImagePlugin.PngImageFile image mode=L size=28x28>"
      ]
     },
     "metadata": {},
     "output_type": "display_data"
    },
    {
     "data": {
      "text/plain": [
       "['8',\n",
       " Path('/home/jav/.fastai/data/mnist_png/testing/8/631.png'),\n",
       " 0.04328185319900513,\n",
       " array([-0.35765868,  0.15655084,  0.2932479 ,  0.23065555, -0.1714703 ,\n",
       "         0.37198526,  0.12562305,  0.30216062,  0.06489266, -0.23358652,\n",
       "         0.23316738,  0.11417682,  0.194542  ,  0.234649  ,  0.11020373,\n",
       "        -0.23875116, -0.2214867 , -0.07838724, -0.05085449, -0.16527662,\n",
       "        -0.06611587,  0.00831954,  0.05939326, -0.12688471,  0.13511713,\n",
       "         0.09956309,  0.03122707,  0.00056342, -0.02943123,  0.03529185,\n",
       "         0.05423586, -0.04379964], dtype=float32)]"
      ]
     },
     "metadata": {},
     "output_type": "display_data"
    },
    {
     "data": {
      "image/png": "[encoded data removed]",
      "text/plain": [
       "<PIL.PngImagePlugin.PngImageFile image mode=L size=28x28>"
      ]
     },
     "metadata": {},
     "output_type": "display_data"
    },
    {
     "data": {
      "text/plain": [
       "['8',\n",
       " Path('/home/jav/.fastai/data/mnist_png/testing/8/2213.png'),\n",
       " 0.043420612812042236,\n",
       " array([-0.36173356,  0.15118621,  0.29811877,  0.22328272, -0.17127284,\n",
       "         0.37576228,  0.1278009 ,  0.2878798 ,  0.07162137, -0.23225948,\n",
       "         0.23361638,  0.11763023,  0.19491744,  0.22889662,  0.10453572,\n",
       "        -0.2426079 , -0.22669537, -0.06324654, -0.06669908, -0.18271776,\n",
       "        -0.06520734,  0.01194281,  0.04815498, -0.12896037,  0.12580338,\n",
       "         0.10066501,  0.04210657,  0.01241063, -0.01730939,  0.02693971,\n",
       "         0.04445782, -0.05199178], dtype=float32)]"
      ]
     },
     "metadata": {},
     "output_type": "display_data"
    },
    {
     "data": {
      "image/png": "[encoded data removed]",
      "text/plain": [
       "<PIL.PngImagePlugin.PngImageFile image mode=L size=28x28>"
      ]
     },
     "metadata": {},
     "output_type": "display_data"
    },
    {
     "data": {
      "text/plain": [
       "['8',\n",
       " Path('/home/jav/.fastai/data/mnist_png/testing/8/5075.png'),\n",
       " 0.04345858097076416,\n",
       " array([-0.36603835,  0.13809067,  0.30036038,  0.22559561, -0.15871654,\n",
       "         0.37045795,  0.11207646,  0.28772548,  0.06201591, -0.23874035,\n",
       "         0.23705716,  0.13031502,  0.19684488,  0.23974243,  0.10817204,\n",
       "        -0.2554767 , -0.21949022, -0.04996233, -0.06158025, -0.17326577,\n",
       "        -0.0524784 , -0.00420228,  0.02706013, -0.13724124,  0.13671991,\n",
       "         0.08337338,  0.02953451,  0.04146313, -0.01712115,  0.02942331,\n",
       "         0.05245205, -0.04330927], dtype=float32)]"
      ]
     },
     "metadata": {},
     "output_type": "display_data"
    },
    {
     "data": {
      "image/png": "[encoded data removed]",
      "text/plain": [
       "<PIL.PngImagePlugin.PngImageFile image mode=L size=28x28>"
      ]
     },
     "metadata": {},
     "output_type": "display_data"
    },
    {
     "data": {
      "text/plain": [
       "['8',\n",
       " Path('/home/jav/.fastai/data/mnist_png/testing/8/5041.png'),\n",
       " 0.04408001899719238,\n",
       " array([-0.37792206,  0.14327739,  0.29588518,  0.22205108, -0.15390421,\n",
       "         0.375913  ,  0.12836885,  0.28317535,  0.06273706, -0.24125488,\n",
       "         0.23851702,  0.1158187 ,  0.19479631,  0.23465155,  0.08906908,\n",
       "        -0.24843045, -0.21785651, -0.05798931, -0.06816064, -0.1762644 ,\n",
       "        -0.0602752 ,  0.00266467,  0.04674225, -0.12965332,  0.13261664,\n",
       "         0.09208895,  0.03854197,  0.01601067, -0.02715193,  0.03724685,\n",
       "         0.04685879, -0.04149384], dtype=float32)]"
      ]
     },
     "metadata": {},
     "output_type": "display_data"
    },
    {
     "data": {
      "image/png": "[encoded data removed]",
      "text/plain": [
       "<PIL.PngImagePlugin.PngImageFile image mode=L size=28x28>"
      ]
     },
     "metadata": {},
     "output_type": "display_data"
    },
    {
     "data": {
      "text/plain": [
       "['8',\n",
       " Path('/home/jav/.fastai/data/mnist_png/testing/8/3674.png'),\n",
       " 0.044481873512268066,\n",
       " array([-0.3735578 ,  0.13674317,  0.28267494,  0.22327714, -0.16084382,\n",
       "         0.37290594,  0.12527774,  0.2872721 ,  0.05434507, -0.24710833,\n",
       "         0.23781857,  0.12222282,  0.1894053 ,  0.24195391,  0.10637863,\n",
       "        -0.25438133, -0.21751533, -0.06105465, -0.07418441, -0.17454109,\n",
       "        -0.06548575,  0.00978926,  0.04441009, -0.12333474,  0.12435462,\n",
       "         0.0965028 ,  0.05425693,  0.00577618, -0.04075005,  0.03111848,\n",
       "         0.04606702, -0.04257673], dtype=float32)]"
      ]
     },
     "metadata": {},
     "output_type": "display_data"
    },
    {
     "data": {
      "image/png": "[encoded data removed]",
      "text/plain": [
       "<PIL.PngImagePlugin.PngImageFile image mode=L size=28x28>"
      ]
     },
     "metadata": {},
     "output_type": "display_data"
    },
    {
     "data": {
      "text/plain": [
       "['8',\n",
       " Path('/home/jav/.fastai/data/mnist_png/testing/8/4117.png'),\n",
       " 0.045124828815460205,\n",
       " array([-0.35156298,  0.16355656,  0.30134732,  0.22667001, -0.17924194,\n",
       "         0.37603086,  0.12719253,  0.30152017,  0.07219735, -0.23419859,\n",
       "         0.22553216,  0.11478238,  0.19514334,  0.22200024,  0.11441004,\n",
       "        -0.23573409, -0.22461611, -0.0799832 , -0.05228319, -0.17153245,\n",
       "        -0.06698789,  0.01053997,  0.06450619, -0.12811044,  0.12589845,\n",
       "         0.10002032,  0.03342265,  0.00417014, -0.02135291,  0.03006814,\n",
       "         0.04590758, -0.04563618], dtype=float32)]"
      ]
     },
     "metadata": {},
     "output_type": "display_data"
    }
   ],
   "source": [
    "## Put it together\n",
    "\n",
    "def best_match_mnist(fingerprint_db, fingerprint, k, display_data=False):\n",
    "    fps = list(fingerprint_db.values())\n",
    "    keys = list(fingerprint_db.keys())\n",
    "    match_indices = find_k_nearest_neighbors(fps,fingerprint,k)\n",
    "    for i in match_indices:\n",
    "        match_fp = fps[i]\n",
    "        distance = spatial.distance.cosine(match_fp, fingerprint)\n",
    "        if display_data:\n",
    "            display(Image.open(keys[i][1]))    \n",
    "            display([keys[i][0], keys[i][1], distance, match_fp])\n",
    "        yield (keys[i], distance)\n",
    "        \n",
    "list(best_match_mnist(fingerprint_db, query_fingerprint, 10, display_data=True));"
   ]
  },
  {
   "cell_type": "code",
   "execution_count": 22,
   "id": "c31c0e03",
   "metadata": {
    "execution": {
     "iopub.execute_input": "2022-08-16T14:56:21.691329Z",
     "iopub.status.busy": "2022-08-16T14:56:21.690215Z",
     "iopub.status.idle": "2022-08-16T14:56:21.696248Z",
     "shell.execute_reply": "2022-08-16T14:56:21.695555Z",
     "shell.execute_reply.started": "2022-08-16T14:56:21.691284Z"
    },
    "scrolled": true,
    "tags": []
   },
   "outputs": [],
   "source": [
    "def fingerprint_file(path, display_data=False) :\n",
    "    img = PILImage.create(path)\n",
    "    result = learn.predict(img)\n",
    "    fingerprint = result[1].numpy()\n",
    "    if display_data:\n",
    "        display(img)\n",
    "    return fingerprint"
   ]
  },
  {
   "cell_type": "code",
   "execution_count": 23,
   "id": "c2342ec7",
   "metadata": {
    "execution": {
     "iopub.execute_input": "2022-08-16T14:56:21.698136Z",
     "iopub.status.busy": "2022-08-16T14:56:21.697643Z",
     "iopub.status.idle": "2022-08-16T14:56:21.825821Z",
     "shell.execute_reply": "2022-08-16T14:56:21.824840Z",
     "shell.execute_reply.started": "2022-08-16T14:56:21.698111Z"
    },
    "tags": []
   },
   "outputs": [
    {
     "data": {
      "text/html": [
       "\n",
       "<style>\n",
       "    /* Turns off some styling */\n",
       "    progress {\n",
       "        /* gets rid of default border in Firefox and Opera. */\n",
       "        border: none;\n",
       "        /* Needs to be in here for Safari polyfill so background images work as expected. */\n",
       "        background-size: auto;\n",
       "    }\n",
       "    progress:not([value]), progress:not([value])::-webkit-progress-bar {\n",
       "        background: repeating-linear-gradient(45deg, #7e7e7e, #7e7e7e 10px, #5c5c5c 10px, #5c5c5c 20px);\n",
       "    }\n",
       "    .progress-bar-interrupted, .progress-bar-interrupted::-webkit-progress-bar {\n",
       "        background: #F44336;\n",
       "    }\n",
       "</style>\n"
      ],
      "text/plain": [
       "<IPython.core.display.HTML object>"
      ]
     },
     "metadata": {},
     "output_type": "display_data"
    },
    {
     "data": {
      "text/html": [],
      "text/plain": [
       "<IPython.core.display.HTML object>"
      ]
     },
     "metadata": {},
     "output_type": "display_data"
    },
    {
     "data": {
      "image/png": "[encoded data removed]",
      "text/plain": [
       "PILImage mode=RGB size=28x28"
      ]
     },
     "metadata": {},
     "output_type": "display_data"
    },
    {
     "data": {
      "image/png": "[encoded data removed]",
      "text/plain": [
       "<PIL.PngImagePlugin.PngImageFile image mode=L size=28x28>"
      ]
     },
     "metadata": {},
     "output_type": "display_data"
    },
    {
     "data": {
      "text/plain": [
       "['4',\n",
       " Path('/home/jav/.fastai/data/mnist_png/testing/4/8092.png'),\n",
       " 0.004058778285980225,\n",
       " array([ 0.35101184,  0.18533671,  0.16524565, -0.11336396,  0.18572807,\n",
       "         0.13833165,  0.09430952, -0.26853022, -0.02952386, -0.14158921,\n",
       "         0.16469279, -0.06736279,  0.04023446, -0.01805294, -0.14961053,\n",
       "         0.0477204 , -0.0230393 ,  0.34078282,  0.04045871,  0.09477866,\n",
       "         0.24635829, -0.16606495, -0.08622643,  0.07870639,  0.28628054,\n",
       "         0.08384995, -0.27257052,  0.00209487,  0.12181175,  0.30333257,\n",
       "         0.2903119 ,  0.06974767], dtype=float32)]"
      ]
     },
     "metadata": {},
     "output_type": "display_data"
    },
    {
     "data": {
      "image/png": "[encoded data removed]",
      "text/plain": [
       "<PIL.PngImagePlugin.PngImageFile image mode=L size=28x28>"
      ]
     },
     "metadata": {},
     "output_type": "display_data"
    },
    {
     "data": {
      "text/plain": [
       "['4',\n",
       " Path('/home/jav/.fastai/data/mnist_png/testing/4/6.png'),\n",
       " 0.005051672458648682,\n",
       " array([ 0.34555405,  0.22738989,  0.15732606, -0.1116602 ,  0.1947659 ,\n",
       "         0.1581947 ,  0.13127914, -0.28170913, -0.01372535, -0.18691546,\n",
       "         0.177644  , -0.08506849,  0.04331097, -0.03862855, -0.15377352,\n",
       "         0.06774145, -0.0231163 ,  0.34597585,  0.01029764,  0.07634851,\n",
       "         0.21663545, -0.17285186, -0.03970082,  0.07124569,  0.27594832,\n",
       "         0.10873641, -0.22802049, -0.03993862,  0.10257587,  0.2943967 ,\n",
       "         0.2667779 ,  0.08390071], dtype=float32)]"
      ]
     },
     "metadata": {},
     "output_type": "display_data"
    },
    {
     "data": {
      "image/png": "[encoded data removed]",
      "text/plain": [
       "<PIL.PngImagePlugin.PngImageFile image mode=L size=28x28>"
      ]
     },
     "metadata": {},
     "output_type": "display_data"
    },
    {
     "data": {
      "text/plain": [
       "['4',\n",
       " Path('/home/jav/.fastai/data/mnist_png/testing/4/9735.png'),\n",
       " 0.005072355270385742,\n",
       " array([ 0.3546063 ,  0.20625214,  0.13958235, -0.1208517 ,  0.20023637,\n",
       "         0.15975833,  0.11960027, -0.2959247 , -0.0182486 , -0.16848847,\n",
       "         0.16700178, -0.08251458,  0.02984622, -0.03509723, -0.17104702,\n",
       "         0.07715525, -0.01949359,  0.33795583,  0.02228224,  0.05824993,\n",
       "         0.23206739, -0.17951529, -0.03309315,  0.08179015,  0.26944944,\n",
       "         0.10041799, -0.23446746, -0.03871253,  0.11144841,  0.29369944,\n",
       "         0.26541716,  0.09351192], dtype=float32)]"
      ]
     },
     "metadata": {},
     "output_type": "display_data"
    },
    {
     "data": {
      "image/png": "[encoded data removed]",
      "text/plain": [
       "<PIL.PngImagePlugin.PngImageFile image mode=L size=28x28>"
      ]
     },
     "metadata": {},
     "output_type": "display_data"
    },
    {
     "data": {
      "text/plain": [
       "['4',\n",
       " Path('/home/jav/.fastai/data/mnist_png/testing/4/2090.png'),\n",
       " 0.005557060241699219,\n",
       " array([ 0.31982094,  0.21720451,  0.1678011 , -0.0860101 ,  0.18208975,\n",
       "         0.16532831,  0.11594524, -0.2803289 , -0.0105318 , -0.15397614,\n",
       "         0.17849222, -0.08234603,  0.04110044, -0.02986524, -0.17142963,\n",
       "         0.0846343 , -0.01117415,  0.3492195 ,  0.01880621,  0.0693465 ,\n",
       "         0.22212014, -0.17916133, -0.05271771,  0.09398133,  0.28751895,\n",
       "         0.09113014, -0.25812957, -0.04705611,  0.13254696,  0.284317  ,\n",
       "         0.2771674 ,  0.07442302], dtype=float32)]"
      ]
     },
     "metadata": {},
     "output_type": "display_data"
    },
    {
     "data": {
      "image/png": "[encoded data removed]",
      "text/plain": [
       "<PIL.PngImagePlugin.PngImageFile image mode=L size=28x28>"
      ]
     },
     "metadata": {},
     "output_type": "display_data"
    },
    {
     "data": {
      "text/plain": [
       "['4',\n",
       " Path('/home/jav/.fastai/data/mnist_png/testing/4/7520.png'),\n",
       " 0.005947589874267578,\n",
       " array([ 0.37265083,  0.19375034,  0.145137  , -0.13830844,  0.2098684 ,\n",
       "         0.15132366,  0.10631462, -0.27915317, -0.02292181, -0.17636226,\n",
       "         0.16750936, -0.08195923,  0.03583243, -0.05059244, -0.16483949,\n",
       "         0.06027673, -0.01851156,  0.33573258,  0.0304315 ,  0.06812224,\n",
       "         0.22151642, -0.18008788, -0.05873222,  0.06483659,  0.2631307 ,\n",
       "         0.09355738, -0.25799656, -0.00271306,  0.11256584,  0.2984441 ,\n",
       "         0.24904355,  0.10033774], dtype=float32)]"
      ]
     },
     "metadata": {},
     "output_type": "display_data"
    }
   ],
   "source": [
    "fp4 = fingerprint_file('media/4.png', display_data=True)\n",
    "list(best_match_mnist(fingerprint_db, fp4, 5, display_data=True));"
   ]
  },
  {
   "cell_type": "markdown",
   "id": "dc0fd289-f539-463d-aa71-aa721540ec0a",
   "metadata": {},
   "source": [
    "# Finding Stars\n",
    "\n",
    "Even though stars are not in the mnist dataset, if we have good embeddings, the starts should probably be close together, maybe even be the closest embedding to each other.\n",
    "\n",
    "The embeddings do seem to be close to each other:"
   ]
  },
  {
   "cell_type": "code",
   "execution_count": 24,
   "id": "4d44ee49",
   "metadata": {
    "execution": {
     "iopub.execute_input": "2022-08-16T14:56:21.827650Z",
     "iopub.status.busy": "2022-08-16T14:56:21.827360Z",
     "iopub.status.idle": "2022-08-16T14:56:21.979122Z",
     "shell.execute_reply": "2022-08-16T14:56:21.978111Z",
     "shell.execute_reply.started": "2022-08-16T14:56:21.827625Z"
    },
    "tags": []
   },
   "outputs": [
    {
     "data": {
      "text/html": [
       "\n",
       "<style>\n",
       "    /* Turns off some styling */\n",
       "    progress {\n",
       "        /* gets rid of default border in Firefox and Opera. */\n",
       "        border: none;\n",
       "        /* Needs to be in here for Safari polyfill so background images work as expected. */\n",
       "        background-size: auto;\n",
       "    }\n",
       "    progress:not([value]), progress:not([value])::-webkit-progress-bar {\n",
       "        background: repeating-linear-gradient(45deg, #7e7e7e, #7e7e7e 10px, #5c5c5c 10px, #5c5c5c 20px);\n",
       "    }\n",
       "    .progress-bar-interrupted, .progress-bar-interrupted::-webkit-progress-bar {\n",
       "        background: #F44336;\n",
       "    }\n",
       "</style>\n"
      ],
      "text/plain": [
       "<IPython.core.display.HTML object>"
      ]
     },
     "metadata": {},
     "output_type": "display_data"
    },
    {
     "data": {
      "text/html": [],
      "text/plain": [
       "<IPython.core.display.HTML object>"
      ]
     },
     "metadata": {},
     "output_type": "display_data"
    },
    {
     "data": {
      "image/png": "[encoded data removed]",
      "text/plain": [
       "PILImage mode=RGB size=28x28"
      ]
     },
     "metadata": {},
     "output_type": "display_data"
    },
    {
     "data": {
      "text/html": [
       "\n",
       "<style>\n",
       "    /* Turns off some styling */\n",
       "    progress {\n",
       "        /* gets rid of default border in Firefox and Opera. */\n",
       "        border: none;\n",
       "        /* Needs to be in here for Safari polyfill so background images work as expected. */\n",
       "        background-size: auto;\n",
       "    }\n",
       "    progress:not([value]), progress:not([value])::-webkit-progress-bar {\n",
       "        background: repeating-linear-gradient(45deg, #7e7e7e, #7e7e7e 10px, #5c5c5c 10px, #5c5c5c 20px);\n",
       "    }\n",
       "    .progress-bar-interrupted, .progress-bar-interrupted::-webkit-progress-bar {\n",
       "        background: #F44336;\n",
       "    }\n",
       "</style>\n"
      ],
      "text/plain": [
       "<IPython.core.display.HTML object>"
      ]
     },
     "metadata": {},
     "output_type": "display_data"
    },
    {
     "data": {
      "text/html": [],
      "text/plain": [
       "<IPython.core.display.HTML object>"
      ]
     },
     "metadata": {},
     "output_type": "display_data"
    },
    {
     "data": {
      "image/png": "[encoded data removed]",
      "text/plain": [
       "PILImage mode=RGB size=28x28"
      ]
     },
     "metadata": {},
     "output_type": "display_data"
    },
    {
     "name": "stdout",
     "output_type": "stream",
     "text": [
      "Cosine Distance between stars: 0.03102654218673706  best matches for each star:\n"
     ]
    },
    {
     "data": {
      "image/png": "[encoded data removed]",
      "text/plain": [
       "<PIL.PngImagePlugin.PngImageFile image mode=L size=28x28>"
      ]
     },
     "metadata": {},
     "output_type": "display_data"
    },
    {
     "data": {
      "text/plain": [
       "['8',\n",
       " Path('/home/jav/.fastai/data/mnist_png/testing/8/5876.png'),\n",
       " 0.03822958469390869,\n",
       " array([-3.68332297e-01,  1.58202797e-01,  2.95534283e-01,  2.31184542e-01,\n",
       "        -1.78733289e-01,  3.77019674e-01,  1.26442909e-01,  3.05077612e-01,\n",
       "         7.04605654e-02, -2.33200312e-01,  2.21860155e-01,  1.09218769e-01,\n",
       "         1.93249613e-01,  2.20926225e-01,  1.08081222e-01, -2.30418533e-01,\n",
       "        -2.20318958e-01, -8.47602636e-02, -5.90615310e-02, -1.71346053e-01,\n",
       "        -7.63074979e-02,  3.74966156e-04,  6.62550181e-02, -1.17210075e-01,\n",
       "         1.17863484e-01,  1.04648709e-01,  3.06050368e-02,  2.86547444e-03,\n",
       "        -1.30512118e-02,  3.01726423e-02,  4.46750410e-02, -5.05277514e-02],\n",
       "       dtype=float32)]"
      ]
     },
     "metadata": {},
     "output_type": "display_data"
    },
    {
     "data": {
      "image/png": "[encoded data removed]",
      "text/plain": [
       "<PIL.PngImagePlugin.PngImageFile image mode=L size=28x28>"
      ]
     },
     "metadata": {},
     "output_type": "display_data"
    },
    {
     "data": {
      "text/plain": [
       "['8',\n",
       " Path('/home/jav/.fastai/data/mnist_png/testing/8/5876.png'),\n",
       " 0.09338849782943726,\n",
       " array([-3.68332297e-01,  1.58202797e-01,  2.95534283e-01,  2.31184542e-01,\n",
       "        -1.78733289e-01,  3.77019674e-01,  1.26442909e-01,  3.05077612e-01,\n",
       "         7.04605654e-02, -2.33200312e-01,  2.21860155e-01,  1.09218769e-01,\n",
       "         1.93249613e-01,  2.20926225e-01,  1.08081222e-01, -2.30418533e-01,\n",
       "        -2.20318958e-01, -8.47602636e-02, -5.90615310e-02, -1.71346053e-01,\n",
       "        -7.63074979e-02,  3.74966156e-04,  6.62550181e-02, -1.17210075e-01,\n",
       "         1.17863484e-01,  1.04648709e-01,  3.06050368e-02,  2.86547444e-03,\n",
       "        -1.30512118e-02,  3.01726423e-02,  4.46750410e-02, -5.05277514e-02],\n",
       "       dtype=float32)]"
      ]
     },
     "metadata": {},
     "output_type": "display_data"
    }
   ],
   "source": [
    "fps1 = fingerprint_file('stars/Star1.png', display_data=True)\n",
    "fps2 = fingerprint_file('stars/Star2.png', display_data=True)\n",
    "print('Cosine Distance between stars:', spatial.distance.cosine(fps2, fps1),\" best matches for each star:\")\n",
    "list(best_match_mnist(fingerprint_db, fps1, 1, display_data=True));\n",
    "list(best_match_mnist(fingerprint_db, fps2, 1, display_data=True));"
   ]
  },
  {
   "cell_type": "markdown",
   "id": "1c229c64-129c-4ade-979f-d54d67f7f0e5",
   "metadata": {},
   "source": [
    "# ...with star fingerprints...\n",
    "\n",
    "By adding one of the stars to the list of fingerprints we should be able to find it, and if all went well, also find the other star!"
   ]
  },
  {
   "cell_type": "code",
   "execution_count": 25,
   "id": "3f76e6c0",
   "metadata": {
    "execution": {
     "iopub.execute_input": "2022-08-16T14:56:21.981182Z",
     "iopub.status.busy": "2022-08-16T14:56:21.980518Z",
     "iopub.status.idle": "2022-08-16T14:56:22.069301Z",
     "shell.execute_reply": "2022-08-16T14:56:22.068703Z",
     "shell.execute_reply.started": "2022-08-16T14:56:21.981156Z"
    },
    "tags": []
   },
   "outputs": [
    {
     "data": {
      "image/png": "[encoded data removed]",
      "text/plain": [
       "<PIL.PngImagePlugin.PngImageFile image mode=RGB size=28x28>"
      ]
     },
     "metadata": {},
     "output_type": "display_data"
    },
    {
     "data": {
      "text/plain": [
       "['*',\n",
       " 'stars/Star1.png',\n",
       " 0,\n",
       " array([-0.4385764 ,  0.07380641,  0.23816751,  0.29184356, -0.14723992,\n",
       "         0.34137195,  0.06991758,  0.33740816,  0.09130197, -0.22511393,\n",
       "         0.21159591,  0.10746336,  0.16765437,  0.21437302,  0.12018973,\n",
       "        -0.16545856, -0.18934958, -0.07480964, -0.08150642, -0.17008734,\n",
       "        -0.12432582, -0.08482609, -0.01266793, -0.02727649,  0.11497439,\n",
       "         0.17786284, -0.03590712,  0.02044249,  0.03340663,  0.02261158,\n",
       "         0.08458877, -0.12734443], dtype=float32)]"
      ]
     },
     "metadata": {},
     "output_type": "display_data"
    },
    {
     "data": {
      "image/png": "[encoded data removed]",
      "text/plain": [
       "<PIL.PngImagePlugin.PngImageFile image mode=RGB size=28x28>"
      ]
     },
     "metadata": {},
     "output_type": "display_data"
    },
    {
     "data": {
      "text/plain": [
       "['*',\n",
       " 'stars/Star1.png',\n",
       " 0.03102654218673706,\n",
       " array([-0.4385764 ,  0.07380641,  0.23816751,  0.29184356, -0.14723992,\n",
       "         0.34137195,  0.06991758,  0.33740816,  0.09130197, -0.22511393,\n",
       "         0.21159591,  0.10746336,  0.16765437,  0.21437302,  0.12018973,\n",
       "        -0.16545856, -0.18934958, -0.07480964, -0.08150642, -0.17008734,\n",
       "        -0.12432582, -0.08482609, -0.01266793, -0.02727649,  0.11497439,\n",
       "         0.17786284, -0.03590712,  0.02044249,  0.03340663,  0.02261158,\n",
       "         0.08458877, -0.12734443], dtype=float32)]"
      ]
     },
     "metadata": {},
     "output_type": "display_data"
    }
   ],
   "source": [
    "fingerprint_db[('*','stars/Star1.png')] = fps1\n",
    "list(best_match_mnist(fingerprint_db, fps1, 1, display_data=True));\n",
    "list(best_match_mnist(fingerprint_db, fps2, 1, display_data=True));"
   ]
  },
  {
   "cell_type": "code",
   "execution_count": 26,
   "id": "ebc200ba",
   "metadata": {
    "execution": {
     "iopub.execute_input": "2022-08-16T14:56:22.076715Z",
     "iopub.status.busy": "2022-08-16T14:56:22.075562Z",
     "iopub.status.idle": "2022-08-16T14:56:22.217037Z",
     "shell.execute_reply": "2022-08-16T14:56:22.215667Z",
     "shell.execute_reply.started": "2022-08-16T14:56:22.076685Z"
    },
    "tags": []
   },
   "outputs": [
    {
     "data": {
      "image/png": "[encoded data removed]",
      "text/plain": [
       "<PIL.PngImagePlugin.PngImageFile image mode=RGB size=28x28>"
      ]
     },
     "metadata": {},
     "output_type": "display_data"
    },
    {
     "data": {
      "text/plain": [
       "['*',\n",
       " 'stars/Star1.png',\n",
       " 0.03102654218673706,\n",
       " array([-0.4385764 ,  0.07380641,  0.23816751,  0.29184356, -0.14723992,\n",
       "         0.34137195,  0.06991758,  0.33740816,  0.09130197, -0.22511393,\n",
       "         0.21159591,  0.10746336,  0.16765437,  0.21437302,  0.12018973,\n",
       "        -0.16545856, -0.18934958, -0.07480964, -0.08150642, -0.17008734,\n",
       "        -0.12432582, -0.08482609, -0.01266793, -0.02727649,  0.11497439,\n",
       "         0.17786284, -0.03590712,  0.02044249,  0.03340663,  0.02261158,\n",
       "         0.08458877, -0.12734443], dtype=float32)]"
      ]
     },
     "metadata": {},
     "output_type": "display_data"
    },
    {
     "data": {
      "image/png": "[encoded data removed]",
      "text/plain": [
       "<PIL.PngImagePlugin.PngImageFile image mode=L size=28x28>"
      ]
     },
     "metadata": {},
     "output_type": "display_data"
    },
    {
     "data": {
      "text/plain": [
       "['8',\n",
       " Path('/home/jav/.fastai/data/mnist_png/testing/8/5876.png'),\n",
       " 0.09338849782943726,\n",
       " array([-3.68332297e-01,  1.58202797e-01,  2.95534283e-01,  2.31184542e-01,\n",
       "        -1.78733289e-01,  3.77019674e-01,  1.26442909e-01,  3.05077612e-01,\n",
       "         7.04605654e-02, -2.33200312e-01,  2.21860155e-01,  1.09218769e-01,\n",
       "         1.93249613e-01,  2.20926225e-01,  1.08081222e-01, -2.30418533e-01,\n",
       "        -2.20318958e-01, -8.47602636e-02, -5.90615310e-02, -1.71346053e-01,\n",
       "        -7.63074979e-02,  3.74966156e-04,  6.62550181e-02, -1.17210075e-01,\n",
       "         1.17863484e-01,  1.04648709e-01,  3.06050368e-02,  2.86547444e-03,\n",
       "        -1.30512118e-02,  3.01726423e-02,  4.46750410e-02, -5.05277514e-02],\n",
       "       dtype=float32)]"
      ]
     },
     "metadata": {},
     "output_type": "display_data"
    },
    {
     "data": {
      "image/png": "[encoded data removed]",
      "text/plain": [
       "<PIL.PngImagePlugin.PngImageFile image mode=L size=28x28>"
      ]
     },
     "metadata": {},
     "output_type": "display_data"
    },
    {
     "data": {
      "text/plain": [
       "['8',\n",
       " Path('/home/jav/.fastai/data/mnist_png/testing/8/6629.png'),\n",
       " 0.09657961130142212,\n",
       " array([-0.37598267,  0.14729178,  0.29981396,  0.23184597, -0.17113245,\n",
       "         0.3693326 ,  0.12197712,  0.29893762,  0.0649836 , -0.23279262,\n",
       "         0.22444412,  0.11953775,  0.19433382,  0.23397318,  0.10269549,\n",
       "        -0.23896007, -0.21337178, -0.08672515, -0.05094349, -0.16870372,\n",
       "        -0.06659477,  0.00362819,  0.0638281 , -0.12545557,  0.12865227,\n",
       "         0.0933653 ,  0.0260153 ,  0.00819198, -0.01368039,  0.03658072,\n",
       "         0.04711308, -0.04478485], dtype=float32)]"
      ]
     },
     "metadata": {},
     "output_type": "display_data"
    },
    {
     "data": {
      "image/png": "[encoded data removed]",
      "text/plain": [
       "<PIL.PngImagePlugin.PngImageFile image mode=L size=28x28>"
      ]
     },
     "metadata": {},
     "output_type": "display_data"
    },
    {
     "data": {
      "text/plain": [
       "['8',\n",
       " Path('/home/jav/.fastai/data/mnist_png/testing/8/2935.png'),\n",
       " 0.09884512424468994,\n",
       " array([-0.37280595,  0.15897597,  0.28989008,  0.22285101, -0.1670044 ,\n",
       "         0.37233832,  0.13940181,  0.28261966,  0.06178808, -0.2429069 ,\n",
       "         0.23300242,  0.10157636,  0.19003914,  0.2398941 ,  0.09573724,\n",
       "        -0.23489654, -0.21493019, -0.07550802, -0.07048855, -0.16840123,\n",
       "        -0.06363808,  0.02348284,  0.07065178, -0.11406957,  0.13142216,\n",
       "         0.11321332,  0.05171952, -0.03479308, -0.03963634,  0.04629163,\n",
       "         0.052859  , -0.04963508], dtype=float32)]"
      ]
     },
     "metadata": {},
     "output_type": "display_data"
    },
    {
     "data": {
      "image/png": "[encoded data removed]",
      "text/plain": [
       "<PIL.PngImagePlugin.PngImageFile image mode=L size=28x28>"
      ]
     },
     "metadata": {},
     "output_type": "display_data"
    },
    {
     "data": {
      "text/plain": [
       "['8',\n",
       " Path('/home/jav/.fastai/data/mnist_png/testing/8/631.png'),\n",
       " 0.09895122051239014,\n",
       " array([-0.35765868,  0.15655084,  0.2932479 ,  0.23065555, -0.1714703 ,\n",
       "         0.37198526,  0.12562305,  0.30216062,  0.06489266, -0.23358652,\n",
       "         0.23316738,  0.11417682,  0.194542  ,  0.234649  ,  0.11020373,\n",
       "        -0.23875116, -0.2214867 , -0.07838724, -0.05085449, -0.16527662,\n",
       "        -0.06611587,  0.00831954,  0.05939326, -0.12688471,  0.13511713,\n",
       "         0.09956309,  0.03122707,  0.00056342, -0.02943123,  0.03529185,\n",
       "         0.05423586, -0.04379964], dtype=float32)]"
      ]
     },
     "metadata": {},
     "output_type": "display_data"
    },
    {
     "data": {
      "image/png": "[encoded data removed]",
      "text/plain": [
       "<PIL.PngImagePlugin.PngImageFile image mode=L size=28x28>"
      ]
     },
     "metadata": {},
     "output_type": "display_data"
    },
    {
     "data": {
      "text/plain": [
       "['8',\n",
       " Path('/home/jav/.fastai/data/mnist_png/testing/8/2111.png'),\n",
       " 0.09899801015853882,\n",
       " array([-0.36306724,  0.13900602,  0.2915186 ,  0.22999087, -0.16271171,\n",
       "         0.37451634,  0.12117532,  0.30122486,  0.05905059, -0.24575944,\n",
       "         0.2301542 ,  0.12598327,  0.18955672,  0.2393089 ,  0.11471233,\n",
       "        -0.25408018, -0.21603131, -0.07120273, -0.05722496, -0.16591428,\n",
       "        -0.06492431, -0.00286971,  0.04813105, -0.1218137 ,  0.11783452,\n",
       "         0.09741097,  0.03107424,  0.02289542, -0.02657417,  0.03526381,\n",
       "         0.04927958, -0.04491814], dtype=float32)]"
      ]
     },
     "metadata": {},
     "output_type": "display_data"
    },
    {
     "data": {
      "image/png": "[encoded data removed]",
      "text/plain": [
       "<PIL.PngImagePlugin.PngImageFile image mode=L size=28x28>"
      ]
     },
     "metadata": {},
     "output_type": "display_data"
    },
    {
     "data": {
      "text/plain": [
       "['8',\n",
       " Path('/home/jav/.fastai/data/mnist_png/testing/8/3873.png'),\n",
       " 0.09926354885101318,\n",
       " array([-0.36901474,  0.15787706,  0.29737303,  0.22478062, -0.15418836,\n",
       "         0.3734246 ,  0.13528934,  0.28086886,  0.05955824, -0.24400482,\n",
       "         0.23644102,  0.10771276,  0.19347136,  0.24361722,  0.09144159,\n",
       "        -0.2443816 , -0.21140052, -0.06678322, -0.06436917, -0.16337655,\n",
       "        -0.05840407,  0.00990716,  0.06189672, -0.12514324,  0.14273718,\n",
       "         0.10190678,  0.03659718, -0.01593812, -0.03545793,  0.04970628,\n",
       "         0.05617644, -0.04308477], dtype=float32)]"
      ]
     },
     "metadata": {},
     "output_type": "display_data"
    },
    {
     "data": {
      "image/png": "[encoded data removed]",
      "text/plain": [
       "<PIL.PngImagePlugin.PngImageFile image mode=L size=28x28>"
      ]
     },
     "metadata": {},
     "output_type": "display_data"
    },
    {
     "data": {
      "text/plain": [
       "['8',\n",
       " Path('/home/jav/.fastai/data/mnist_png/testing/8/401.png'),\n",
       " 0.09932023286819458,\n",
       " array([-0.3635762 ,  0.15103394,  0.30694067,  0.23331632, -0.16829519,\n",
       "         0.36755362,  0.11850319,  0.29123622,  0.06036897, -0.2427889 ,\n",
       "         0.22272967,  0.117998  ,  0.19722615,  0.23765899,  0.10490257,\n",
       "        -0.24492508, -0.21673615, -0.06731602, -0.05699643, -0.1654917 ,\n",
       "        -0.05789862, -0.00133317,  0.04790812, -0.13276196,  0.14030954,\n",
       "         0.09052319,  0.03237328,  0.0209347 , -0.01486127,  0.03653141,\n",
       "         0.05588738, -0.0459619 ], dtype=float32)]"
      ]
     },
     "metadata": {},
     "output_type": "display_data"
    },
    {
     "data": {
      "image/png": "[encoded data removed]",
      "text/plain": [
       "<PIL.PngImagePlugin.PngImageFile image mode=L size=28x28>"
      ]
     },
     "metadata": {},
     "output_type": "display_data"
    },
    {
     "data": {
      "text/plain": [
       "['8',\n",
       " Path('/home/jav/.fastai/data/mnist_png/testing/8/4117.png'),\n",
       " 0.10217827558517456,\n",
       " array([-0.35156298,  0.16355656,  0.30134732,  0.22667001, -0.17924194,\n",
       "         0.37603086,  0.12719253,  0.30152017,  0.07219735, -0.23419859,\n",
       "         0.22553216,  0.11478238,  0.19514334,  0.22200024,  0.11441004,\n",
       "        -0.23573409, -0.22461611, -0.0799832 , -0.05228319, -0.17153245,\n",
       "        -0.06698789,  0.01053997,  0.06450619, -0.12811044,  0.12589845,\n",
       "         0.10002032,  0.03342265,  0.00417014, -0.02135291,  0.03006814,\n",
       "         0.04590758, -0.04563618], dtype=float32)]"
      ]
     },
     "metadata": {},
     "output_type": "display_data"
    },
    {
     "data": {
      "image/png": "[encoded data removed]",
      "text/plain": [
       "<PIL.PngImagePlugin.PngImageFile image mode=L size=28x28>"
      ]
     },
     "metadata": {},
     "output_type": "display_data"
    },
    {
     "data": {
      "text/plain": [
       "['8',\n",
       " Path('/home/jav/.fastai/data/mnist_png/testing/8/2213.png'),\n",
       " 0.10343778133392334,\n",
       " array([-0.36173356,  0.15118621,  0.29811877,  0.22328272, -0.17127284,\n",
       "         0.37576228,  0.1278009 ,  0.2878798 ,  0.07162137, -0.23225948,\n",
       "         0.23361638,  0.11763023,  0.19491744,  0.22889662,  0.10453572,\n",
       "        -0.2426079 , -0.22669537, -0.06324654, -0.06669908, -0.18271776,\n",
       "        -0.06520734,  0.01194281,  0.04815498, -0.12896037,  0.12580338,\n",
       "         0.10066501,  0.04210657,  0.01241063, -0.01730939,  0.02693971,\n",
       "         0.04445782, -0.05199178], dtype=float32)]"
      ]
     },
     "metadata": {},
     "output_type": "display_data"
    }
   ],
   "source": [
    "list(best_match_mnist(fingerprint_db, fps2, 10, display_data=True));"
   ]
  },
  {
   "cell_type": "code",
   "execution_count": 27,
   "id": "efdb8a93-f978-4cd1-98a5-b92a29146a6f",
   "metadata": {
    "execution": {
     "iopub.execute_input": "2022-08-16T14:56:22.218362Z",
     "iopub.status.busy": "2022-08-16T14:56:22.218022Z",
     "iopub.status.idle": "2022-08-16T14:56:22.828122Z",
     "shell.execute_reply": "2022-08-16T14:56:22.826980Z",
     "shell.execute_reply.started": "2022-08-16T14:56:22.218346Z"
    },
    "tags": []
   },
   "outputs": [
    {
     "data": {
      "image/png": "[encoded data removed]",
      "text/plain": [
       "<Figure size 288x288 with 18 Axes>"
      ]
     },
     "metadata": {
      "needs_background": "light"
     },
     "output_type": "display_data"
    }
   ],
   "source": [
    "fig = plt.figure(figsize=(4., 4.))\n",
    "grid = ImageGrid(fig, 111,  # similar to subplot(111)\n",
    "                 nrows_ncols=(3, 3),  # creates 2x2 grid of axes\n",
    "                 axes_pad=0.1,  # pad between axes in inch.\n",
    "                 )\n",
    "\n",
    "imgs = (PILImage.create(m[0][1]) for m in best_match_mnist(fingerprint_db, fps2, 9))\n",
    "\n",
    "for ax, im in zip(grid, imgs):\n",
    "    # Iterating over the grid returns the Axes.\n",
    "    ax.imshow(im)\n",
    "\n",
    "plt.show()"
   ]
  },
  {
   "cell_type": "markdown",
   "id": "c5ac3b68-d02d-4d7c-a28c-3c8dfd447e55",
   "metadata": {},
   "source": [
    "# tSNE\n",
    "\n",
    "Map all embeddings to a 2d plane to get an idea of how the data is clustered"
   ]
  },
  {
   "cell_type": "code",
   "execution_count": 28,
   "id": "5a7928da",
   "metadata": {
    "execution": {
     "iopub.execute_input": "2022-08-16T14:56:22.829670Z",
     "iopub.status.busy": "2022-08-16T14:56:22.829505Z",
     "iopub.status.idle": "2022-08-16T14:56:43.896557Z",
     "shell.execute_reply": "2022-08-16T14:56:43.895433Z",
     "shell.execute_reply.started": "2022-08-16T14:56:22.829651Z"
    },
    "tags": []
   },
   "outputs": [
    {
     "name": "stdout",
     "output_type": "stream",
     "text": [
      "[t-SNE] Computing 91 nearest neighbors...\n",
      "[t-SNE] Indexed 10003 samples in 0.000s...\n",
      "[t-SNE] Computed neighbors for 10003 samples in 1.742s...\n",
      "[t-SNE] Computed conditional probabilities for sample 1000 / 10003\n",
      "[t-SNE] Computed conditional probabilities for sample 2000 / 10003\n",
      "[t-SNE] Computed conditional probabilities for sample 3000 / 10003\n",
      "[t-SNE] Computed conditional probabilities for sample 4000 / 10003\n",
      "[t-SNE] Computed conditional probabilities for sample 5000 / 10003\n",
      "[t-SNE] Computed conditional probabilities for sample 6000 / 10003\n",
      "[t-SNE] Computed conditional probabilities for sample 7000 / 10003\n",
      "[t-SNE] Computed conditional probabilities for sample 8000 / 10003\n",
      "[t-SNE] Computed conditional probabilities for sample 9000 / 10003\n",
      "[t-SNE] Computed conditional probabilities for sample 10000 / 10003\n",
      "[t-SNE] Computed conditional probabilities for sample 10003 / 10003\n",
      "[t-SNE] Mean sigma: 0.020139\n",
      "[t-SNE] KL divergence after 250 iterations with early exaggeration: 68.921059\n",
      "[t-SNE] KL divergence after 1000 iterations: 1.298541\n"
     ]
    },
    {
     "data": {
      "image/png": "[encoded data removed]",
      "text/plain": [
       "<Figure size 576x576 with 1 Axes>"
      ]
     },
     "metadata": {
      "needs_background": "light"
     },
     "output_type": "display_data"
    },
    {
     "data": {
      "text/html": [
       "<style>#sk-container-id-1 {color: black;background-color: white;}#sk-container-id-1 pre{padding: 0;}#sk-container-id-1 div.sk-toggleable {background-color: white;}#sk-container-id-1 label.sk-toggleable__label {cursor: pointer;display: block;width: 100%;margin-bottom: 0;padding: 0.3em;box-sizing: border-box;text-align: center;}#sk-container-id-1 label.sk-toggleable__label-arrow:before {content: \"▸\";float: left;margin-right: 0.25em;color: #696969;}#sk-container-id-1 label.sk-toggleable__label-arrow:hover:before {color: black;}#sk-container-id-1 div.sk-estimator:hover label.sk-toggleable__label-arrow:before {color: black;}#sk-container-id-1 div.sk-toggleable__content {max-height: 0;max-width: 0;overflow: hidden;text-align: left;background-color: #f0f8ff;}#sk-container-id-1 div.sk-toggleable__content pre {margin: 0.2em;color: black;border-radius: 0.25em;background-color: #f0f8ff;}#sk-container-id-1 input.sk-toggleable__control:checked~div.sk-toggleable__content {max-height: 200px;max-width: 100%;overflow: auto;}#sk-container-id-1 input.sk-toggleable__control:checked~label.sk-toggleable__label-arrow:before {content: \"▾\";}#sk-container-id-1 div.sk-estimator input.sk-toggleable__control:checked~label.sk-toggleable__label {background-color: #d4ebff;}#sk-container-id-1 div.sk-label input.sk-toggleable__control:checked~label.sk-toggleable__label {background-color: #d4ebff;}#sk-container-id-1 input.sk-hidden--visually {border: 0;clip: rect(1px 1px 1px 1px);clip: rect(1px, 1px, 1px, 1px);height: 1px;margin: -1px;overflow: hidden;padding: 0;position: absolute;width: 1px;}#sk-container-id-1 div.sk-estimator {font-family: monospace;background-color: #f0f8ff;border: 1px dotted black;border-radius: 0.25em;box-sizing: border-box;margin-bottom: 0.5em;}#sk-container-id-1 div.sk-estimator:hover {background-color: #d4ebff;}#sk-container-id-1 div.sk-parallel-item::after {content: \"\";width: 100%;border-bottom: 1px solid gray;flex-grow: 1;}#sk-container-id-1 div.sk-label:hover label.sk-toggleable__label {background-color: #d4ebff;}#sk-container-id-1 div.sk-serial::before {content: \"\";position: absolute;border-left: 1px solid gray;box-sizing: border-box;top: 0;bottom: 0;left: 50%;z-index: 0;}#sk-container-id-1 div.sk-serial {display: flex;flex-direction: column;align-items: center;background-color: white;padding-right: 0.2em;padding-left: 0.2em;position: relative;}#sk-container-id-1 div.sk-item {position: relative;z-index: 1;}#sk-container-id-1 div.sk-parallel {display: flex;align-items: stretch;justify-content: center;background-color: white;position: relative;}#sk-container-id-1 div.sk-item::before, #sk-container-id-1 div.sk-parallel-item::before {content: \"\";position: absolute;border-left: 1px solid gray;box-sizing: border-box;top: 0;bottom: 0;left: 50%;z-index: -1;}#sk-container-id-1 div.sk-parallel-item {display: flex;flex-direction: column;z-index: 1;position: relative;background-color: white;}#sk-container-id-1 div.sk-parallel-item:first-child::after {align-self: flex-end;width: 50%;}#sk-container-id-1 div.sk-parallel-item:last-child::after {align-self: flex-start;width: 50%;}#sk-container-id-1 div.sk-parallel-item:only-child::after {width: 0;}#sk-container-id-1 div.sk-dashed-wrapped {border: 1px dashed gray;margin: 0 0.4em 0.5em 0.4em;box-sizing: border-box;padding-bottom: 0.4em;background-color: white;}#sk-container-id-1 div.sk-label label {font-family: monospace;font-weight: bold;display: inline-block;line-height: 1.2em;}#sk-container-id-1 div.sk-label-container {text-align: center;}#sk-container-id-1 div.sk-container {/* jupyter's `normalize.less` sets `[hidden] { display: none; }` but bootstrap.min.css set `[hidden] { display: none !important; }` so we also need the `!important` here to be able to override the default hidden behavior on the sphinx rendered scikit-learn.org. See: https://github.com/scikit-learn/scikit-learn/issues/21755 */display: inline-block !important;position: relative;}#sk-container-id-1 div.sk-text-repr-fallback {display: none;}</style><div id=\"sk-container-id-1\" class=\"sk-top-container\"><div class=\"sk-text-repr-fallback\"><pre>TSNE(init=&#x27;random&#x27;, learning_rate=&#x27;auto&#x27;, random_state=42, verbose=1)</pre><b>In a Jupyter environment, please rerun this cell to show the HTML representation or trust the notebook. <br />On GitHub, the HTML representation is unable to render, please try loading this page with nbviewer.org.</b></div><div class=\"sk-container\" hidden><div class=\"sk-item\"><div class=\"sk-estimator sk-toggleable\"><input class=\"sk-toggleable__control sk-hidden--visually\" id=\"sk-estimator-id-1\" type=\"checkbox\" checked><label for=\"sk-estimator-id-1\" class=\"sk-toggleable__label sk-toggleable__label-arrow\">TSNE</label><div class=\"sk-toggleable__content\"><pre>TSNE(init=&#x27;random&#x27;, learning_rate=&#x27;auto&#x27;, random_state=42, verbose=1)</pre></div></div></div></div></div>"
      ],
      "text/plain": [
       "TSNE(init='random', learning_rate='auto', random_state=42, verbose=1)"
      ]
     },
     "execution_count": 28,
     "metadata": {},
     "output_type": "execute_result"
    }
   ],
   "source": [
    "def visualize(fingerprints_db, fingerprints_to_highlight = [], indices_to_highlight = []):\n",
    "    l = list(fingerprint_db.values())\n",
    "    fps = np.array(l + fingerprints_to_highlight)\n",
    "    tsne = TSNE(2, init='random', learning_rate='auto', random_state = 42, verbose = 1)    \n",
    "    tsne_proj = tsne.fit_transform(fps)\n",
    "    \n",
    "    cmap = cm.get_cmap('tab20')\n",
    "    fig, ax = plt.subplots(figsize=(8,8))\n",
    "    num_categories = 11\n",
    "\n",
    "    for i in range(num_categories):\n",
    "        matching_indices = [key for key, (val,_) in enumerate(fingerprint_db.keys()) if val == str(i)]\n",
    "        plt.scatter(tsne_proj[matching_indices,0], tsne_proj[matching_indices,1], c = np.array(cmap(i)).reshape(1,4), label = i)\n",
    "    ax.legend(fontsize='large', markerscale=2)\n",
    "    \n",
    "    # Highlight\n",
    "    plt.scatter(tsne_proj[indices_to_highlight,0], tsne_proj[indices_to_highlight,1], marker = '+', c = 'k', label = 'highlight') \n",
    "    ixs_to_highlight = range(len(fps) - len(fingerprints_to_highlight),len(fps))\n",
    "    (xs, ys) = (tsne_proj[ixs_to_highlight,0], tsne_proj[ixs_to_highlight,1])\n",
    "    plt.scatter(xs, ys, marker = '+', c = 'k', label = 'highlight') \n",
    "    (min_x, min_y, max_x, max_y) = (min(xs), min(ys), max(xs), max(ys))\n",
    "    min_x = min_x - 2\n",
    "    min_y = min_y - 2\n",
    "    width = max_x - min_x + 2\n",
    "    height = max_y - min_y + 2\n",
    "    rect = patches.Rectangle((min_x, min_y), width, height, linewidth=1, edgecolor='k', facecolor='none')\n",
    "    ax.add_patch(rect)\n",
    "    \n",
    "    plt.savefig(model_name)\n",
    "    plt.show()\n",
    "    return tsne\n",
    "\n",
    "fps = np.array(list(fingerprint_db.values()))\n",
    "visualize(fps, fingerprints_to_highlight = [fps1, fps2])"
   ]
  },
  {
   "cell_type": "code",
   "execution_count": 29,
   "id": "c5dc96ad",
   "metadata": {
    "execution": {
     "iopub.execute_input": "2022-08-16T14:56:43.898126Z",
     "iopub.status.busy": "2022-08-16T14:56:43.897835Z",
     "iopub.status.idle": "2022-08-16T15:11:23.952640Z",
     "shell.execute_reply": "2022-08-16T15:11:23.951569Z",
     "shell.execute_reply.started": "2022-08-16T14:56:43.898094Z"
    },
    "tags": []
   },
   "outputs": [
    {
     "data": {
      "text/html": [
       "\n",
       "<style>\n",
       "    /* Turns off some styling */\n",
       "    progress {\n",
       "        /* gets rid of default border in Firefox and Opera. */\n",
       "        border: none;\n",
       "        /* Needs to be in here for Safari polyfill so background images work as expected. */\n",
       "        background-size: auto;\n",
       "    }\n",
       "    progress:not([value]), progress:not([value])::-webkit-progress-bar {\n",
       "        background: repeating-linear-gradient(45deg, #7e7e7e, #7e7e7e 10px, #5c5c5c 10px, #5c5c5c 20px);\n",
       "    }\n",
       "    .progress-bar-interrupted, .progress-bar-interrupted::-webkit-progress-bar {\n",
       "        background: #F44336;\n",
       "    }\n",
       "</style>\n"
      ],
      "text/plain": [
       "<IPython.core.display.HTML object>"
      ]
     },
     "metadata": {},
     "output_type": "display_data"
    },
    {
     "data": {
      "text/html": [
       "<table border=\"1\" class=\"dataframe\">\n",
       "  <thead>\n",
       "    <tr style=\"text-align: left;\">\n",
       "      <th>epoch</th>\n",
       "      <th>train_loss</th>\n",
       "      <th>valid_loss</th>\n",
       "      <th>time</th>\n",
       "    </tr>\n",
       "  </thead>\n",
       "  <tbody>\n",
       "    <tr>\n",
       "      <td>0</td>\n",
       "      <td>0.017188</td>\n",
       "      <td>0.028165</td>\n",
       "      <td>00:34</td>\n",
       "    </tr>\n",
       "    <tr>\n",
       "      <td>1</td>\n",
       "      <td>0.018652</td>\n",
       "      <td>0.030425</td>\n",
       "      <td>00:34</td>\n",
       "    </tr>\n",
       "    <tr>\n",
       "      <td>2</td>\n",
       "      <td>0.019052</td>\n",
       "      <td>0.029247</td>\n",
       "      <td>00:35</td>\n",
       "    </tr>\n",
       "    <tr>\n",
       "      <td>3</td>\n",
       "      <td>0.019880</td>\n",
       "      <td>0.029035</td>\n",
       "      <td>00:34</td>\n",
       "    </tr>\n",
       "    <tr>\n",
       "      <td>4</td>\n",
       "      <td>0.016921</td>\n",
       "      <td>0.029006</td>\n",
       "      <td>00:34</td>\n",
       "    </tr>\n",
       "    <tr>\n",
       "      <td>5</td>\n",
       "      <td>0.020704</td>\n",
       "      <td>0.027825</td>\n",
       "      <td>00:33</td>\n",
       "    </tr>\n",
       "    <tr>\n",
       "      <td>6</td>\n",
       "      <td>0.010647</td>\n",
       "      <td>0.028510</td>\n",
       "      <td>00:34</td>\n",
       "    </tr>\n",
       "    <tr>\n",
       "      <td>7</td>\n",
       "      <td>0.019289</td>\n",
       "      <td>0.029275</td>\n",
       "      <td>00:33</td>\n",
       "    </tr>\n",
       "    <tr>\n",
       "      <td>8</td>\n",
       "      <td>0.019621</td>\n",
       "      <td>0.028783</td>\n",
       "      <td>00:34</td>\n",
       "    </tr>\n",
       "    <tr>\n",
       "      <td>9</td>\n",
       "      <td>0.018136</td>\n",
       "      <td>0.030531</td>\n",
       "      <td>00:34</td>\n",
       "    </tr>\n",
       "    <tr>\n",
       "      <td>10</td>\n",
       "      <td>0.013770</td>\n",
       "      <td>0.029190</td>\n",
       "      <td>00:33</td>\n",
       "    </tr>\n",
       "    <tr>\n",
       "      <td>11</td>\n",
       "      <td>0.014662</td>\n",
       "      <td>0.028587</td>\n",
       "      <td>00:33</td>\n",
       "    </tr>\n",
       "    <tr>\n",
       "      <td>12</td>\n",
       "      <td>0.020371</td>\n",
       "      <td>0.029442</td>\n",
       "      <td>00:34</td>\n",
       "    </tr>\n",
       "    <tr>\n",
       "      <td>13</td>\n",
       "      <td>0.015001</td>\n",
       "      <td>0.028491</td>\n",
       "      <td>00:34</td>\n",
       "    </tr>\n",
       "    <tr>\n",
       "      <td>14</td>\n",
       "      <td>0.016344</td>\n",
       "      <td>0.029733</td>\n",
       "      <td>00:33</td>\n",
       "    </tr>\n",
       "    <tr>\n",
       "      <td>15</td>\n",
       "      <td>0.016318</td>\n",
       "      <td>0.030032</td>\n",
       "      <td>00:34</td>\n",
       "    </tr>\n",
       "    <tr>\n",
       "      <td>16</td>\n",
       "      <td>0.023564</td>\n",
       "      <td>0.029952</td>\n",
       "      <td>00:33</td>\n",
       "    </tr>\n",
       "    <tr>\n",
       "      <td>17</td>\n",
       "      <td>0.016856</td>\n",
       "      <td>0.028677</td>\n",
       "      <td>00:33</td>\n",
       "    </tr>\n",
       "    <tr>\n",
       "      <td>18</td>\n",
       "      <td>0.016888</td>\n",
       "      <td>0.028771</td>\n",
       "      <td>00:34</td>\n",
       "    </tr>\n",
       "    <tr>\n",
       "      <td>19</td>\n",
       "      <td>0.014119</td>\n",
       "      <td>0.028539</td>\n",
       "      <td>00:34</td>\n",
       "    </tr>\n",
       "  </tbody>\n",
       "</table>"
      ],
      "text/plain": [
       "<IPython.core.display.HTML object>"
      ]
     },
     "metadata": {},
     "output_type": "display_data"
    },
    {
     "data": {
      "text/html": [
       "\n",
       "<style>\n",
       "    /* Turns off some styling */\n",
       "    progress {\n",
       "        /* gets rid of default border in Firefox and Opera. */\n",
       "        border: none;\n",
       "        /* Needs to be in here for Safari polyfill so background images work as expected. */\n",
       "        background-size: auto;\n",
       "    }\n",
       "    progress:not([value]), progress:not([value])::-webkit-progress-bar {\n",
       "        background: repeating-linear-gradient(45deg, #7e7e7e, #7e7e7e 10px, #5c5c5c 10px, #5c5c5c 20px);\n",
       "    }\n",
       "    .progress-bar-interrupted, .progress-bar-interrupted::-webkit-progress-bar {\n",
       "        background: #F44336;\n",
       "    }\n",
       "</style>\n"
      ],
      "text/plain": [
       "<IPython.core.display.HTML object>"
      ]
     },
     "metadata": {},
     "output_type": "display_data"
    },
    {
     "data": {
      "text/html": [
       "\n",
       "    <div>\n",
       "      <progress value='10000' class='' max='10000' style='width:300px; height:20px; vertical-align: middle;'></progress>\n",
       "      100.00% [10000/10000 02:54&lt;00:00]\n",
       "    </div>\n",
       "    "
      ],
      "text/plain": [
       "<IPython.core.display.HTML object>"
      ]
     },
     "metadata": {},
     "output_type": "display_data"
    },
    {
     "name": "stdout",
     "output_type": "stream",
     "text": [
      "[t-SNE] Computing 91 nearest neighbors...\n",
      "[t-SNE] Indexed 10003 samples in 0.001s...\n",
      "[t-SNE] Computed neighbors for 10003 samples in 1.717s...\n",
      "[t-SNE] Computed conditional probabilities for sample 1000 / 10003\n",
      "[t-SNE] Computed conditional probabilities for sample 2000 / 10003\n",
      "[t-SNE] Computed conditional probabilities for sample 3000 / 10003\n",
      "[t-SNE] Computed conditional probabilities for sample 4000 / 10003\n",
      "[t-SNE] Computed conditional probabilities for sample 5000 / 10003\n",
      "[t-SNE] Computed conditional probabilities for sample 6000 / 10003\n",
      "[t-SNE] Computed conditional probabilities for sample 7000 / 10003\n",
      "[t-SNE] Computed conditional probabilities for sample 8000 / 10003\n",
      "[t-SNE] Computed conditional probabilities for sample 9000 / 10003\n",
      "[t-SNE] Computed conditional probabilities for sample 10000 / 10003\n",
      "[t-SNE] Computed conditional probabilities for sample 10003 / 10003\n",
      "[t-SNE] Mean sigma: 0.020139\n",
      "[t-SNE] KL divergence after 250 iterations with early exaggeration: 68.921059\n",
      "[t-SNE] KL divergence after 1000 iterations: 1.298541\n"
     ]
    },
    {
     "data": {
      "image/png": "[encoded data removed]",
      "text/plain": [
       "<Figure size 576x576 with 1 Axes>"
      ]
     },
     "metadata": {
      "needs_background": "light"
     },
     "output_type": "display_data"
    },
    {
     "data": {
      "text/html": [
       "<style>#sk-container-id-2 {color: black;background-color: white;}#sk-container-id-2 pre{padding: 0;}#sk-container-id-2 div.sk-toggleable {background-color: white;}#sk-container-id-2 label.sk-toggleable__label {cursor: pointer;display: block;width: 100%;margin-bottom: 0;padding: 0.3em;box-sizing: border-box;text-align: center;}#sk-container-id-2 label.sk-toggleable__label-arrow:before {content: \"▸\";float: left;margin-right: 0.25em;color: #696969;}#sk-container-id-2 label.sk-toggleable__label-arrow:hover:before {color: black;}#sk-container-id-2 div.sk-estimator:hover label.sk-toggleable__label-arrow:before {color: black;}#sk-container-id-2 div.sk-toggleable__content {max-height: 0;max-width: 0;overflow: hidden;text-align: left;background-color: #f0f8ff;}#sk-container-id-2 div.sk-toggleable__content pre {margin: 0.2em;color: black;border-radius: 0.25em;background-color: #f0f8ff;}#sk-container-id-2 input.sk-toggleable__control:checked~div.sk-toggleable__content {max-height: 200px;max-width: 100%;overflow: auto;}#sk-container-id-2 input.sk-toggleable__control:checked~label.sk-toggleable__label-arrow:before {content: \"▾\";}#sk-container-id-2 div.sk-estimator input.sk-toggleable__control:checked~label.sk-toggleable__label {background-color: #d4ebff;}#sk-container-id-2 div.sk-label input.sk-toggleable__control:checked~label.sk-toggleable__label {background-color: #d4ebff;}#sk-container-id-2 input.sk-hidden--visually {border: 0;clip: rect(1px 1px 1px 1px);clip: rect(1px, 1px, 1px, 1px);height: 1px;margin: -1px;overflow: hidden;padding: 0;position: absolute;width: 1px;}#sk-container-id-2 div.sk-estimator {font-family: monospace;background-color: #f0f8ff;border: 1px dotted black;border-radius: 0.25em;box-sizing: border-box;margin-bottom: 0.5em;}#sk-container-id-2 div.sk-estimator:hover {background-color: #d4ebff;}#sk-container-id-2 div.sk-parallel-item::after {content: \"\";width: 100%;border-bottom: 1px solid gray;flex-grow: 1;}#sk-container-id-2 div.sk-label:hover label.sk-toggleable__label {background-color: #d4ebff;}#sk-container-id-2 div.sk-serial::before {content: \"\";position: absolute;border-left: 1px solid gray;box-sizing: border-box;top: 0;bottom: 0;left: 50%;z-index: 0;}#sk-container-id-2 div.sk-serial {display: flex;flex-direction: column;align-items: center;background-color: white;padding-right: 0.2em;padding-left: 0.2em;position: relative;}#sk-container-id-2 div.sk-item {position: relative;z-index: 1;}#sk-container-id-2 div.sk-parallel {display: flex;align-items: stretch;justify-content: center;background-color: white;position: relative;}#sk-container-id-2 div.sk-item::before, #sk-container-id-2 div.sk-parallel-item::before {content: \"\";position: absolute;border-left: 1px solid gray;box-sizing: border-box;top: 0;bottom: 0;left: 50%;z-index: -1;}#sk-container-id-2 div.sk-parallel-item {display: flex;flex-direction: column;z-index: 1;position: relative;background-color: white;}#sk-container-id-2 div.sk-parallel-item:first-child::after {align-self: flex-end;width: 50%;}#sk-container-id-2 div.sk-parallel-item:last-child::after {align-self: flex-start;width: 50%;}#sk-container-id-2 div.sk-parallel-item:only-child::after {width: 0;}#sk-container-id-2 div.sk-dashed-wrapped {border: 1px dashed gray;margin: 0 0.4em 0.5em 0.4em;box-sizing: border-box;padding-bottom: 0.4em;background-color: white;}#sk-container-id-2 div.sk-label label {font-family: monospace;font-weight: bold;display: inline-block;line-height: 1.2em;}#sk-container-id-2 div.sk-label-container {text-align: center;}#sk-container-id-2 div.sk-container {/* jupyter's `normalize.less` sets `[hidden] { display: none; }` but bootstrap.min.css set `[hidden] { display: none !important; }` so we also need the `!important` here to be able to override the default hidden behavior on the sphinx rendered scikit-learn.org. See: https://github.com/scikit-learn/scikit-learn/issues/21755 */display: inline-block !important;position: relative;}#sk-container-id-2 div.sk-text-repr-fallback {display: none;}</style><div id=\"sk-container-id-2\" class=\"sk-top-container\"><div class=\"sk-text-repr-fallback\"><pre>TSNE(init=&#x27;random&#x27;, learning_rate=&#x27;auto&#x27;, random_state=42, verbose=1)</pre><b>In a Jupyter environment, please rerun this cell to show the HTML representation or trust the notebook. <br />On GitHub, the HTML representation is unable to render, please try loading this page with nbviewer.org.</b></div><div class=\"sk-container\" hidden><div class=\"sk-item\"><div class=\"sk-estimator sk-toggleable\"><input class=\"sk-toggleable__control sk-hidden--visually\" id=\"sk-estimator-id-2\" type=\"checkbox\" checked><label for=\"sk-estimator-id-2\" class=\"sk-toggleable__label sk-toggleable__label-arrow\">TSNE</label><div class=\"sk-toggleable__content\"><pre>TSNE(init=&#x27;random&#x27;, learning_rate=&#x27;auto&#x27;, random_state=42, verbose=1)</pre></div></div></div></div></div>"
      ],
      "text/plain": [
       "TSNE(init='random', learning_rate='auto', random_state=42, verbose=1)"
      ]
     },
     "execution_count": 29,
     "metadata": {},
     "output_type": "execute_result"
    }
   ],
   "source": [
    "def train_and_fingerprint(epochs, learning_rate, files_to_fingerprint) :\n",
    "    if epochs>0:\n",
    "        learn.fit_one_cycle(epochs,slice(learning_rate))\n",
    "    fingerprints = fingerprint_all(files_to_fingerprint)\n",
    "    return visualize(fingerprints, fingerprints_to_highlight = [fps1, fps2]) \n",
    "\n",
    "train_and_fingerprint(20, .0005, fnames)"
   ]
  },
  {
   "cell_type": "code",
   "execution_count": null,
   "id": "8f6da7af-1850-41dd-9c32-a694901b4212",
   "metadata": {},
   "outputs": [],
   "source": []
  }
 ],
 "metadata": {
  "kernelspec": {
   "display_name": "Python [conda env:fastai.v5]",
   "language": "python",
   "name": "conda-env-fastai.v5-py"
  },
  "language_info": {
   "codemirror_mode": {
    "name": "ipython",
    "version": 3
   },
   "file_extension": ".py",
   "mimetype": "text/x-python",
   "name": "python",
   "nbconvert_exporter": "python",
   "pygments_lexer": "ipython3",
   "version": "3.10.4"
  },
  "widgets": {
   "application/vnd.jupyter.widget-state+json": {
    "state": {},
    "version_major": 2,
    "version_minor": 0
   }
  }
 },
 "nbformat": 4,
 "nbformat_minor": 5
}
