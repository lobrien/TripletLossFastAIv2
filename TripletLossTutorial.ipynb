{
 "cells": [
  {
   "cell_type": "markdown",
   "id": "41645725",
   "metadata": {},
   "source": [
    "# Tutorial: TripletLoss for re-identification using FastAI v2\n",
    "\n",
    "This tutorial demonstrates the use of the `TripleLoss` loss function in FastAI v2 (running over Pytorch). TripletLoss is one of the leading ways to match an image (or sound or other signal) with a large database of images, even if there are very few matches for that particular input. Joint-embedding networks (aka Twin or Siamese networks) are a common alternative for this \"low k-shot\" challenge. According to [that article I read](tk), triplet loss outperformed twin networks in all of the tk studies where both approaches were tried. Another option for re-identification is Scale Invariant Feature Transform (SIFT) which is implemented in OpenCV. I haven't seen any papers comparing SIFT and statistical ML techniques in real-world tasks. \n",
    "\n",
    "The tutorial walks you through:\n",
    "\n",
    "- Creating the necessary conda environment\n",
    "- Downloading and expanding the MNIST dataset of handwritten digits\n",
    "- Creating and training a model using triplet loss\n",
    "- Applying this model to a few images of a new glyph (a hand-drawn star)\n",
    "- Finding the closest neighbors to the new images\n",
    "- Visualizing that the model tightly clusters the new glyph\n",
    "- Demonstrating that the model can be used for re-identification of the new glyph\n",
    "\n",
    "MNIST is an easy problem for modern statistical ML, with relatively small data and a small input size. This makes it a good candidate for a tutorial. I will try to highlight the places where you'll need to alter parameters when faced with a more realistic task, like animal re-identification. \n",
    "\n",
    "The code assumes that you have a CUDA-accelerated GPU for training and inferencing. The tutorial runs quickly on a 2080 (about 30 seconds per epoch during training, about 20ms to inference) but runs _much_ slower on a mobile GPU like a GeForce GTX 1650 (30 minutes per epoch on my Surface Book 3). I assume that porting it to CPU wouldn't be difficult, but I think it would be quite slow. If you don't have a local GPU, I'd suggest using a GPU-powered cloud compute resource, such as Azure ML. (Let me know if you'd like to see a tutorial on running this in Azure ML.) \n",
    "\n",
    "## The problem of re-identification\n",
    "\n",
    "Our photo libraries are filled with images of our friends and family. A machine learning model that focuses on \"classification\" can successfully tell us that we have lots of photos of \"smiling man\" or \"smiling woman.\" Such models will not, generally, tell us which photos are of Uncle Al and Aunt Betty. _That_ task -- re-identifying individuals -- is a different problem and requires different approaches.\n",
    "\n",
    "Beyond identifying Uncle Al and Aunt Betty in a photo library, re-identification is a common problem for wildlife biologists. Many species have photographic catalogs taken over years and decades, and many species have some distinctive features that can be used to identify individuals. \n",
    "\n",
    "### Some animals and how they may be re-identified\n",
    "\n",
    "| Species | &nbsp | &nbsp |\n",
    "| --- | --- | --- |\n",
    "| Humpback Whales | tk | tk |\n",
    "| Tigers | tk | tk | \n",
    "| Dolphins | tk | tk | \n",
    "| Manta Rays | tk | tk | \n",
    "\n",
    "\n",
    "## Create the Python environment \n",
    "\n",
    "I developed this tutorial on Ubuntu 20.04, Cuda 10.2, PyTorch 1.7, FastAI 2.3. I have to admit that the rigmarole of exactly recreating a GPU-enabled virtual environment is a little beyond me, but I _think_ you have to install CUDA manually and then when you run the `conda create` command below, I _think_ it will download properly-configured versions of the various libraries. \n",
    "\n",
    "Prequisites: \n",
    "1. [Install conda](tk) \n",
    "1. [Install CUDA](tk)\n",
    "\n",
    "1. Clone this repo and change into the directory.\n",
    "1. Create the environment:\n",
    "    ```bash\n",
    "    conda create -f 'conda_environment.yml'\n",
    "    ```\n",
    "1. Activate the environment for use with:\n",
    "   ```bash\n",
    "   conda activate fastai\n",
    "   ```\n",
    "1. Confirm the environment by running:\n",
    "   ```bash\n",
    "   python .\\versions.py\n",
    "   ```\n",
    "Which should result in something similar to:\n",
    "```bash\n",
    "Pytorch : 1.7.0, FastAI : 2.3.1, CUDA? : True\n",
    "```\n",
    "\n",
    "The environment also installs Jupyter. You may need to restart your terminal session to have the `jupyter` in your path. Run:\n",
    "\n",
    "```bash\n",
    "jupyter notebook TripletLossTutorial.ipynb\n",
    "```\n",
    "\n",
    "and continue from there."
   ]
  },
  {
   "cell_type": "markdown",
   "id": "587d736f",
   "metadata": {},
   "source": [
    "# Tutorial: TripletLoss for re-identification using FastAI v2\n",
    "\n",
    "**If you have not done so, please see [README.md](readme.md) for instructions on creating the Python environment for this tutorial.**\n",
    "\n",
    "## Import packages\n",
    "\n",
    "Nothing surprising here, I think. To visualize the output, we're going to use scikit-learn's TSNE implementation. I've heard this isn't the fastest TSNE, but for 10K datapoints and a limited number of dimensions, it's fine. "
   ]
  },
  {
   "cell_type": "code",
   "execution_count": 1,
   "id": "70695725",
   "metadata": {
    "execution": {
     "iopub.execute_input": "2022-08-16T13:57:56.754180Z",
     "iopub.status.busy": "2022-08-16T13:57:56.753425Z",
     "iopub.status.idle": "2022-08-16T13:57:58.619255Z",
     "shell.execute_reply": "2022-08-16T13:57:58.618532Z",
     "shell.execute_reply.started": "2022-08-16T13:57:56.754114Z"
    },
    "tags": []
   },
   "outputs": [],
   "source": [
    "#from fastai.vision import *\n",
    "#from fastai.basics import *\n",
    "from fastai.vision.all import *\n",
    "\n",
    "\n",
    "#from fastai.vision.augment import *\n",
    "#from fastai.vision.learner import cnn_learner\n",
    "#from fastai.vision.models import resnet34\n",
    "#from fastai.metrics import accuracy\n",
    "from fastai.data.core import DataLoaders"
   ]
  },
  {
   "cell_type": "code",
   "execution_count": 3,
   "id": "cf0f774d",
   "metadata": {
    "execution": {
     "iopub.execute_input": "2022-08-16T13:58:06.977403Z",
     "iopub.status.busy": "2022-08-16T13:58:06.976857Z",
     "iopub.status.idle": "2022-08-16T13:58:06.981038Z",
     "shell.execute_reply": "2022-08-16T13:58:06.980002Z",
     "shell.execute_reply.started": "2022-08-16T13:58:06.977383Z"
    },
    "tags": []
   },
   "outputs": [],
   "source": [
    "import torch\n",
    "import torchvision\n",
    "import torch.nn as nn\n",
    "from loss_functions.triplet_loss import TripletLoss"
   ]
  },
  {
   "cell_type": "code",
   "execution_count": 4,
   "id": "ba5fc5c8",
   "metadata": {
    "execution": {
     "iopub.execute_input": "2022-08-16T13:58:07.600191Z",
     "iopub.status.busy": "2022-08-16T13:58:07.599534Z",
     "iopub.status.idle": "2022-08-16T13:58:07.603257Z",
     "shell.execute_reply": "2022-08-16T13:58:07.602459Z",
     "shell.execute_reply.started": "2022-08-16T13:58:07.600171Z"
    },
    "tags": []
   },
   "outputs": [],
   "source": [
    "from scipy import spatial\n",
    "import logging"
   ]
  },
  {
   "cell_type": "code",
   "execution_count": 5,
   "id": "5eee8960",
   "metadata": {
    "execution": {
     "iopub.execute_input": "2022-08-16T13:58:09.852438Z",
     "iopub.status.busy": "2022-08-16T13:58:09.852111Z",
     "iopub.status.idle": "2022-08-16T13:58:09.996708Z",
     "shell.execute_reply": "2022-08-16T13:58:09.995856Z",
     "shell.execute_reply.started": "2022-08-16T13:58:09.852393Z"
    },
    "tags": []
   },
   "outputs": [],
   "source": [
    "%matplotlib inline \n",
    "\n",
    "import matplotlib.pyplot as plt\n",
    "import matplotlib.patches as patches\n",
    "from sklearn.manifold import TSNE\n",
    "from matplotlib import cm\n",
    "from mpl_toolkits.axes_grid1 import ImageGrid"
   ]
  },
  {
   "cell_type": "markdown",
   "id": "eaf5612f",
   "metadata": {},
   "source": [
    "## Confirm versions and CUDA\n",
    "\n",
    "This is just to confirm you're running GPU-accelerated. If you don't have a GPU, I think training will be very slow. (Let me know if I'm wrong!)"
   ]
  },
  {
   "cell_type": "code",
   "execution_count": 6,
   "id": "6db7e95b",
   "metadata": {
    "execution": {
     "iopub.execute_input": "2022-08-16T13:58:11.269917Z",
     "iopub.status.busy": "2022-08-16T13:58:11.269216Z",
     "iopub.status.idle": "2022-08-16T13:58:11.276243Z",
     "shell.execute_reply": "2022-08-16T13:58:11.275306Z",
     "shell.execute_reply.started": "2022-08-16T13:58:11.269896Z"
    },
    "tags": []
   },
   "outputs": [
    {
     "data": {
      "text/plain": [
       "'2.7.9'"
      ]
     },
     "execution_count": 6,
     "metadata": {},
     "output_type": "execute_result"
    }
   ],
   "source": [
    "import fastai\n",
    "fastai.__version__"
   ]
  },
  {
   "cell_type": "code",
   "execution_count": 7,
   "id": "2f72706c",
   "metadata": {
    "execution": {
     "iopub.execute_input": "2022-08-16T13:58:12.201549Z",
     "iopub.status.busy": "2022-08-16T13:58:12.200727Z",
     "iopub.status.idle": "2022-08-16T13:58:12.207786Z",
     "shell.execute_reply": "2022-08-16T13:58:12.206300Z",
     "shell.execute_reply.started": "2022-08-16T13:58:12.201528Z"
    },
    "tags": []
   },
   "outputs": [
    {
     "data": {
      "text/plain": [
       "True"
      ]
     },
     "execution_count": 7,
     "metadata": {},
     "output_type": "execute_result"
    }
   ],
   "source": [
    "torch.cuda.is_available()"
   ]
  },
  {
   "cell_type": "code",
   "execution_count": 8,
   "id": "a6a0b375",
   "metadata": {
    "execution": {
     "iopub.execute_input": "2022-08-16T13:58:13.054026Z",
     "iopub.status.busy": "2022-08-16T13:58:13.053484Z",
     "iopub.status.idle": "2022-08-16T13:58:13.062453Z",
     "shell.execute_reply": "2022-08-16T13:58:13.061350Z",
     "shell.execute_reply.started": "2022-08-16T13:58:13.054007Z"
    },
    "tags": []
   },
   "outputs": [],
   "source": [
    "device = 0\n",
    "torch.cuda.set_device(device)"
   ]
  },
  {
   "cell_type": "markdown",
   "id": "c4ee3875",
   "metadata": {},
   "source": [
    "## Setup the training data\n",
    "\n",
    "The training data for this tutorial is the MNIST dataset of hand-written digits 0-9. The dataset contains 10K PNG images of size 28x28. The PNGs are 3-channel, but all the pixels are grayscale. Dear ol' MNIST.\n",
    "\n",
    "IMAGE TK \n",
    "\n",
    "Now, you're probably used to MNIST as a dataset for _image classification_: \"To which of the trained-on categories ('0'...'9') does this query image most likely belong?\" But for this tutorial, we're using it to learn \"glyph re-identification.\" Our acid test will be seeing if images of a glyph not seen during training (a star) can be re-identified with very few samples (aka \"low shot\").\n",
    "\n",
    "`URLs.MNIST`, `untar_data()`, and `get_image_files()` are from the `fastai.basics` module. The following cell will download, if necessary, the MNIST dataset and unpack it. By default, the data will be stored in `~/.fastai/data`. (It's a good idea to keep track of the size of that directory when fooling around with FastAI! Some of the datasets are _big_!)."
   ]
  },
  {
   "cell_type": "code",
   "execution_count": 9,
   "id": "0963c65b",
   "metadata": {
    "execution": {
     "iopub.execute_input": "2022-08-16T13:58:16.174960Z",
     "iopub.status.busy": "2022-08-16T13:58:16.174746Z",
     "iopub.status.idle": "2022-08-16T13:58:16.445157Z",
     "shell.execute_reply": "2022-08-16T13:58:16.444409Z",
     "shell.execute_reply.started": "2022-08-16T13:58:16.174931Z"
    },
    "tags": []
   },
   "outputs": [],
   "source": [
    "mnist = untar_data(URLs.MNIST)\n",
    "fnames = get_image_files(mnist)"
   ]
  },
  {
   "cell_type": "markdown",
   "id": "e112b04d",
   "metadata": {},
   "source": [
    "Now, `~/.fastai/data/mnist_ping/` contains `testing/` and `training/` directories, which in turn have `0/`, `1/`, `2/`, etc. subdirectories. FastAI v2's `ImageDataLoaders` class can process this typical directory structure and take care of the boilerplate of testing vs. training sets, loading and transforming the images appropriately for processing, etc."
   ]
  },
  {
   "cell_type": "code",
   "execution_count": 10,
   "id": "1dc11dfc",
   "metadata": {
    "execution": {
     "iopub.execute_input": "2022-08-16T13:58:18.230571Z",
     "iopub.status.busy": "2022-08-16T13:58:18.230354Z",
     "iopub.status.idle": "2022-08-16T13:58:21.768404Z",
     "shell.execute_reply": "2022-08-16T13:58:21.767684Z",
     "shell.execute_reply.started": "2022-08-16T13:58:18.230555Z"
    },
    "tags": []
   },
   "outputs": [],
   "source": [
    "# The proper label for an image is the name of the directory it's in. e.g., \"1\" is the proper label for `1/1.png`\n",
    "def label_func(x): return x.parent.name\n",
    "\n",
    "dls = ImageDataLoaders.from_path_func(mnist, fnames, label_func, bs=512)"
   ]
  },
  {
   "cell_type": "markdown",
   "id": "b3474134",
   "metadata": {},
   "source": [
    "The output of a TripletLoss-based model is an embedding (a vector representing a point in a high-dimensional space). The goal is that each of the dimensions in this embedding space represents a feature in the \"how to tell individuals of this class apart\" solution space. The distance between any two embeddings \n",
    "\n",
    "After training, the model generates embedding values for a query image. \n",
    "\n",
    "In a real-world animal re-identification model, this might be on the order of 128. In the case of MNIST, we can get fine results with just a few output features."
   ]
  },
  {
   "cell_type": "code",
   "execution_count": 11,
   "id": "0653e678",
   "metadata": {
    "execution": {
     "iopub.execute_input": "2022-08-16T13:58:21.769391Z",
     "iopub.status.busy": "2022-08-16T13:58:21.769260Z",
     "iopub.status.idle": "2022-08-16T13:58:21.773339Z",
     "shell.execute_reply": "2022-08-16T13:58:21.772276Z",
     "shell.execute_reply.started": "2022-08-16T13:58:21.769376Z"
    },
    "tags": []
   },
   "outputs": [],
   "source": [
    "# output_embedding_length = 128\n",
    "output_embedding_length = 32"
   ]
  },
  {
   "cell_type": "markdown",
   "id": "33c2448f",
   "metadata": {},
   "source": [
    "To create a TripletLoss-based embedding, we'll start with a standard Convolutional Neural Network using our recently created `dls` `ImageDataLoaders` object, the ResNet34 architecture, and FastAI's (PyTorch's?) TripletLoss function. "
   ]
  },
  {
   "cell_type": "code",
   "execution_count": 13,
   "id": "c7b0afd0",
   "metadata": {
    "execution": {
     "iopub.execute_input": "2022-08-16T13:59:26.951698Z",
     "iopub.status.busy": "2022-08-16T13:59:26.951310Z",
     "iopub.status.idle": "2022-08-16T13:59:27.224980Z",
     "shell.execute_reply": "2022-08-16T13:59:27.224104Z",
     "shell.execute_reply.started": "2022-08-16T13:59:26.951669Z"
    },
    "tags": []
   },
   "outputs": [],
   "source": [
    "#learn = vision_learner(dls, resnet34, metrics=accuracy, loss_func=TripletLoss(device))\n",
    "learn = vision_learner(dls, resnet34, metrics=[], loss_func=TripletLoss(device))"
   ]
  },
  {
   "cell_type": "code",
   "execution_count": 14,
   "id": "b53ba4fd",
   "metadata": {
    "execution": {
     "iopub.execute_input": "2022-08-16T13:59:30.815924Z",
     "iopub.status.busy": "2022-08-16T13:59:30.815753Z",
     "iopub.status.idle": "2022-08-16T13:59:30.822858Z",
     "shell.execute_reply": "2022-08-16T13:59:30.821996Z",
     "shell.execute_reply.started": "2022-08-16T13:59:30.815909Z"
    },
    "tags": []
   },
   "outputs": [
    {
     "data": {
      "text/plain": [
       "Sequential(\n",
       "  (0): AdaptiveConcatPool2d(\n",
       "    (ap): AdaptiveAvgPool2d(output_size=1)\n",
       "    (mp): AdaptiveMaxPool2d(output_size=1)\n",
       "  )\n",
       "  (1): Flatten(full=False)\n",
       "  (2): BatchNorm1d(1024, eps=1e-05, momentum=0.1, affine=True, track_running_stats=True)\n",
       "  (3): Dropout(p=0.25, inplace=False)\n",
       "  (4): Linear(in_features=1024, out_features=512, bias=False)\n",
       "  (5): ReLU(inplace=True)\n",
       "  (6): BatchNorm1d(512, eps=1e-05, momentum=0.1, affine=True, track_running_stats=True)\n",
       "  (7): Dropout(p=0.5, inplace=False)\n",
       "  (8): Linear(in_features=512, out_features=10, bias=False)\n",
       ")"
      ]
     },
     "execution_count": 14,
     "metadata": {},
     "output_type": "execute_result"
    }
   ],
   "source": [
    "# learn.model[0] contains the network's \"body\", and model[1] just the head:\n",
    "learn.model[1]"
   ]
  },
  {
   "cell_type": "markdown",
   "id": "8f6a1209",
   "metadata": {},
   "source": [
    "We want to replace the classification head of the ResNet34 architecture with an embedding output.  The `L2_norm` class normalizes the values to the range $ (0.0,1.0) $. "
   ]
  },
  {
   "cell_type": "code",
   "execution_count": 15,
   "id": "aab61b3e",
   "metadata": {
    "execution": {
     "iopub.execute_input": "2022-08-16T13:59:32.038280Z",
     "iopub.status.busy": "2022-08-16T13:59:32.038095Z",
     "iopub.status.idle": "2022-08-16T13:59:32.043105Z",
     "shell.execute_reply": "2022-08-16T13:59:32.042223Z",
     "shell.execute_reply.started": "2022-08-16T13:59:32.038264Z"
    },
    "tags": []
   },
   "outputs": [],
   "source": [
    "class L2_norm(nn.Module):\n",
    "    def __init__(self):\n",
    "        super(L2_norm, self).__init__()\n",
    "\n",
    "    def forward(self, x):\n",
    "        return F.normalize(x, p=2, dim=-1)"
   ]
  },
  {
   "cell_type": "code",
   "execution_count": 16,
   "id": "2428d5fe",
   "metadata": {
    "execution": {
     "iopub.execute_input": "2022-08-16T13:59:32.886293Z",
     "iopub.status.busy": "2022-08-16T13:59:32.886113Z",
     "iopub.status.idle": "2022-08-16T13:59:32.905455Z",
     "shell.execute_reply": "2022-08-16T13:59:32.904730Z",
     "shell.execute_reply.started": "2022-08-16T13:59:32.886277Z"
    },
    "tags": []
   },
   "outputs": [],
   "source": [
    "layers = learn.model[1]\n",
    "learn.model[1] = nn.Sequential(\n",
    "#    layers[0], layers[1], layers[2], layers[3], nn.Linear(in_features=1024, out_features=output_embedding_length, bias=False), L2_norm()\n",
    "    layers[0], layers[1], layers[2], layers[3], layers[4], layers[5], layers[6], layers[7], \n",
    "    nn.Linear(in_features=512, out_features=output_embedding_length, bias=False), L2_norm()\n",
    ").to(device)\n",
    "    "
   ]
  },
  {
   "cell_type": "code",
   "execution_count": 17,
   "id": "5a6c7671",
   "metadata": {
    "execution": {
     "iopub.execute_input": "2022-08-16T13:59:34.422847Z",
     "iopub.status.busy": "2022-08-16T13:59:34.422603Z",
     "iopub.status.idle": "2022-08-16T13:59:34.428400Z",
     "shell.execute_reply": "2022-08-16T13:59:34.427427Z",
     "shell.execute_reply.started": "2022-08-16T13:59:34.422817Z"
    },
    "tags": []
   },
   "outputs": [
    {
     "data": {
      "text/plain": [
       "Sequential(\n",
       "  (0): AdaptiveConcatPool2d(\n",
       "    (ap): AdaptiveAvgPool2d(output_size=1)\n",
       "    (mp): AdaptiveMaxPool2d(output_size=1)\n",
       "  )\n",
       "  (1): Flatten(full=False)\n",
       "  (2): BatchNorm1d(1024, eps=1e-05, momentum=0.1, affine=True, track_running_stats=True)\n",
       "  (3): Dropout(p=0.25, inplace=False)\n",
       "  (4): Linear(in_features=1024, out_features=512, bias=False)\n",
       "  (5): ReLU(inplace=True)\n",
       "  (6): BatchNorm1d(512, eps=1e-05, momentum=0.1, affine=True, track_running_stats=True)\n",
       "  (7): Dropout(p=0.5, inplace=False)\n",
       "  (8): Linear(in_features=512, out_features=32, bias=False)\n",
       "  (9): L2_norm()\n",
       ")"
      ]
     },
     "execution_count": 17,
     "metadata": {},
     "output_type": "execute_result"
    }
   ],
   "source": [
    "learn.model[1]"
   ]
  },
  {
   "cell_type": "markdown",
   "id": "740c99bc",
   "metadata": {},
   "source": [
    "We now have a model configured for TripletLoss. What happens behind the scene when this model is trained? \n",
    "\n",
    "Basically, the training loop will grab 3 images: a `target` image, a `positive` image, and a `negative` image. The `target` and `positive` are in the same class ('1', '2', '3', etc.) while the `negative` image is in a different class. The basic goal of training is to find weights such that `target` and `positive` have embedding values that are near other while `target` and `negative` have embedding values that are far from each other. \n",
    "\n",
    "If you think about that, _most_ triplets are going to end up being 'easy'; any two random '9's are likely to share several features, while a randomly selected not-9 is unlikely to be \"oh, yeah, that could be a 9.\" So training with just-random triplets is less efficient than training with 'hard' triplets. In a hard triplet, the `positive` and `negative` are as close as possible to the dividing line in \"tell glyphs apart\" embedding space. In an ideal 'hard' triplet with a `target` in class '9', the 'positive' is a '9' image that's close in appearance to a '7' image that could be mistaken for a '9'. Finding hard triplets and using them for training is somewhere between \"valuable\" and \"essential\" in real-world re-identification tasks. \"Triplet mining\" is outside the scope of this tutorial, but you can read more about it [here](tk). "
   ]
  },
  {
   "cell_type": "markdown",
   "id": "a3b71d59",
   "metadata": {},
   "source": [
    "## Training\n",
    "\n",
    "FastAI's `lr_find()` function does a quick sweep of learning rates. Typically, a good learning rate is one where the slope of the `lr_find()` graph is steepest."
   ]
  },
  {
   "cell_type": "code",
   "execution_count": 18,
   "id": "df59ac88",
   "metadata": {
    "execution": {
     "iopub.execute_input": "2022-08-16T13:59:40.465505Z",
     "iopub.status.busy": "2022-08-16T13:59:40.465293Z",
     "iopub.status.idle": "2022-08-16T13:59:54.911629Z",
     "shell.execute_reply": "2022-08-16T13:59:54.910289Z",
     "shell.execute_reply.started": "2022-08-16T13:59:40.465475Z"
    },
    "tags": []
   },
   "outputs": [
    {
     "data": {
      "text/html": [
       "\n",
       "<style>\n",
       "    /* Turns off some styling */\n",
       "    progress {\n",
       "        /* gets rid of default border in Firefox and Opera. */\n",
       "        border: none;\n",
       "        /* Needs to be in here for Safari polyfill so background images work as expected. */\n",
       "        background-size: auto;\n",
       "    }\n",
       "    progress:not([value]), progress:not([value])::-webkit-progress-bar {\n",
       "        background: repeating-linear-gradient(45deg, #7e7e7e, #7e7e7e 10px, #5c5c5c 10px, #5c5c5c 20px);\n",
       "    }\n",
       "    .progress-bar-interrupted, .progress-bar-interrupted::-webkit-progress-bar {\n",
       "        background: #F44336;\n",
       "    }\n",
       "</style>\n"
      ],
      "text/plain": [
       "<IPython.core.display.HTML object>"
      ]
     },
     "metadata": {},
     "output_type": "display_data"
    },
    {
     "data": {
      "text/html": [],
      "text/plain": [
       "<IPython.core.display.HTML object>"
      ]
     },
     "metadata": {},
     "output_type": "display_data"
    },
    {
     "data": {
      "text/plain": [
       "SuggestedLRs(valley=0.005248074419796467)"
      ]
     },
     "execution_count": 18,
     "metadata": {},
     "output_type": "execute_result"
    },
    {
     "data": {
      "image/png": "[encoded data removed]",
      "text/plain": [
       "<Figure size 432x288 with 1 Axes>"
      ]
     },
     "metadata": {
      "needs_background": "light"
     },
     "output_type": "display_data"
    }
   ],
   "source": [
    "learn.lr_find()"
   ]
  },
  {
   "cell_type": "markdown",
   "id": "389dfac7",
   "metadata": {},
   "source": [
    "For tutorial purposes and because MNIST is pretty easy, we're going to use a fast learning rate and few epochs. Real-world data sets won't be so kind!"
   ]
  },
  {
   "cell_type": "code",
   "execution_count": 21,
   "id": "c60ffae1",
   "metadata": {
    "execution": {
     "iopub.execute_input": "2022-08-16T14:01:26.646743Z",
     "iopub.status.busy": "2022-08-16T14:01:26.646159Z",
     "iopub.status.idle": "2022-08-16T14:01:26.840653Z",
     "shell.execute_reply": "2022-08-16T14:01:26.839916Z",
     "shell.execute_reply.started": "2022-08-16T14:01:26.646722Z"
    },
    "tags": []
   },
   "outputs": [],
   "source": [
    "epochs = 20\n",
    "model_name = f'{epochs}_epochs_{output_embedding_length}_features'\n",
    "\n",
    "try:\n",
    "    learn = learn.load(model_name)\n",
    "except:\n",
    "    lr = 0.13\n",
    "    epochs = 20\n",
    "    learn.fit_one_cycle(epochs, slice(lr))\n",
    "    learn.save(model_name)"
   ]
  },
  {
   "cell_type": "markdown",
   "id": "0a547b24",
   "metadata": {},
   "source": [
    "## Inferencing\n",
    "\n",
    "To get the output embedding of a `query` image, we just use `learn.predict()` on our trained `Learner: "
   ]
  },
  {
   "cell_type": "code",
   "execution_count": 22,
   "id": "fe76a6b6",
   "metadata": {
    "execution": {
     "iopub.execute_input": "2022-08-16T14:01:30.833579Z",
     "iopub.status.busy": "2022-08-16T14:01:30.833018Z",
     "iopub.status.idle": "2022-08-16T14:01:31.008581Z",
     "shell.execute_reply": "2022-08-16T14:01:31.007519Z",
     "shell.execute_reply.started": "2022-08-16T14:01:30.833559Z"
    },
    "tags": []
   },
   "outputs": [
    {
     "data": {
      "text/html": [
       "\n",
       "<style>\n",
       "    /* Turns off some styling */\n",
       "    progress {\n",
       "        /* gets rid of default border in Firefox and Opera. */\n",
       "        border: none;\n",
       "        /* Needs to be in here for Safari polyfill so background images work as expected. */\n",
       "        background-size: auto;\n",
       "    }\n",
       "    progress:not([value]), progress:not([value])::-webkit-progress-bar {\n",
       "        background: repeating-linear-gradient(45deg, #7e7e7e, #7e7e7e 10px, #5c5c5c 10px, #5c5c5c 20px);\n",
       "    }\n",
       "    .progress-bar-interrupted, .progress-bar-interrupted::-webkit-progress-bar {\n",
       "        background: #F44336;\n",
       "    }\n",
       "</style>\n"
      ],
      "text/plain": [
       "<IPython.core.display.HTML object>"
      ]
     },
     "metadata": {},
     "output_type": "display_data"
    },
    {
     "data": {
      "text/html": [],
      "text/plain": [
       "<IPython.core.display.HTML object>"
      ]
     },
     "metadata": {},
     "output_type": "display_data"
    },
    {
     "name": "stdout",
     "output_type": "stream",
     "text": [
      "[-0.10099696 -0.08450948  0.03510209 -0.15825109 -0.04520801  0.20577735\n",
      "  0.10355564  0.01773667  0.05295658 -0.09321447  0.03732459  0.0393499\n",
      "  0.02228327 -0.06537104  0.09933136  0.08348498 -0.02667931 -0.22959505\n",
      " -0.04327893 -0.07219108 -0.09431483  0.0125113  -0.46360245 -0.11086255\n",
      "  0.35560194  0.18639638  0.06533853  0.28910112  0.13699105  0.15609336\n",
      " -0.30878097  0.42498502]\n"
     ]
    }
   ],
   "source": [
    "query_img = PILImage.create('stars/Star1.png')\n",
    "result = learn.predict(query_img)\n",
    "query_fingerprint = result[1].numpy()\n",
    "print(query_fingerprint)"
   ]
  },
  {
   "cell_type": "markdown",
   "id": "ee3680b4",
   "metadata": {},
   "source": [
    "### Fingerprinting the exemplars\n",
    "\n",
    "Create the database to which we will compare `query_fingerprint`:    "
   ]
  },
  {
   "cell_type": "code",
   "execution_count": 23,
   "id": "4117ef00",
   "metadata": {
    "execution": {
     "iopub.execute_input": "2022-08-16T14:01:35.782917Z",
     "iopub.status.busy": "2022-08-16T14:01:35.782458Z",
     "iopub.status.idle": "2022-08-16T14:01:35.829946Z",
     "shell.execute_reply": "2022-08-16T14:01:35.829005Z",
     "shell.execute_reply.started": "2022-08-16T14:01:35.782898Z"
    },
    "tags": []
   },
   "outputs": [
    {
     "data": {
      "text/plain": [
       "10000"
      ]
     },
     "execution_count": 23,
     "metadata": {},
     "output_type": "execute_result"
    }
   ],
   "source": [
    "fnames = list(Path(mnist/'testing').rglob('*.png'))\n",
    "len(fnames)"
   ]
  },
  {
   "cell_type": "code",
   "execution_count": 24,
   "id": "afdbf8b5",
   "metadata": {
    "execution": {
     "iopub.execute_input": "2022-08-16T14:01:37.390863Z",
     "iopub.status.busy": "2022-08-16T14:01:37.390647Z",
     "iopub.status.idle": "2022-08-16T14:01:37.397059Z",
     "shell.execute_reply": "2022-08-16T14:01:37.396243Z",
     "shell.execute_reply.started": "2022-08-16T14:01:37.390834Z"
    },
    "tags": []
   },
   "outputs": [
    {
     "data": {
      "text/plain": [
       "Path('/home/jav/.fastai/data/mnist_png/testing/4/7818.png')"
      ]
     },
     "execution_count": 24,
     "metadata": {},
     "output_type": "execute_result"
    }
   ],
   "source": [
    "fnames[0]"
   ]
  },
  {
   "cell_type": "code",
   "execution_count": 25,
   "id": "d83ab8c7-b1fb-49c7-b4b0-f0a84c9d1afd",
   "metadata": {
    "execution": {
     "iopub.execute_input": "2022-08-16T14:01:39.217500Z",
     "iopub.status.busy": "2022-08-16T14:01:39.217285Z",
     "iopub.status.idle": "2022-08-16T14:04:31.302623Z",
     "shell.execute_reply": "2022-08-16T14:04:31.301333Z",
     "shell.execute_reply.started": "2022-08-16T14:01:39.217470Z"
    },
    "tags": [
     "hide-output"
    ]
   },
   "outputs": [
    {
     "data": {
      "text/html": [
       "\n",
       "<style>\n",
       "    /* Turns off some styling */\n",
       "    progress {\n",
       "        /* gets rid of default border in Firefox and Opera. */\n",
       "        border: none;\n",
       "        /* Needs to be in here for Safari polyfill so background images work as expected. */\n",
       "        background-size: auto;\n",
       "    }\n",
       "    progress:not([value]), progress:not([value])::-webkit-progress-bar {\n",
       "        background: repeating-linear-gradient(45deg, #7e7e7e, #7e7e7e 10px, #5c5c5c 10px, #5c5c5c 20px);\n",
       "    }\n",
       "    .progress-bar-interrupted, .progress-bar-interrupted::-webkit-progress-bar {\n",
       "        background: #F44336;\n",
       "    }\n",
       "</style>\n"
      ],
      "text/plain": [
       "<IPython.core.display.HTML object>"
      ]
     },
     "metadata": {},
     "output_type": "display_data"
    },
    {
     "data": {
      "text/html": [
       "\n",
       "    <div>\n",
       "      <progress value='10000' class='' max='10000' style='width:300px; height:20px; vertical-align: middle;'></progress>\n",
       "      100.00% [10000/10000 02:52&lt;00:00]\n",
       "    </div>\n",
       "    "
      ],
      "text/plain": [
       "<IPython.core.display.HTML object>"
      ]
     },
     "metadata": {},
     "output_type": "display_data"
    }
   ],
   "source": [
    "def fingerprint_all(fnames):\n",
    "    fingerprints = {}\n",
    "    for f in progress_bar(fnames):\n",
    "        category = label_func(f)\n",
    "        img = PILImage.create(f)\n",
    "        with learn.no_bar():\n",
    "            result = learn.predict(img)\n",
    "        fingerprint = result[1].numpy()\n",
    "        fingerprints[(category,f)] = fingerprint\n",
    "    return fingerprints\n",
    "\n",
    "fingerprint_db = fingerprint_all(fnames)"
   ]
  },
  {
   "cell_type": "markdown",
   "id": "d7f9cdbf",
   "metadata": {},
   "source": [
    "## Nearest k-neighbors\n",
    "\n",
    "Because our embedding values are normalized, finding the nearest k-neighbors is trivial:"
   ]
  },
  {
   "cell_type": "code",
   "execution_count": 26,
   "id": "2390d32b",
   "metadata": {
    "execution": {
     "iopub.execute_input": "2022-08-16T14:04:53.622571Z",
     "iopub.status.busy": "2022-08-16T14:04:53.621578Z",
     "iopub.status.idle": "2022-08-16T14:04:53.626145Z",
     "shell.execute_reply": "2022-08-16T14:04:53.625324Z",
     "shell.execute_reply.started": "2022-08-16T14:04:53.622550Z"
    },
    "tags": []
   },
   "outputs": [],
   "source": [
    "# Find k nearest neighbour using cosine similarity. Normalized vectors, so easy...\n",
    "def find_k_nearest_neighbors(vectors,vec,k):\n",
    "    dist_arr = np.matmul(vectors, vec.T)\n",
    "    return np.argsort(-dist_arr.flatten())[:k]\n"
   ]
  },
  {
   "cell_type": "code",
   "execution_count": 27,
   "id": "09966276",
   "metadata": {
    "execution": {
     "iopub.execute_input": "2022-08-16T14:04:58.706649Z",
     "iopub.status.busy": "2022-08-16T14:04:58.706471Z",
     "iopub.status.idle": "2022-08-16T14:04:58.812765Z",
     "shell.execute_reply": "2022-08-16T14:04:58.811999Z",
     "shell.execute_reply.started": "2022-08-16T14:04:58.706632Z"
    },
    "scrolled": true,
    "tags": []
   },
   "outputs": [
    {
     "data": {
      "image/png": "[encoded data removed]",
      "text/plain": [
       "<PIL.PngImagePlugin.PngImageFile image mode=L size=28x28>"
      ]
     },
     "metadata": {},
     "output_type": "display_data"
    },
    {
     "data": {
      "text/plain": [
       "['8',\n",
       " Path('/home/jav/.fastai/data/mnist_png/testing/8/1530.png'),\n",
       " 0.046761393547058105,\n",
       " array([-0.15196997, -0.03608787,  0.00868906, -0.1474988 , -0.07871772,\n",
       "         0.18009232,  0.06617993, -0.07894154,  0.12192538, -0.02143634,\n",
       "         0.04440383,  0.10302673,  0.03750927, -0.07367066,  0.09718364,\n",
       "         0.12069038,  0.0224285 , -0.25404668, -0.11400666, -0.16254014,\n",
       "        -0.0650501 , -0.10554277, -0.3876711 , -0.04148291,  0.3751997 ,\n",
       "         0.14719807, -0.00786453,  0.28334555,  0.04159332,  0.13660236,\n",
       "        -0.338259  ,  0.44309753], dtype=float32)]"
      ]
     },
     "metadata": {},
     "output_type": "display_data"
    },
    {
     "data": {
      "image/png": "[encoded data removed]",
      "text/plain": [
       "<PIL.PngImagePlugin.PngImageFile image mode=L size=28x28>"
      ]
     },
     "metadata": {},
     "output_type": "display_data"
    },
    {
     "data": {
      "text/plain": [
       "['8',\n",
       " Path('/home/jav/.fastai/data/mnist_png/testing/8/9695.png'),\n",
       " 0.05765575170516968,\n",
       " array([-0.14378099, -0.01904452,  0.02563651, -0.16199934, -0.0731125 ,\n",
       "         0.17124939,  0.04726793, -0.07125276,  0.1401669 , -0.03016548,\n",
       "         0.08940042,  0.09959242,  0.03449062, -0.08187288,  0.08232458,\n",
       "         0.1259517 ,  0.037958  , -0.27090096, -0.08992128, -0.15366232,\n",
       "        -0.0683461 , -0.1331811 , -0.35772353, -0.02952323,  0.35062593,\n",
       "         0.17712657, -0.0079319 ,  0.27478832,  0.03862523,  0.11074734,\n",
       "        -0.3604329 ,  0.45798868], dtype=float32)]"
      ]
     },
     "metadata": {},
     "output_type": "display_data"
    },
    {
     "data": {
      "image/png": "[encoded data removed]",
      "text/plain": [
       "<PIL.PngImagePlugin.PngImageFile image mode=L size=28x28>"
      ]
     },
     "metadata": {},
     "output_type": "display_data"
    },
    {
     "data": {
      "text/plain": [
       "['8',\n",
       " Path('/home/jav/.fastai/data/mnist_png/testing/8/7845.png'),\n",
       " 0.05808192491531372,\n",
       " array([-1.07208796e-01,  1.58861019e-02,  1.01681929e-02, -1.64128333e-01,\n",
       "        -7.68265128e-02,  1.69703022e-01,  8.00302997e-02, -3.77415568e-02,\n",
       "         1.36849627e-01, -9.14011709e-03,  9.38586593e-02,  1.22826666e-01,\n",
       "         2.78840382e-02, -1.06367722e-01,  7.64094442e-02,  1.00307576e-01,\n",
       "         2.54410412e-02, -2.66223699e-01, -9.38874185e-02, -1.80105120e-01,\n",
       "        -1.01681605e-01, -1.25512525e-01, -3.67389411e-01, -3.09003498e-02,\n",
       "         3.22947919e-01,  1.96895123e-01,  3.48446702e-05,  2.83417195e-01,\n",
       "         6.25862926e-02,  8.62728059e-02, -3.62059206e-01,  4.55357343e-01],\n",
       "       dtype=float32)]"
      ]
     },
     "metadata": {},
     "output_type": "display_data"
    },
    {
     "data": {
      "image/png": "[encoded data removed]",
      "text/plain": [
       "<PIL.PngImagePlugin.PngImageFile image mode=L size=28x28>"
      ]
     },
     "metadata": {},
     "output_type": "display_data"
    },
    {
     "data": {
      "text/plain": [
       "['8',\n",
       " Path('/home/jav/.fastai/data/mnist_png/testing/8/4978.png'),\n",
       " 0.059948503971099854,\n",
       " array([-0.13393578, -0.01838107, -0.00534778, -0.17210366, -0.07266845,\n",
       "         0.18902731,  0.03273853, -0.08977108,  0.13195774, -0.02636713,\n",
       "         0.09701853,  0.1159689 ,  0.02596068, -0.09155644,  0.10679887,\n",
       "         0.15774828,  0.01430953, -0.24548481, -0.13471584, -0.16768138,\n",
       "        -0.04165975, -0.1139208 , -0.39835957, -0.02385826,  0.35113412,\n",
       "         0.1411736 ,  0.03943544,  0.27782732,  0.02119364,  0.11498547,\n",
       "        -0.33189255,  0.43487713], dtype=float32)]"
      ]
     },
     "metadata": {},
     "output_type": "display_data"
    },
    {
     "data": {
      "image/png": "[encoded data removed]",
      "text/plain": [
       "<PIL.PngImagePlugin.PngImageFile image mode=L size=28x28>"
      ]
     },
     "metadata": {},
     "output_type": "display_data"
    },
    {
     "data": {
      "text/plain": [
       "['8',\n",
       " Path('/home/jav/.fastai/data/mnist_png/testing/8/7923.png'),\n",
       " 0.061333417892456055,\n",
       " array([-0.13801472,  0.00621954,  0.01324526, -0.15497565, -0.07363982,\n",
       "         0.18480222,  0.06190637, -0.07731929,  0.14280462, -0.01529375,\n",
       "         0.06797428,  0.12477075,  0.03360037, -0.09421641,  0.08267348,\n",
       "         0.1202066 ,  0.02800406, -0.23831494, -0.12120299, -0.17994858,\n",
       "        -0.07378727, -0.12906069, -0.37269413, -0.03644777,  0.3587743 ,\n",
       "         0.15787394, -0.00156036,  0.28049743,  0.04324026,  0.09545978,\n",
       "        -0.3575211 ,  0.4439831 ], dtype=float32)]"
      ]
     },
     "metadata": {},
     "output_type": "display_data"
    },
    {
     "data": {
      "image/png": "[encoded data removed]",
      "text/plain": [
       "<PIL.PngImagePlugin.PngImageFile image mode=L size=28x28>"
      ]
     },
     "metadata": {},
     "output_type": "display_data"
    },
    {
     "data": {
      "text/plain": [
       "['8',\n",
       " Path('/home/jav/.fastai/data/mnist_png/testing/8/8522.png'),\n",
       " 0.06222796440124512,\n",
       " array([-0.12476783,  0.00766327,  0.01253117, -0.15939318, -0.0901918 ,\n",
       "         0.14988562,  0.0321156 , -0.07108332,  0.12217312, -0.05132951,\n",
       "         0.07190754,  0.11549593,  0.02556554, -0.12640232,  0.08192091,\n",
       "         0.14909093,  0.04484734, -0.229729  , -0.08162493, -0.17374739,\n",
       "        -0.07640947, -0.10110657, -0.34674266, -0.01630255,  0.3628034 ,\n",
       "         0.1782804 ,  0.02545982,  0.29276216,  0.03688889,  0.08349589,\n",
       "        -0.36321253,  0.47145176], dtype=float32)]"
      ]
     },
     "metadata": {},
     "output_type": "display_data"
    },
    {
     "data": {
      "image/png": "[encoded data removed]",
      "text/plain": [
       "<PIL.PngImagePlugin.PngImageFile image mode=L size=28x28>"
      ]
     },
     "metadata": {},
     "output_type": "display_data"
    },
    {
     "data": {
      "text/plain": [
       "['8',\n",
       " Path('/home/jav/.fastai/data/mnist_png/testing/8/1899.png'),\n",
       " 0.06499218940734863,\n",
       " array([-1.27346948e-01, -1.83118563e-02, -1.64001400e-03, -1.12126172e-01,\n",
       "        -9.83644724e-02,  1.20315835e-01,  6.54301345e-02, -5.12091704e-02,\n",
       "         1.52682900e-01, -2.65320949e-02,  1.01760603e-01,  1.01684757e-01,\n",
       "         4.37608658e-04, -9.08510759e-02,  1.15145333e-01,  1.16071053e-01,\n",
       "         1.89567525e-02, -2.89904714e-01, -2.81014871e-02, -1.68478966e-01,\n",
       "        -8.66025165e-02, -1.19814016e-01, -3.51793557e-01, -3.32695502e-03,\n",
       "         3.51190627e-01,  1.90500647e-01, -1.87768824e-02,  2.90717572e-01,\n",
       "         4.80326265e-02,  9.30584893e-02, -3.63771588e-01,  4.61655587e-01],\n",
       "       dtype=float32)]"
      ]
     },
     "metadata": {},
     "output_type": "display_data"
    },
    {
     "data": {
      "image/png": "[encoded data removed]",
      "text/plain": [
       "<PIL.PngImagePlugin.PngImageFile image mode=L size=28x28>"
      ]
     },
     "metadata": {},
     "output_type": "display_data"
    },
    {
     "data": {
      "text/plain": [
       "['8',\n",
       " Path('/home/jav/.fastai/data/mnist_png/testing/8/580.png'),\n",
       " 0.06748747825622559,\n",
       " array([-0.13130559, -0.00427955,  0.00618431, -0.17756099, -0.07211003,\n",
       "         0.19607309,  0.03610032, -0.07650073,  0.13990745, -0.00601777,\n",
       "         0.09886124,  0.1305777 ,  0.03129087, -0.0902622 ,  0.09924899,\n",
       "         0.13972628,  0.0141205 , -0.25533268, -0.12707938, -0.1729454 ,\n",
       "        -0.05700621, -0.1422437 , -0.38782725, -0.02004008,  0.33749428,\n",
       "         0.14314933,  0.02332693,  0.26700094,  0.02538364,  0.09330878,\n",
       "        -0.33804575,  0.44703257], dtype=float32)]"
      ]
     },
     "metadata": {},
     "output_type": "display_data"
    },
    {
     "data": {
      "image/png": "[encoded data removed]",
      "text/plain": [
       "<PIL.PngImagePlugin.PngImageFile image mode=L size=28x28>"
      ]
     },
     "metadata": {},
     "output_type": "display_data"
    },
    {
     "data": {
      "text/plain": [
       "['8',\n",
       " Path('/home/jav/.fastai/data/mnist_png/testing/8/1955.png'),\n",
       " 0.0702618956565857,\n",
       " array([-0.13201681,  0.02472456,  0.00523583, -0.17277762, -0.08472393,\n",
       "         0.16207097,  0.03596724, -0.08537581,  0.13170849, -0.02398622,\n",
       "         0.08799887,  0.11950567,  0.0326271 , -0.11376908,  0.07973925,\n",
       "         0.14595453,  0.03395455, -0.23491602, -0.11099958, -0.17845914,\n",
       "        -0.05886613, -0.12497291, -0.36913148, -0.0124557 ,  0.3447679 ,\n",
       "         0.15837647,  0.01603587,  0.28382334,  0.03426813,  0.08366528,\n",
       "        -0.35784483,  0.45983088], dtype=float32)]"
      ]
     },
     "metadata": {},
     "output_type": "display_data"
    },
    {
     "data": {
      "image/png": "[encoded data removed]",
      "text/plain": [
       "<PIL.PngImagePlugin.PngImageFile image mode=L size=28x28>"
      ]
     },
     "metadata": {},
     "output_type": "display_data"
    },
    {
     "data": {
      "text/plain": [
       "['8',\n",
       " Path('/home/jav/.fastai/data/mnist_png/testing/8/5771.png'),\n",
       " 0.07090085744857788,\n",
       " array([-0.12781088,  0.00892572,  0.00189792, -0.18430823, -0.08083843,\n",
       "         0.18911533,  0.01223383, -0.08254232,  0.12467169, -0.04286132,\n",
       "         0.08438423,  0.12680066,  0.02134114, -0.1101879 ,  0.10012072,\n",
       "         0.1764467 ,  0.02061235, -0.22360286, -0.13817692, -0.17863664,\n",
       "        -0.05047771, -0.11878041, -0.37152535, -0.01739322,  0.35964054,\n",
       "         0.13495684,  0.05790193,  0.28195673,  0.01602801,  0.08603457,\n",
       "        -0.33482018,  0.44657353], dtype=float32)]"
      ]
     },
     "metadata": {},
     "output_type": "display_data"
    }
   ],
   "source": [
    "## Put it together\n",
    "\n",
    "def best_match_mnist(fingerprint_db, fingerprint, k, display_data=False):\n",
    "    fps = list(fingerprint_db.values())\n",
    "    keys = list(fingerprint_db.keys())\n",
    "    match_indices = find_k_nearest_neighbors(fps,fingerprint,k)\n",
    "    for i in match_indices:\n",
    "        match_fp = fps[i]\n",
    "        distance = spatial.distance.cosine(match_fp, fingerprint)\n",
    "        if display_data:\n",
    "            display(Image.open(keys[i][1]))    \n",
    "            display([keys[i][0], keys[i][1], distance, match_fp])\n",
    "        yield (keys[i], distance)\n",
    "        \n",
    "list(best_match_mnist(fingerprint_db, query_fingerprint, 10, display_data=True));"
   ]
  },
  {
   "cell_type": "code",
   "execution_count": 28,
   "id": "c31c0e03",
   "metadata": {
    "execution": {
     "iopub.execute_input": "2022-08-16T14:05:03.652454Z",
     "iopub.status.busy": "2022-08-16T14:05:03.652278Z",
     "iopub.status.idle": "2022-08-16T14:05:03.657790Z",
     "shell.execute_reply": "2022-08-16T14:05:03.656941Z",
     "shell.execute_reply.started": "2022-08-16T14:05:03.652438Z"
    },
    "scrolled": true,
    "tags": []
   },
   "outputs": [],
   "source": [
    "def fingerprint_file(path, display_data=False) :\n",
    "    img = PILImage.create(path)\n",
    "    result = learn.predict(img)\n",
    "    fingerprint = result[1].numpy()\n",
    "    if display_data:\n",
    "        display(img)\n",
    "    return fingerprint"
   ]
  },
  {
   "cell_type": "code",
   "execution_count": 29,
   "id": "c2342ec7",
   "metadata": {
    "execution": {
     "iopub.execute_input": "2022-08-16T14:05:05.154866Z",
     "iopub.status.busy": "2022-08-16T14:05:05.154095Z",
     "iopub.status.idle": "2022-08-16T14:05:05.375282Z",
     "shell.execute_reply": "2022-08-16T14:05:05.373509Z",
     "shell.execute_reply.started": "2022-08-16T14:05:05.154813Z"
    },
    "tags": []
   },
   "outputs": [
    {
     "data": {
      "text/html": [
       "\n",
       "<style>\n",
       "    /* Turns off some styling */\n",
       "    progress {\n",
       "        /* gets rid of default border in Firefox and Opera. */\n",
       "        border: none;\n",
       "        /* Needs to be in here for Safari polyfill so background images work as expected. */\n",
       "        background-size: auto;\n",
       "    }\n",
       "    progress:not([value]), progress:not([value])::-webkit-progress-bar {\n",
       "        background: repeating-linear-gradient(45deg, #7e7e7e, #7e7e7e 10px, #5c5c5c 10px, #5c5c5c 20px);\n",
       "    }\n",
       "    .progress-bar-interrupted, .progress-bar-interrupted::-webkit-progress-bar {\n",
       "        background: #F44336;\n",
       "    }\n",
       "</style>\n"
      ],
      "text/plain": [
       "<IPython.core.display.HTML object>"
      ]
     },
     "metadata": {},
     "output_type": "display_data"
    },
    {
     "data": {
      "text/html": [],
      "text/plain": [
       "<IPython.core.display.HTML object>"
      ]
     },
     "metadata": {},
     "output_type": "display_data"
    },
    {
     "data": {
      "image/png": "[encoded data removed]",
      "text/plain": [
       "PILImage mode=RGB size=28x28"
      ]
     },
     "metadata": {},
     "output_type": "display_data"
    },
    {
     "data": {
      "image/png": "[encoded data removed]",
      "text/plain": [
       "<PIL.PngImagePlugin.PngImageFile image mode=L size=28x28>"
      ]
     },
     "metadata": {},
     "output_type": "display_data"
    },
    {
     "data": {
      "text/plain": [
       "['4',\n",
       " Path('/home/jav/.fastai/data/mnist_png/testing/4/5677.png'),\n",
       " 0.002303779125213623,\n",
       " array([-3.13590840e-02, -2.15366315e-02,  1.10434815e-01, -2.51350909e-01,\n",
       "         3.23935688e-01,  1.10073201e-01,  1.43108398e-01, -1.58630833e-01,\n",
       "         4.42154333e-02, -2.16500740e-02,  1.73474327e-01, -2.91183650e-01,\n",
       "         1.03035815e-01, -1.76725745e-01,  5.88470399e-02, -1.80038989e-01,\n",
       "         2.79691927e-02,  3.16117406e-01, -3.16662580e-01,  3.13063711e-02,\n",
       "         2.00232908e-01, -5.57611473e-02, -9.26752612e-02, -7.05756024e-02,\n",
       "        -3.18065286e-01,  1.91690296e-01,  2.55467087e-01, -1.15748597e-02,\n",
       "         2.07241531e-02, -5.14973290e-02, -2.25168813e-04, -3.16742092e-01],\n",
       "       dtype=float32)]"
      ]
     },
     "metadata": {},
     "output_type": "display_data"
    },
    {
     "data": {
      "image/png": "[encoded data removed]",
      "text/plain": [
       "<PIL.PngImagePlugin.PngImageFile image mode=L size=28x28>"
      ]
     },
     "metadata": {},
     "output_type": "display_data"
    },
    {
     "data": {
      "text/plain": [
       "['4',\n",
       " Path('/home/jav/.fastai/data/mnist_png/testing/4/2886.png'),\n",
       " 0.004014790058135986,\n",
       " array([-0.03786912, -0.03118558,  0.08279644, -0.21122247,  0.32699743,\n",
       "         0.12728068,  0.13448665, -0.18832497,  0.05738041, -0.03265832,\n",
       "         0.14865893, -0.2861046 ,  0.09195897, -0.18459581,  0.10036085,\n",
       "        -0.14381559,  0.0293766 ,  0.33007255, -0.319167  ,  0.02344558,\n",
       "         0.23082243, -0.04694476, -0.12151314, -0.02910761, -0.28864992,\n",
       "         0.16973186,  0.27506524, -0.01407119,  0.00416797, -0.06371135,\n",
       "         0.0178963 , -0.33486405], dtype=float32)]"
      ]
     },
     "metadata": {},
     "output_type": "display_data"
    },
    {
     "data": {
      "image/png": "[encoded data removed]",
      "text/plain": [
       "<PIL.PngImagePlugin.PngImageFile image mode=L size=28x28>"
      ]
     },
     "metadata": {},
     "output_type": "display_data"
    },
    {
     "data": {
      "text/plain": [
       "['4',\n",
       " Path('/home/jav/.fastai/data/mnist_png/testing/4/7361.png'),\n",
       " 0.004868447780609131,\n",
       " array([-0.05694573, -0.04604704,  0.08696871, -0.21627809,  0.3156083 ,\n",
       "         0.11708419,  0.14291759, -0.19755293,  0.06709458, -0.03699708,\n",
       "         0.15461129, -0.30813265,  0.09053328, -0.1794673 ,  0.09742116,\n",
       "        -0.14840591,  0.02772097,  0.3262057 , -0.3035298 ,  0.05381545,\n",
       "         0.22480297, -0.05314825, -0.10575383, -0.04030157, -0.30172822,\n",
       "         0.18327418,  0.25570568, -0.00873607,  0.0249078 , -0.04829767,\n",
       "        -0.00615531, -0.33080208], dtype=float32)]"
      ]
     },
     "metadata": {},
     "output_type": "display_data"
    },
    {
     "data": {
      "image/png": "[encoded data removed]",
      "text/plain": [
       "<PIL.PngImagePlugin.PngImageFile image mode=L size=28x28>"
      ]
     },
     "metadata": {},
     "output_type": "display_data"
    },
    {
     "data": {
      "text/plain": [
       "['4',\n",
       " Path('/home/jav/.fastai/data/mnist_png/testing/4/7376.png'),\n",
       " 0.005374610424041748,\n",
       " array([-0.03907151, -0.04383761,  0.07805806, -0.21245532,  0.31159526,\n",
       "         0.12885717,  0.13754822, -0.18394949,  0.05765934, -0.04241817,\n",
       "         0.14189789, -0.28625816,  0.08501954, -0.17751908,  0.10637633,\n",
       "        -0.13228597,  0.02483746,  0.33107218, -0.33575127,  0.02612962,\n",
       "         0.23956959, -0.03736461, -0.13207437, -0.03730523, -0.28433457,\n",
       "         0.1630143 ,  0.28086212, -0.00990892,  0.00472082, -0.04490199,\n",
       "         0.02159508, -0.33755064], dtype=float32)]"
      ]
     },
     "metadata": {},
     "output_type": "display_data"
    },
    {
     "data": {
      "image/png": "[encoded data removed]",
      "text/plain": [
       "<PIL.PngImagePlugin.PngImageFile image mode=L size=28x28>"
      ]
     },
     "metadata": {},
     "output_type": "display_data"
    },
    {
     "data": {
      "text/plain": [
       "['4',\n",
       " Path('/home/jav/.fastai/data/mnist_png/testing/4/7366.png'),\n",
       " 0.005693972110748291,\n",
       " array([-0.0610164 , -0.04146182,  0.09034172, -0.20866331,  0.31622782,\n",
       "         0.11861764,  0.14218827, -0.20755155,  0.06992757, -0.03209638,\n",
       "         0.1469732 , -0.30364928,  0.09821688, -0.18159218,  0.10560269,\n",
       "        -0.14999603,  0.02323291,  0.3320828 , -0.301837  ,  0.04858053,\n",
       "         0.22180717, -0.05564872, -0.11786508, -0.03112294, -0.3008989 ,\n",
       "         0.17155057,  0.2510369 , -0.00963419,  0.02120073, -0.05657816,\n",
       "        -0.00504775, -0.33360884], dtype=float32)]"
      ]
     },
     "metadata": {},
     "output_type": "display_data"
    }
   ],
   "source": [
    "fp4 = fingerprint_file('media/4.png', display_data=True)\n",
    "list(best_match_mnist(fingerprint_db, fp4, 5, display_data=True));"
   ]
  },
  {
   "cell_type": "code",
   "execution_count": 30,
   "id": "4d44ee49",
   "metadata": {
    "execution": {
     "iopub.execute_input": "2022-08-16T14:05:10.666707Z",
     "iopub.status.busy": "2022-08-16T14:05:10.666512Z",
     "iopub.status.idle": "2022-08-16T14:05:10.935091Z",
     "shell.execute_reply": "2022-08-16T14:05:10.933717Z",
     "shell.execute_reply.started": "2022-08-16T14:05:10.666690Z"
    },
    "tags": []
   },
   "outputs": [
    {
     "data": {
      "text/html": [
       "\n",
       "<style>\n",
       "    /* Turns off some styling */\n",
       "    progress {\n",
       "        /* gets rid of default border in Firefox and Opera. */\n",
       "        border: none;\n",
       "        /* Needs to be in here for Safari polyfill so background images work as expected. */\n",
       "        background-size: auto;\n",
       "    }\n",
       "    progress:not([value]), progress:not([value])::-webkit-progress-bar {\n",
       "        background: repeating-linear-gradient(45deg, #7e7e7e, #7e7e7e 10px, #5c5c5c 10px, #5c5c5c 20px);\n",
       "    }\n",
       "    .progress-bar-interrupted, .progress-bar-interrupted::-webkit-progress-bar {\n",
       "        background: #F44336;\n",
       "    }\n",
       "</style>\n"
      ],
      "text/plain": [
       "<IPython.core.display.HTML object>"
      ]
     },
     "metadata": {},
     "output_type": "display_data"
    },
    {
     "data": {
      "text/html": [],
      "text/plain": [
       "<IPython.core.display.HTML object>"
      ]
     },
     "metadata": {},
     "output_type": "display_data"
    },
    {
     "data": {
      "image/png": "[encoded data removed]",
      "text/plain": [
       "PILImage mode=RGB size=28x28"
      ]
     },
     "metadata": {},
     "output_type": "display_data"
    },
    {
     "data": {
      "text/html": [
       "\n",
       "<style>\n",
       "    /* Turns off some styling */\n",
       "    progress {\n",
       "        /* gets rid of default border in Firefox and Opera. */\n",
       "        border: none;\n",
       "        /* Needs to be in here for Safari polyfill so background images work as expected. */\n",
       "        background-size: auto;\n",
       "    }\n",
       "    progress:not([value]), progress:not([value])::-webkit-progress-bar {\n",
       "        background: repeating-linear-gradient(45deg, #7e7e7e, #7e7e7e 10px, #5c5c5c 10px, #5c5c5c 20px);\n",
       "    }\n",
       "    .progress-bar-interrupted, .progress-bar-interrupted::-webkit-progress-bar {\n",
       "        background: #F44336;\n",
       "    }\n",
       "</style>\n"
      ],
      "text/plain": [
       "<IPython.core.display.HTML object>"
      ]
     },
     "metadata": {},
     "output_type": "display_data"
    },
    {
     "data": {
      "text/html": [],
      "text/plain": [
       "<IPython.core.display.HTML object>"
      ]
     },
     "metadata": {},
     "output_type": "display_data"
    },
    {
     "data": {
      "image/png": "[encoded data removed]",
      "text/plain": [
       "PILImage mode=RGB size=28x28"
      ]
     },
     "metadata": {},
     "output_type": "display_data"
    },
    {
     "name": "stdout",
     "output_type": "stream",
     "text": [
      "Cosine Distance between stars: 0.0862153172492981  best matches for each star:\n"
     ]
    },
    {
     "data": {
      "image/png": "[encoded data removed]",
      "text/plain": [
       "<PIL.PngImagePlugin.PngImageFile image mode=L size=28x28>"
      ]
     },
     "metadata": {},
     "output_type": "display_data"
    },
    {
     "data": {
      "text/plain": [
       "['8',\n",
       " Path('/home/jav/.fastai/data/mnist_png/testing/8/1530.png'),\n",
       " 0.046761393547058105,\n",
       " array([-0.15196997, -0.03608787,  0.00868906, -0.1474988 , -0.07871772,\n",
       "         0.18009232,  0.06617993, -0.07894154,  0.12192538, -0.02143634,\n",
       "         0.04440383,  0.10302673,  0.03750927, -0.07367066,  0.09718364,\n",
       "         0.12069038,  0.0224285 , -0.25404668, -0.11400666, -0.16254014,\n",
       "        -0.0650501 , -0.10554277, -0.3876711 , -0.04148291,  0.3751997 ,\n",
       "         0.14719807, -0.00786453,  0.28334555,  0.04159332,  0.13660236,\n",
       "        -0.338259  ,  0.44309753], dtype=float32)]"
      ]
     },
     "metadata": {},
     "output_type": "display_data"
    },
    {
     "data": {
      "image/png": "[encoded data removed]",
      "text/plain": [
       "<PIL.PngImagePlugin.PngImageFile image mode=L size=28x28>"
      ]
     },
     "metadata": {},
     "output_type": "display_data"
    },
    {
     "data": {
      "text/plain": [
       "['8',\n",
       " Path('/home/jav/.fastai/data/mnist_png/testing/8/1530.png'),\n",
       " 0.17046701908111572,\n",
       " array([-0.15196997, -0.03608787,  0.00868906, -0.1474988 , -0.07871772,\n",
       "         0.18009232,  0.06617993, -0.07894154,  0.12192538, -0.02143634,\n",
       "         0.04440383,  0.10302673,  0.03750927, -0.07367066,  0.09718364,\n",
       "         0.12069038,  0.0224285 , -0.25404668, -0.11400666, -0.16254014,\n",
       "        -0.0650501 , -0.10554277, -0.3876711 , -0.04148291,  0.3751997 ,\n",
       "         0.14719807, -0.00786453,  0.28334555,  0.04159332,  0.13660236,\n",
       "        -0.338259  ,  0.44309753], dtype=float32)]"
      ]
     },
     "metadata": {},
     "output_type": "display_data"
    }
   ],
   "source": [
    "fps1 = fingerprint_file('stars/Star1.png', display_data=True)\n",
    "fps2 = fingerprint_file('stars/Star2.png', display_data=True)\n",
    "print('Cosine Distance between stars:', spatial.distance.cosine(fps2, fps1),\" best matches for each star:\")\n",
    "list(best_match_mnist(fingerprint_db, fps1, 1, display_data=True));\n",
    "list(best_match_mnist(fingerprint_db, fps2, 1, display_data=True));"
   ]
  },
  {
   "cell_type": "markdown",
   "id": "1c229c64-129c-4ade-979f-d54d67f7f0e5",
   "metadata": {},
   "source": [
    "By adding a star to the list of fingerprints we should be able to find it, and if all went well, also find the other star:"
   ]
  },
  {
   "cell_type": "code",
   "execution_count": 31,
   "id": "3f76e6c0",
   "metadata": {
    "execution": {
     "iopub.execute_input": "2022-08-16T14:05:17.166001Z",
     "iopub.status.busy": "2022-08-16T14:05:17.165820Z",
     "iopub.status.idle": "2022-08-16T14:05:17.225973Z",
     "shell.execute_reply": "2022-08-16T14:05:17.225286Z",
     "shell.execute_reply.started": "2022-08-16T14:05:17.165986Z"
    },
    "tags": []
   },
   "outputs": [
    {
     "data": {
      "image/png": "[encoded data removed]",
      "text/plain": [
       "<PIL.PngImagePlugin.PngImageFile image mode=RGB size=28x28>"
      ]
     },
     "metadata": {},
     "output_type": "display_data"
    },
    {
     "data": {
      "text/plain": [
       "['*',\n",
       " 'stars/Star1.png',\n",
       " 0,\n",
       " array([-0.10099696, -0.08450948,  0.03510209, -0.15825109, -0.04520801,\n",
       "         0.20577735,  0.10355564,  0.01773667,  0.05295658, -0.09321447,\n",
       "         0.03732459,  0.0393499 ,  0.02228327, -0.06537104,  0.09933136,\n",
       "         0.08348498, -0.02667931, -0.22959505, -0.04327893, -0.07219108,\n",
       "        -0.09431483,  0.0125113 , -0.46360245, -0.11086255,  0.35560194,\n",
       "         0.18639638,  0.06533853,  0.28910112,  0.13699105,  0.15609336,\n",
       "        -0.30878097,  0.42498502], dtype=float32)]"
      ]
     },
     "metadata": {},
     "output_type": "display_data"
    },
    {
     "data": {
      "image/png": "[encoded data removed]",
      "text/plain": [
       "<PIL.PngImagePlugin.PngImageFile image mode=RGB size=28x28>"
      ]
     },
     "metadata": {},
     "output_type": "display_data"
    },
    {
     "data": {
      "text/plain": [
       "['*',\n",
       " 'stars/Star1.png',\n",
       " 0.0862153172492981,\n",
       " array([-0.10099696, -0.08450948,  0.03510209, -0.15825109, -0.04520801,\n",
       "         0.20577735,  0.10355564,  0.01773667,  0.05295658, -0.09321447,\n",
       "         0.03732459,  0.0393499 ,  0.02228327, -0.06537104,  0.09933136,\n",
       "         0.08348498, -0.02667931, -0.22959505, -0.04327893, -0.07219108,\n",
       "        -0.09431483,  0.0125113 , -0.46360245, -0.11086255,  0.35560194,\n",
       "         0.18639638,  0.06533853,  0.28910112,  0.13699105,  0.15609336,\n",
       "        -0.30878097,  0.42498502], dtype=float32)]"
      ]
     },
     "metadata": {},
     "output_type": "display_data"
    }
   ],
   "source": [
    "fingerprint_db[('*','stars/Star1.png')] = fps1\n",
    "list(best_match_mnist(fingerprint_db, fps1, 1, display_data=True));\n",
    "list(best_match_mnist(fingerprint_db, fps2, 1, display_data=True));"
   ]
  },
  {
   "cell_type": "code",
   "execution_count": 32,
   "id": "ebc200ba",
   "metadata": {
    "execution": {
     "iopub.execute_input": "2022-08-16T14:05:24.975445Z",
     "iopub.status.busy": "2022-08-16T14:05:24.975221Z",
     "iopub.status.idle": "2022-08-16T14:05:25.096222Z",
     "shell.execute_reply": "2022-08-16T14:05:25.095230Z",
     "shell.execute_reply.started": "2022-08-16T14:05:24.975415Z"
    },
    "tags": []
   },
   "outputs": [
    {
     "data": {
      "image/png": "[encoded data removed]",
      "text/plain": [
       "<PIL.PngImagePlugin.PngImageFile image mode=RGB size=28x28>"
      ]
     },
     "metadata": {},
     "output_type": "display_data"
    },
    {
     "data": {
      "text/plain": [
       "['*',\n",
       " 'stars/Star1.png',\n",
       " 0.0862153172492981,\n",
       " array([-0.10099696, -0.08450948,  0.03510209, -0.15825109, -0.04520801,\n",
       "         0.20577735,  0.10355564,  0.01773667,  0.05295658, -0.09321447,\n",
       "         0.03732459,  0.0393499 ,  0.02228327, -0.06537104,  0.09933136,\n",
       "         0.08348498, -0.02667931, -0.22959505, -0.04327893, -0.07219108,\n",
       "        -0.09431483,  0.0125113 , -0.46360245, -0.11086255,  0.35560194,\n",
       "         0.18639638,  0.06533853,  0.28910112,  0.13699105,  0.15609336,\n",
       "        -0.30878097,  0.42498502], dtype=float32)]"
      ]
     },
     "metadata": {},
     "output_type": "display_data"
    },
    {
     "data": {
      "image/png": "[encoded data removed]",
      "text/plain": [
       "<PIL.PngImagePlugin.PngImageFile image mode=L size=28x28>"
      ]
     },
     "metadata": {},
     "output_type": "display_data"
    },
    {
     "data": {
      "text/plain": [
       "['8',\n",
       " Path('/home/jav/.fastai/data/mnist_png/testing/8/1530.png'),\n",
       " 0.17046701908111572,\n",
       " array([-0.15196997, -0.03608787,  0.00868906, -0.1474988 , -0.07871772,\n",
       "         0.18009232,  0.06617993, -0.07894154,  0.12192538, -0.02143634,\n",
       "         0.04440383,  0.10302673,  0.03750927, -0.07367066,  0.09718364,\n",
       "         0.12069038,  0.0224285 , -0.25404668, -0.11400666, -0.16254014,\n",
       "        -0.0650501 , -0.10554277, -0.3876711 , -0.04148291,  0.3751997 ,\n",
       "         0.14719807, -0.00786453,  0.28334555,  0.04159332,  0.13660236,\n",
       "        -0.338259  ,  0.44309753], dtype=float32)]"
      ]
     },
     "metadata": {},
     "output_type": "display_data"
    },
    {
     "data": {
      "image/png": "[encoded data removed]",
      "text/plain": [
       "<PIL.PngImagePlugin.PngImageFile image mode=L size=28x28>"
      ]
     },
     "metadata": {},
     "output_type": "display_data"
    },
    {
     "data": {
      "text/plain": [
       "['8',\n",
       " Path('/home/jav/.fastai/data/mnist_png/testing/8/4978.png'),\n",
       " 0.19324219226837158,\n",
       " array([-0.13393578, -0.01838107, -0.00534778, -0.17210366, -0.07266845,\n",
       "         0.18902731,  0.03273853, -0.08977108,  0.13195774, -0.02636713,\n",
       "         0.09701853,  0.1159689 ,  0.02596068, -0.09155644,  0.10679887,\n",
       "         0.15774828,  0.01430953, -0.24548481, -0.13471584, -0.16768138,\n",
       "        -0.04165975, -0.1139208 , -0.39835957, -0.02385826,  0.35113412,\n",
       "         0.1411736 ,  0.03943544,  0.27782732,  0.02119364,  0.11498547,\n",
       "        -0.33189255,  0.43487713], dtype=float32)]"
      ]
     },
     "metadata": {},
     "output_type": "display_data"
    },
    {
     "data": {
      "image/png": "[encoded data removed]",
      "text/plain": [
       "<PIL.PngImagePlugin.PngImageFile image mode=L size=28x28>"
      ]
     },
     "metadata": {},
     "output_type": "display_data"
    },
    {
     "data": {
      "text/plain": [
       "['8',\n",
       " Path('/home/jav/.fastai/data/mnist_png/testing/8/1149.png'),\n",
       " 0.2018195390701294,\n",
       " array([-0.12702534, -0.00469792, -0.009922  , -0.18974611, -0.07716948,\n",
       "         0.21863632, -0.00714376, -0.09015532,  0.11959117, -0.00474182,\n",
       "         0.11099031,  0.14397548,  0.01711641, -0.0858542 ,  0.10849203,\n",
       "         0.18830577, -0.01769255, -0.22273687, -0.19109313, -0.18539554,\n",
       "        -0.02787323, -0.11901999, -0.42014134, -0.03187113,  0.35428157,\n",
       "         0.08303296,  0.07685167,  0.2601822 , -0.00407309,  0.10560863,\n",
       "        -0.29776138,  0.40547028], dtype=float32)]"
      ]
     },
     "metadata": {},
     "output_type": "display_data"
    },
    {
     "data": {
      "image/png": "[encoded data removed]",
      "text/plain": [
       "<PIL.PngImagePlugin.PngImageFile image mode=L size=28x28>"
      ]
     },
     "metadata": {},
     "output_type": "display_data"
    },
    {
     "data": {
      "text/plain": [
       "['8',\n",
       " Path('/home/jav/.fastai/data/mnist_png/testing/8/5183.png'),\n",
       " 0.20350545644760132,\n",
       " array([-0.10779518,  0.01560267, -0.01500396, -0.18105853, -0.06782977,\n",
       "         0.19930756,  0.01427122, -0.09341715,  0.12315948, -0.02313614,\n",
       "         0.10789926,  0.13603845,  0.01581355, -0.10072555,  0.10688944,\n",
       "         0.18113281,  0.01356881, -0.2025257 , -0.18652841, -0.2082253 ,\n",
       "        -0.02865512, -0.10153925, -0.3971089 , -0.02807097,  0.36581576,\n",
       "         0.11472838,  0.06546995,  0.27885213,  0.00611124,  0.10469785,\n",
       "        -0.3225268 ,  0.41033518], dtype=float32)]"
      ]
     },
     "metadata": {},
     "output_type": "display_data"
    },
    {
     "data": {
      "image/png": "[encoded data removed]",
      "text/plain": [
       "<PIL.PngImagePlugin.PngImageFile image mode=L size=28x28>"
      ]
     },
     "metadata": {},
     "output_type": "display_data"
    },
    {
     "data": {
      "text/plain": [
       "['8',\n",
       " Path('/home/jav/.fastai/data/mnist_png/testing/8/7923.png'),\n",
       " 0.20535790920257568,\n",
       " array([-0.13801472,  0.00621954,  0.01324526, -0.15497565, -0.07363982,\n",
       "         0.18480222,  0.06190637, -0.07731929,  0.14280462, -0.01529375,\n",
       "         0.06797428,  0.12477075,  0.03360037, -0.09421641,  0.08267348,\n",
       "         0.1202066 ,  0.02800406, -0.23831494, -0.12120299, -0.17994858,\n",
       "        -0.07378727, -0.12906069, -0.37269413, -0.03644777,  0.3587743 ,\n",
       "         0.15787394, -0.00156036,  0.28049743,  0.04324026,  0.09545978,\n",
       "        -0.3575211 ,  0.4439831 ], dtype=float32)]"
      ]
     },
     "metadata": {},
     "output_type": "display_data"
    },
    {
     "data": {
      "image/png": "[encoded data removed]",
      "text/plain": [
       "<PIL.PngImagePlugin.PngImageFile image mode=L size=28x28>"
      ]
     },
     "metadata": {},
     "output_type": "display_data"
    },
    {
     "data": {
      "text/plain": [
       "['8',\n",
       " Path('/home/jav/.fastai/data/mnist_png/testing/8/9572.png'),\n",
       " 0.2056165337562561,\n",
       " array([-0.13871859,  0.00794921, -0.00714709, -0.16992597, -0.07731196,\n",
       "         0.18034327,  0.02632423, -0.07574032,  0.13707913, -0.00746076,\n",
       "         0.09539922,  0.1278962 ,  0.02255916, -0.10655132,  0.11078995,\n",
       "         0.13779849,  0.01083361, -0.22742479, -0.14258838, -0.19795327,\n",
       "        -0.05902013, -0.12295273, -0.39121884, -0.01822287,  0.35681796,\n",
       "         0.12615526,  0.03557264,  0.27636376,  0.0111395 ,  0.09952669,\n",
       "        -0.34341872,  0.43269384], dtype=float32)]"
      ]
     },
     "metadata": {},
     "output_type": "display_data"
    },
    {
     "data": {
      "image/png": "[encoded data removed]",
      "text/plain": [
       "<PIL.PngImagePlugin.PngImageFile image mode=L size=28x28>"
      ]
     },
     "metadata": {},
     "output_type": "display_data"
    },
    {
     "data": {
      "text/plain": [
       "['8',\n",
       " Path('/home/jav/.fastai/data/mnist_png/testing/8/9575.png'),\n",
       " 0.2076045274734497,\n",
       " array([-0.1331005 ,  0.00942803, -0.00043982, -0.18562244, -0.07275735,\n",
       "         0.19512178,  0.02175655, -0.08774138,  0.13060835, -0.01647614,\n",
       "         0.09030168,  0.13614202,  0.01462775, -0.11180203,  0.10697227,\n",
       "         0.15972283,  0.00986198, -0.21282187, -0.16065034, -0.19177778,\n",
       "        -0.04452091, -0.11539748, -0.39441586, -0.02117794,  0.35692507,\n",
       "         0.11903383,  0.05488091,  0.27992192,  0.01625808,  0.08508871,\n",
       "        -0.32969016,  0.42906052], dtype=float32)]"
      ]
     },
     "metadata": {},
     "output_type": "display_data"
    },
    {
     "data": {
      "image/png": "[encoded data removed]",
      "text/plain": [
       "<PIL.PngImagePlugin.PngImageFile image mode=L size=28x28>"
      ]
     },
     "metadata": {},
     "output_type": "display_data"
    },
    {
     "data": {
      "text/plain": [
       "['8',\n",
       " Path('/home/jav/.fastai/data/mnist_png/testing/8/277.png'),\n",
       " 0.20783281326293945,\n",
       " array([-1.24270067e-01,  2.43610330e-03, -1.17951035e-02, -1.92144334e-01,\n",
       "        -7.65644014e-02,  2.06153139e-01,  8.63673176e-06, -8.66443664e-02,\n",
       "         1.18992284e-01, -3.14740348e-03,  1.11963585e-01,  1.48036689e-01,\n",
       "         1.99435558e-02, -1.01394281e-01,  1.07662492e-01,  1.79325625e-01,\n",
       "        -3.35485861e-03, -2.20356420e-01, -1.79223344e-01, -1.95037887e-01,\n",
       "        -3.24723795e-02, -1.18083686e-01, -4.10369486e-01, -2.41548866e-02,\n",
       "         3.47002447e-01,  9.94626656e-02,  7.00019300e-02,  2.65486211e-01,\n",
       "         8.39820132e-04,  1.00934029e-01, -3.08309078e-01,  4.18250412e-01],\n",
       "       dtype=float32)]"
      ]
     },
     "metadata": {},
     "output_type": "display_data"
    },
    {
     "data": {
      "image/png": "[encoded data removed]",
      "text/plain": [
       "<PIL.PngImagePlugin.PngImageFile image mode=L size=28x28>"
      ]
     },
     "metadata": {},
     "output_type": "display_data"
    },
    {
     "data": {
      "text/plain": [
       "['8',\n",
       " Path('/home/jav/.fastai/data/mnist_png/testing/8/9629.png'),\n",
       " 0.2087579369544983,\n",
       " array([-0.11165629,  0.02385902, -0.01111764, -0.17699666, -0.06776313,\n",
       "         0.2086679 ,  0.0387623 , -0.10095822,  0.12849547, -0.02318227,\n",
       "         0.10139351,  0.12179026,  0.02673438, -0.09662878,  0.10835069,\n",
       "         0.1599886 ,  0.01882683, -0.21521384, -0.17701268, -0.20212372,\n",
       "        -0.03210105, -0.11860982, -0.40316784, -0.0160803 ,  0.35840863,\n",
       "         0.1322023 ,  0.03488598,  0.2792674 ,  0.02634823,  0.09203189,\n",
       "        -0.3286124 ,  0.408755  ], dtype=float32)]"
      ]
     },
     "metadata": {},
     "output_type": "display_data"
    }
   ],
   "source": [
    "list(m for m in best_match_mnist(fingerprint_db, fps2, 10, display_data=True));"
   ]
  },
  {
   "cell_type": "code",
   "execution_count": 33,
   "id": "efdb8a93-f978-4cd1-98a5-b92a29146a6f",
   "metadata": {
    "execution": {
     "iopub.execute_input": "2022-08-16T14:05:50.347680Z",
     "iopub.status.busy": "2022-08-16T14:05:50.347106Z",
     "iopub.status.idle": "2022-08-16T14:05:50.951379Z",
     "shell.execute_reply": "2022-08-16T14:05:50.950093Z",
     "shell.execute_reply.started": "2022-08-16T14:05:50.347660Z"
    },
    "tags": []
   },
   "outputs": [
    {
     "data": {
      "image/png": "[encoded data removed]",
      "text/plain": [
       "<Figure size 288x288 with 18 Axes>"
      ]
     },
     "metadata": {
      "needs_background": "light"
     },
     "output_type": "display_data"
    }
   ],
   "source": [
    "fig = plt.figure(figsize=(4., 4.))\n",
    "grid = ImageGrid(fig, 111,  # similar to subplot(111)\n",
    "                 nrows_ncols=(3, 3),  # creates 2x2 grid of axes\n",
    "                 axes_pad=0.1,  # pad between axes in inch.\n",
    "                 )\n",
    "\n",
    "imgs = (PILImage.create(m[0][1]) for m in best_match_mnist(fingerprint_db, fps2, 9))\n",
    "\n",
    "for ax, im in zip(grid, imgs):\n",
    "    # Iterating over the grid returns the Axes.\n",
    "    ax.imshow(im)\n",
    "\n",
    "plt.show()"
   ]
  },
  {
   "cell_type": "code",
   "execution_count": 34,
   "id": "5a7928da",
   "metadata": {
    "execution": {
     "iopub.execute_input": "2022-08-16T14:05:55.426524Z",
     "iopub.status.busy": "2022-08-16T14:05:55.425462Z",
     "iopub.status.idle": "2022-08-16T14:06:15.832314Z",
     "shell.execute_reply": "2022-08-16T14:06:15.831317Z",
     "shell.execute_reply.started": "2022-08-16T14:05:55.426500Z"
    },
    "tags": []
   },
   "outputs": [
    {
     "name": "stdout",
     "output_type": "stream",
     "text": [
      "[t-SNE] Computing 91 nearest neighbors...\n",
      "[t-SNE] Indexed 10003 samples in 0.000s...\n",
      "[t-SNE] Computed neighbors for 10003 samples in 1.824s...\n",
      "[t-SNE] Computed conditional probabilities for sample 1000 / 10003\n",
      "[t-SNE] Computed conditional probabilities for sample 2000 / 10003\n",
      "[t-SNE] Computed conditional probabilities for sample 3000 / 10003\n",
      "[t-SNE] Computed conditional probabilities for sample 4000 / 10003\n",
      "[t-SNE] Computed conditional probabilities for sample 5000 / 10003\n",
      "[t-SNE] Computed conditional probabilities for sample 6000 / 10003\n",
      "[t-SNE] Computed conditional probabilities for sample 7000 / 10003\n",
      "[t-SNE] Computed conditional probabilities for sample 8000 / 10003\n",
      "[t-SNE] Computed conditional probabilities for sample 9000 / 10003\n",
      "[t-SNE] Computed conditional probabilities for sample 10000 / 10003\n",
      "[t-SNE] Computed conditional probabilities for sample 10003 / 10003\n",
      "[t-SNE] Mean sigma: 0.021153\n",
      "[t-SNE] KL divergence after 250 iterations with early exaggeration: 69.586418\n",
      "[t-SNE] KL divergence after 1000 iterations: 1.319757\n"
     ]
    },
    {
     "data": {
      "image/png": "[encoded data removed]",
      "text/plain": [
       "<Figure size 576x576 with 1 Axes>"
      ]
     },
     "metadata": {
      "needs_background": "light"
     },
     "output_type": "display_data"
    },
    {
     "data": {
      "text/html": [
       "<style>#sk-container-id-1 {color: black;background-color: white;}#sk-container-id-1 pre{padding: 0;}#sk-container-id-1 div.sk-toggleable {background-color: white;}#sk-container-id-1 label.sk-toggleable__label {cursor: pointer;display: block;width: 100%;margin-bottom: 0;padding: 0.3em;box-sizing: border-box;text-align: center;}#sk-container-id-1 label.sk-toggleable__label-arrow:before {content: \"▸\";float: left;margin-right: 0.25em;color: #696969;}#sk-container-id-1 label.sk-toggleable__label-arrow:hover:before {color: black;}#sk-container-id-1 div.sk-estimator:hover label.sk-toggleable__label-arrow:before {color: black;}#sk-container-id-1 div.sk-toggleable__content {max-height: 0;max-width: 0;overflow: hidden;text-align: left;background-color: #f0f8ff;}#sk-container-id-1 div.sk-toggleable__content pre {margin: 0.2em;color: black;border-radius: 0.25em;background-color: #f0f8ff;}#sk-container-id-1 input.sk-toggleable__control:checked~div.sk-toggleable__content {max-height: 200px;max-width: 100%;overflow: auto;}#sk-container-id-1 input.sk-toggleable__control:checked~label.sk-toggleable__label-arrow:before {content: \"▾\";}#sk-container-id-1 div.sk-estimator input.sk-toggleable__control:checked~label.sk-toggleable__label {background-color: #d4ebff;}#sk-container-id-1 div.sk-label input.sk-toggleable__control:checked~label.sk-toggleable__label {background-color: #d4ebff;}#sk-container-id-1 input.sk-hidden--visually {border: 0;clip: rect(1px 1px 1px 1px);clip: rect(1px, 1px, 1px, 1px);height: 1px;margin: -1px;overflow: hidden;padding: 0;position: absolute;width: 1px;}#sk-container-id-1 div.sk-estimator {font-family: monospace;background-color: #f0f8ff;border: 1px dotted black;border-radius: 0.25em;box-sizing: border-box;margin-bottom: 0.5em;}#sk-container-id-1 div.sk-estimator:hover {background-color: #d4ebff;}#sk-container-id-1 div.sk-parallel-item::after {content: \"\";width: 100%;border-bottom: 1px solid gray;flex-grow: 1;}#sk-container-id-1 div.sk-label:hover label.sk-toggleable__label {background-color: #d4ebff;}#sk-container-id-1 div.sk-serial::before {content: \"\";position: absolute;border-left: 1px solid gray;box-sizing: border-box;top: 0;bottom: 0;left: 50%;z-index: 0;}#sk-container-id-1 div.sk-serial {display: flex;flex-direction: column;align-items: center;background-color: white;padding-right: 0.2em;padding-left: 0.2em;position: relative;}#sk-container-id-1 div.sk-item {position: relative;z-index: 1;}#sk-container-id-1 div.sk-parallel {display: flex;align-items: stretch;justify-content: center;background-color: white;position: relative;}#sk-container-id-1 div.sk-item::before, #sk-container-id-1 div.sk-parallel-item::before {content: \"\";position: absolute;border-left: 1px solid gray;box-sizing: border-box;top: 0;bottom: 0;left: 50%;z-index: -1;}#sk-container-id-1 div.sk-parallel-item {display: flex;flex-direction: column;z-index: 1;position: relative;background-color: white;}#sk-container-id-1 div.sk-parallel-item:first-child::after {align-self: flex-end;width: 50%;}#sk-container-id-1 div.sk-parallel-item:last-child::after {align-self: flex-start;width: 50%;}#sk-container-id-1 div.sk-parallel-item:only-child::after {width: 0;}#sk-container-id-1 div.sk-dashed-wrapped {border: 1px dashed gray;margin: 0 0.4em 0.5em 0.4em;box-sizing: border-box;padding-bottom: 0.4em;background-color: white;}#sk-container-id-1 div.sk-label label {font-family: monospace;font-weight: bold;display: inline-block;line-height: 1.2em;}#sk-container-id-1 div.sk-label-container {text-align: center;}#sk-container-id-1 div.sk-container {/* jupyter's `normalize.less` sets `[hidden] { display: none; }` but bootstrap.min.css set `[hidden] { display: none !important; }` so we also need the `!important` here to be able to override the default hidden behavior on the sphinx rendered scikit-learn.org. See: https://github.com/scikit-learn/scikit-learn/issues/21755 */display: inline-block !important;position: relative;}#sk-container-id-1 div.sk-text-repr-fallback {display: none;}</style><div id=\"sk-container-id-1\" class=\"sk-top-container\"><div class=\"sk-text-repr-fallback\"><pre>TSNE(init=&#x27;random&#x27;, learning_rate=&#x27;auto&#x27;, random_state=42, verbose=1)</pre><b>In a Jupyter environment, please rerun this cell to show the HTML representation or trust the notebook. <br />On GitHub, the HTML representation is unable to render, please try loading this page with nbviewer.org.</b></div><div class=\"sk-container\" hidden><div class=\"sk-item\"><div class=\"sk-estimator sk-toggleable\"><input class=\"sk-toggleable__control sk-hidden--visually\" id=\"sk-estimator-id-1\" type=\"checkbox\" checked><label for=\"sk-estimator-id-1\" class=\"sk-toggleable__label sk-toggleable__label-arrow\">TSNE</label><div class=\"sk-toggleable__content\"><pre>TSNE(init=&#x27;random&#x27;, learning_rate=&#x27;auto&#x27;, random_state=42, verbose=1)</pre></div></div></div></div></div>"
      ],
      "text/plain": [
       "TSNE(init='random', learning_rate='auto', random_state=42, verbose=1)"
      ]
     },
     "execution_count": 34,
     "metadata": {},
     "output_type": "execute_result"
    }
   ],
   "source": [
    "def visualize(fingerprints_db, fingerprints_to_highlight = [], indices_to_highlight = []):\n",
    "    l = list(fingerprint_db.values())\n",
    "    fps = np.array(l + fingerprints_to_highlight)\n",
    "    tsne = TSNE(2, init='random', learning_rate='auto', random_state = 42, verbose = 1)    \n",
    "    tsne_proj = tsne.fit_transform(fps)\n",
    "    \n",
    "    cmap = cm.get_cmap('tab20')\n",
    "    fig, ax = plt.subplots(figsize=(8,8))\n",
    "    num_categories = 11\n",
    "\n",
    "    for i in range(num_categories):\n",
    "        matching_indices = [key for key, (val,_) in enumerate(fingerprint_db.keys()) if val == str(i)]\n",
    "        plt.scatter(tsne_proj[matching_indices,0], tsne_proj[matching_indices,1], c = np.array(cmap(i)).reshape(1,4), label = i)\n",
    "    ax.legend(fontsize='large', markerscale=2)\n",
    "    \n",
    "    # Highlight\n",
    "    plt.scatter(tsne_proj[indices_to_highlight,0], tsne_proj[indices_to_highlight,1], marker = '+', c = 'k', label = 'highlight') \n",
    "    ixs_to_highlight = range(len(fps) - len(fingerprints_to_highlight),len(fps))\n",
    "    (xs, ys) = (tsne_proj[ixs_to_highlight,0], tsne_proj[ixs_to_highlight,1])\n",
    "    plt.scatter(xs, ys, marker = '+', c = 'k', label = 'highlight') \n",
    "    (min_x, min_y, max_x, max_y) = (min(xs), min(ys), max(xs), max(ys))\n",
    "    min_x = min_x - 2\n",
    "    min_y = min_y - 2\n",
    "    width = max_x - min_x + 2\n",
    "    height = max_y - min_y + 2\n",
    "    rect = patches.Rectangle((min_x, min_y), width, height, linewidth=1, edgecolor='k', facecolor='none')\n",
    "    ax.add_patch(rect)\n",
    "    \n",
    "    plt.savefig(model_name)\n",
    "    plt.show()\n",
    "    return tsne\n",
    "\n",
    "fps = np.array(list(fingerprint_db.values()))\n",
    "visualize(fps, fingerprints_to_highlight = [fps1, fps2])"
   ]
  },
  {
   "cell_type": "code",
   "execution_count": 166,
   "id": "c5dc96ad",
   "metadata": {
    "execution": {
     "iopub.execute_input": "2022-08-16T13:51:43.003094Z",
     "iopub.status.busy": "2022-08-16T13:51:43.002914Z",
     "iopub.status.idle": "2022-08-16T13:55:03.583794Z",
     "shell.execute_reply": "2022-08-16T13:55:03.582194Z",
     "shell.execute_reply.started": "2022-08-16T13:51:43.003076Z"
    },
    "tags": []
   },
   "outputs": [
    {
     "data": {
      "text/html": [
       "\n",
       "<style>\n",
       "    /* Turns off some styling */\n",
       "    progress {\n",
       "        /* gets rid of default border in Firefox and Opera. */\n",
       "        border: none;\n",
       "        /* Needs to be in here for Safari polyfill so background images work as expected. */\n",
       "        background-size: auto;\n",
       "    }\n",
       "    progress:not([value]), progress:not([value])::-webkit-progress-bar {\n",
       "        background: repeating-linear-gradient(45deg, #7e7e7e, #7e7e7e 10px, #5c5c5c 10px, #5c5c5c 20px);\n",
       "    }\n",
       "    .progress-bar-interrupted, .progress-bar-interrupted::-webkit-progress-bar {\n",
       "        background: #F44336;\n",
       "    }\n",
       "</style>\n"
      ],
      "text/plain": [
       "<IPython.core.display.HTML object>"
      ]
     },
     "metadata": {},
     "output_type": "display_data"
    },
    {
     "data": {
      "text/html": [
       "\n",
       "    <div>\n",
       "      <progress value='10000' class='' max='10000' style='width:300px; height:20px; vertical-align: middle;'></progress>\n",
       "      100.00% [10000/10000 02:59&lt;00:00]\n",
       "    </div>\n",
       "    "
      ],
      "text/plain": [
       "<IPython.core.display.HTML object>"
      ]
     },
     "metadata": {},
     "output_type": "display_data"
    },
    {
     "name": "stdout",
     "output_type": "stream",
     "text": [
      "[t-SNE] Computing 91 nearest neighbors...\n",
      "[t-SNE] Indexed 10003 samples in 0.000s...\n",
      "[t-SNE] Computed neighbors for 10003 samples in 1.830s...\n",
      "[t-SNE] Computed conditional probabilities for sample 1000 / 10003\n",
      "[t-SNE] Computed conditional probabilities for sample 2000 / 10003\n",
      "[t-SNE] Computed conditional probabilities for sample 3000 / 10003\n",
      "[t-SNE] Computed conditional probabilities for sample 4000 / 10003\n",
      "[t-SNE] Computed conditional probabilities for sample 5000 / 10003\n",
      "[t-SNE] Computed conditional probabilities for sample 6000 / 10003\n",
      "[t-SNE] Computed conditional probabilities for sample 7000 / 10003\n",
      "[t-SNE] Computed conditional probabilities for sample 8000 / 10003\n",
      "[t-SNE] Computed conditional probabilities for sample 9000 / 10003\n",
      "[t-SNE] Computed conditional probabilities for sample 10000 / 10003\n",
      "[t-SNE] Computed conditional probabilities for sample 10003 / 10003\n",
      "[t-SNE] Mean sigma: 0.021153\n",
      "[t-SNE] KL divergence after 250 iterations with early exaggeration: 69.586418\n",
      "[t-SNE] KL divergence after 1000 iterations: 1.319757\n"
     ]
    },
    {
     "data": {
      "image/png": "[encoded data removed]",
      "text/plain": [
       "<Figure size 576x576 with 1 Axes>"
      ]
     },
     "metadata": {
      "needs_background": "light"
     },
     "output_type": "display_data"
    },
    {
     "data": {
      "text/html": [
       "<style>#sk-container-id-7 {color: black;background-color: white;}#sk-container-id-7 pre{padding: 0;}#sk-container-id-7 div.sk-toggleable {background-color: white;}#sk-container-id-7 label.sk-toggleable__label {cursor: pointer;display: block;width: 100%;margin-bottom: 0;padding: 0.3em;box-sizing: border-box;text-align: center;}#sk-container-id-7 label.sk-toggleable__label-arrow:before {content: \"▸\";float: left;margin-right: 0.25em;color: #696969;}#sk-container-id-7 label.sk-toggleable__label-arrow:hover:before {color: black;}#sk-container-id-7 div.sk-estimator:hover label.sk-toggleable__label-arrow:before {color: black;}#sk-container-id-7 div.sk-toggleable__content {max-height: 0;max-width: 0;overflow: hidden;text-align: left;background-color: #f0f8ff;}#sk-container-id-7 div.sk-toggleable__content pre {margin: 0.2em;color: black;border-radius: 0.25em;background-color: #f0f8ff;}#sk-container-id-7 input.sk-toggleable__control:checked~div.sk-toggleable__content {max-height: 200px;max-width: 100%;overflow: auto;}#sk-container-id-7 input.sk-toggleable__control:checked~label.sk-toggleable__label-arrow:before {content: \"▾\";}#sk-container-id-7 div.sk-estimator input.sk-toggleable__control:checked~label.sk-toggleable__label {background-color: #d4ebff;}#sk-container-id-7 div.sk-label input.sk-toggleable__control:checked~label.sk-toggleable__label {background-color: #d4ebff;}#sk-container-id-7 input.sk-hidden--visually {border: 0;clip: rect(1px 1px 1px 1px);clip: rect(1px, 1px, 1px, 1px);height: 1px;margin: -1px;overflow: hidden;padding: 0;position: absolute;width: 1px;}#sk-container-id-7 div.sk-estimator {font-family: monospace;background-color: #f0f8ff;border: 1px dotted black;border-radius: 0.25em;box-sizing: border-box;margin-bottom: 0.5em;}#sk-container-id-7 div.sk-estimator:hover {background-color: #d4ebff;}#sk-container-id-7 div.sk-parallel-item::after {content: \"\";width: 100%;border-bottom: 1px solid gray;flex-grow: 1;}#sk-container-id-7 div.sk-label:hover label.sk-toggleable__label {background-color: #d4ebff;}#sk-container-id-7 div.sk-serial::before {content: \"\";position: absolute;border-left: 1px solid gray;box-sizing: border-box;top: 0;bottom: 0;left: 50%;z-index: 0;}#sk-container-id-7 div.sk-serial {display: flex;flex-direction: column;align-items: center;background-color: white;padding-right: 0.2em;padding-left: 0.2em;position: relative;}#sk-container-id-7 div.sk-item {position: relative;z-index: 1;}#sk-container-id-7 div.sk-parallel {display: flex;align-items: stretch;justify-content: center;background-color: white;position: relative;}#sk-container-id-7 div.sk-item::before, #sk-container-id-7 div.sk-parallel-item::before {content: \"\";position: absolute;border-left: 1px solid gray;box-sizing: border-box;top: 0;bottom: 0;left: 50%;z-index: -1;}#sk-container-id-7 div.sk-parallel-item {display: flex;flex-direction: column;z-index: 1;position: relative;background-color: white;}#sk-container-id-7 div.sk-parallel-item:first-child::after {align-self: flex-end;width: 50%;}#sk-container-id-7 div.sk-parallel-item:last-child::after {align-self: flex-start;width: 50%;}#sk-container-id-7 div.sk-parallel-item:only-child::after {width: 0;}#sk-container-id-7 div.sk-dashed-wrapped {border: 1px dashed gray;margin: 0 0.4em 0.5em 0.4em;box-sizing: border-box;padding-bottom: 0.4em;background-color: white;}#sk-container-id-7 div.sk-label label {font-family: monospace;font-weight: bold;display: inline-block;line-height: 1.2em;}#sk-container-id-7 div.sk-label-container {text-align: center;}#sk-container-id-7 div.sk-container {/* jupyter's `normalize.less` sets `[hidden] { display: none; }` but bootstrap.min.css set `[hidden] { display: none !important; }` so we also need the `!important` here to be able to override the default hidden behavior on the sphinx rendered scikit-learn.org. See: https://github.com/scikit-learn/scikit-learn/issues/21755 */display: inline-block !important;position: relative;}#sk-container-id-7 div.sk-text-repr-fallback {display: none;}</style><div id=\"sk-container-id-7\" class=\"sk-top-container\"><div class=\"sk-text-repr-fallback\"><pre>TSNE(init=&#x27;random&#x27;, learning_rate=&#x27;auto&#x27;, random_state=42, verbose=1)</pre><b>In a Jupyter environment, please rerun this cell to show the HTML representation or trust the notebook. <br />On GitHub, the HTML representation is unable to render, please try loading this page with nbviewer.org.</b></div><div class=\"sk-container\" hidden><div class=\"sk-item\"><div class=\"sk-estimator sk-toggleable\"><input class=\"sk-toggleable__control sk-hidden--visually\" id=\"sk-estimator-id-7\" type=\"checkbox\" checked><label for=\"sk-estimator-id-7\" class=\"sk-toggleable__label sk-toggleable__label-arrow\">TSNE</label><div class=\"sk-toggleable__content\"><pre>TSNE(init=&#x27;random&#x27;, learning_rate=&#x27;auto&#x27;, random_state=42, verbose=1)</pre></div></div></div></div></div>"
      ],
      "text/plain": [
       "TSNE(init='random', learning_rate='auto', random_state=42, verbose=1)"
      ]
     },
     "execution_count": 166,
     "metadata": {},
     "output_type": "execute_result"
    }
   ],
   "source": [
    "def train_and_fingerprint(epochs, learning_rate, files_to_fingerprint) :\n",
    "    if epochs>0:\n",
    "        learn.fit_one_cycle(epochs,slice(learning_rate))\n",
    "    fingerprints = fingerprint_all(files_to_fingerprint)\n",
    "    return visualize(fingerprints, fingerprints_to_highlight = [fps1, fps2]) \n",
    "\n",
    "train_and_fingerprint(0, .0005, fnames)"
   ]
  }
 ],
 "metadata": {
  "kernelspec": {
   "display_name": "Python [conda env:fastai.v5]",
   "language": "python",
   "name": "conda-env-fastai.v5-py"
  },
  "language_info": {
   "codemirror_mode": {
    "name": "ipython",
    "version": 3
   },
   "file_extension": ".py",
   "mimetype": "text/x-python",
   "name": "python",
   "nbconvert_exporter": "python",
   "pygments_lexer": "ipython3",
   "version": "3.10.4"
  },
  "widgets": {
   "application/vnd.jupyter.widget-state+json": {
    "state": {},
    "version_major": 2,
    "version_minor": 0
   }
  }
 },
 "nbformat": 4,
 "nbformat_minor": 5
}
